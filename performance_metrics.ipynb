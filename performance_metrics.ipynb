{
  "metadata": {
    "kernelspec": {
      "language": "python",
      "display_name": "Python 3",
      "name": "python3"
    },
    "language_info": {
      "pygments_lexer": "ipython3",
      "nbconvert_exporter": "python",
      "version": "3.6.4",
      "file_extension": ".py",
      "codemirror_mode": {
        "name": "ipython",
        "version": 3
      },
      "name": "python",
      "mimetype": "text/x-python"
    },
    "colab": {
      "provenance": [],
      "include_colab_link": true
    }
  },
  "nbformat_minor": 0,
  "nbformat": 4,
  "cells": [
    {
      "cell_type": "markdown",
      "metadata": {
        "id": "view-in-github",
        "colab_type": "text"
      },
      "source": [
        "<a href=\"https://colab.research.google.com/github/sandeepangh782/ML-21CSC307P/blob/main/performance_metrics.ipynb\" target=\"_parent\"><img src=\"https://colab.research.google.com/assets/colab-badge.svg\" alt=\"Open In Colab\"/></a>"
      ]
    },
    {
      "cell_type": "code",
      "source": [
        "# This Python 3 environment comes with many helpful analytics libraries installed\n",
        "# It is defined by the kaggle/python Docker image: https://github.com/kaggle/docker-python\n",
        "# For example, here's several helpful packages to load\n",
        "\n",
        "import numpy as np # linear algebra\n",
        "import pandas as pd # data processing, CSV file I/O (e.g. pd.read_csv)\n",
        "\n",
        "# Input data files are available in the read-only \"../input/\" directory\n",
        "\n",
        "# You can write up to 20GB to the current directory (/kaggle/working/) that gets preserved as output when you create a version using \"Save & Run All\"\n",
        "# You can also write temporary files to /kaggle/temp/, but they won't be saved outside of the current session"
      ],
      "metadata": {
        "papermill": {
          "duration": 0.059373,
          "end_time": "2022-07-15T02:28:28.370642",
          "exception": false,
          "start_time": "2022-07-15T02:28:28.311269",
          "status": "completed"
        },
        "tags": [],
        "execution": {
          "iopub.status.busy": "2022-08-05T07:33:23.434233Z",
          "iopub.execute_input": "2022-08-05T07:33:23.434631Z",
          "iopub.status.idle": "2022-08-05T07:33:23.445673Z",
          "shell.execute_reply.started": "2022-08-05T07:33:23.434598Z",
          "shell.execute_reply": "2022-08-05T07:33:23.444449Z"
        },
        "trusted": true,
        "id": "6K5U2kcDktqN"
      },
      "execution_count": 1,
      "outputs": []
    },
    {
      "cell_type": "markdown",
      "source": [
        "<div style=\"color:white;background-color:Fuchsia;padding:3%;border-radius:150px 150px;font-size:1.5em;text-align:center\"> <font color=\"White\" size=+2.5 face=\"Lucida Calligraphy\"><div style=\"align:center: justify\">Evaluation Metrics in ML/AI for Classification </font></div>"
      ],
      "metadata": {
        "papermill": {
          "duration": 0.031934,
          "end_time": "2022-07-15T02:28:28.436816",
          "exception": false,
          "start_time": "2022-07-15T02:28:28.404882",
          "status": "completed"
        },
        "tags": [],
        "id": "8Q1L4aMhktqP"
      }
    },
    {
      "cell_type": "markdown",
      "source": [
        "<font color=\"Fuchsia\"><h1 style=\"text-align: justify; font-family: 'Lucida Calligraphy'; font-size:30px; color:Fuchsia\"> Introduction  </h1>"
      ],
      "metadata": {
        "id": "hPz4DH1cktqR"
      }
    },
    {
      "cell_type": "markdown",
      "source": [
        "<font color=\"Fuchsia\"><h2 style=\"text-align: justify; font-family: 'Lucida Calligraphy'; font-size:25px; color:Fuchsia\"> This notebook aims to:  </h2>"
      ],
      "metadata": {
        "id": "ynKEYbiHktqR"
      }
    },
    {
      "cell_type": "markdown",
      "source": [
        " <div style=\"color:white;\n",
        "           display:fill;\n",
        "           border-radius:5px;\n",
        "           background-color:#5F1666;\n",
        "           font-size:22px;\n",
        "           font-family:Nexa;\n",
        "           letter-spacing:0.5px\">\n",
        "        <p style=\"padding: 15px;\n",
        "              color:white;\">\n",
        "            <b>Explain different types of Evaluation Metrics used in ML/AI</b>\n",
        "        </p>"
      ],
      "metadata": {
        "id": "p4gDNI9qktqR"
      }
    },
    {
      "cell_type": "markdown",
      "source": [
        "<font color=\"Fuchsia\"><h1 style=\"text-align: justify; font-family: 'Lucida Calligraphy'; font-size:20px; color:Fuchsia\"> The different types of Evaluation Metrics used in this project are:  </h1>"
      ],
      "metadata": {
        "id": "NMnAtE4kktqR"
      }
    },
    {
      "cell_type": "markdown",
      "source": [
        "1.Confusion Matrix\n",
        "\n",
        "2.Classification Report\n",
        "\n",
        "3.Classification accuracy\n",
        "\n",
        "4.Classification Error\n",
        "\n",
        "5.Precision\n",
        "\n",
        "6.Recall\n",
        "\n",
        "7.True Positive Rate\n",
        "\n",
        "8.True False Positive Rate\n",
        "\n",
        "9.Specificity\n",
        "\n",
        "10.Sensitivity\n",
        "\n",
        "11.F1 Score\n",
        "\n",
        "12.Support\n",
        "\n",
        "13.ROC CUrve\n",
        "\n",
        "14.Precision Recall Curve"
      ],
      "metadata": {
        "id": "8C59IEt3ktqR"
      }
    },
    {
      "cell_type": "markdown",
      "source": [
        "<font color=\"Fuchsia\"><h1 style=\"text-align: justify; font-family: 'Lucida Calligraphy'; font-size:30px; color:Fuchsia\"> Library Importing  </h1>"
      ],
      "metadata": {
        "papermill": {
          "duration": 0.031718,
          "end_time": "2022-07-15T02:28:28.632623",
          "exception": false,
          "start_time": "2022-07-15T02:28:28.600905",
          "status": "completed"
        },
        "tags": [],
        "id": "CX0aY0d9ktqS"
      }
    },
    {
      "cell_type": "code",
      "source": [
        "pip install --upgrade scikit-learn\n"
      ],
      "metadata": {
        "colab": {
          "base_uri": "https://localhost:8080/",
          "height": 365
        },
        "id": "XBwyTYsunqdd",
        "outputId": "53fa78ee-fac6-416d-d630-5b45a04aba05"
      },
      "execution_count": 10,
      "outputs": [
        {
          "output_type": "stream",
          "name": "stdout",
          "text": [
            "Requirement already satisfied: scikit-learn in /usr/local/lib/python3.10/dist-packages (1.2.2)\n",
            "Collecting scikit-learn\n",
            "  Downloading scikit_learn-1.3.2-cp310-cp310-manylinux_2_17_x86_64.manylinux2014_x86_64.whl (10.8 MB)\n",
            "\u001b[2K     \u001b[90m━━━━━━━━━━━━━━━━━━━━━━━━━━━━━━━━━━━━━━━━\u001b[0m \u001b[32m10.8/10.8 MB\u001b[0m \u001b[31m77.3 MB/s\u001b[0m eta \u001b[36m0:00:00\u001b[0m\n",
            "\u001b[?25hRequirement already satisfied: numpy<2.0,>=1.17.3 in /usr/local/lib/python3.10/dist-packages (from scikit-learn) (1.23.5)\n",
            "Requirement already satisfied: scipy>=1.5.0 in /usr/local/lib/python3.10/dist-packages (from scikit-learn) (1.11.3)\n",
            "Requirement already satisfied: joblib>=1.1.1 in /usr/local/lib/python3.10/dist-packages (from scikit-learn) (1.3.2)\n",
            "Requirement already satisfied: threadpoolctl>=2.0.0 in /usr/local/lib/python3.10/dist-packages (from scikit-learn) (3.2.0)\n",
            "Installing collected packages: scikit-learn\n",
            "  Attempting uninstall: scikit-learn\n",
            "    Found existing installation: scikit-learn 1.2.2\n",
            "    Uninstalling scikit-learn-1.2.2:\n",
            "      Successfully uninstalled scikit-learn-1.2.2\n",
            "Successfully installed scikit-learn-1.3.2\n"
          ]
        },
        {
          "output_type": "display_data",
          "data": {
            "application/vnd.colab-display-data+json": {
              "pip_warning": {
                "packages": [
                  "sklearn"
                ]
              }
            }
          },
          "metadata": {}
        }
      ]
    },
    {
      "cell_type": "code",
      "source": [
        "import pandas as pd\n",
        "import numpy as np\n",
        "import seaborn as sns\n",
        "import matplotlib.pyplot as plt\n",
        "%matplotlib inline\n",
        "\n",
        "from sklearn.metrics import confusion_matrix,roc_auc_score, roc_curve, f1_score, accuracy_score\n",
        "from sklearn.metrics import make_scorer, precision_score, precision_recall_curve, precision_recall_curve\n",
        "from sklearn.metrics import recall_score, roc_curve\n",
        "\n",
        "import warnings\n",
        "warnings.filterwarnings('ignore')"
      ],
      "metadata": {
        "papermill": {
          "duration": 0.946377,
          "end_time": "2022-07-15T02:28:29.612715",
          "exception": false,
          "start_time": "2022-07-15T02:28:28.666338",
          "status": "completed"
        },
        "tags": [],
        "execution": {
          "iopub.status.busy": "2022-08-05T07:33:23.466528Z",
          "iopub.execute_input": "2022-08-05T07:33:23.468041Z",
          "iopub.status.idle": "2022-08-05T07:33:23.47691Z",
          "shell.execute_reply.started": "2022-08-05T07:33:23.467997Z",
          "shell.execute_reply": "2022-08-05T07:33:23.475656Z"
        },
        "trusted": true,
        "id": "1vFVI9o0ktqS"
      },
      "execution_count": 7,
      "outputs": []
    },
    {
      "cell_type": "code",
      "source": [
        "pd.set_option('display.max_columns',None)\n",
        "pd.set_option('display.max_rows',None)\n",
        "pd.set_option(\"display.precision\", 3)"
      ],
      "metadata": {
        "papermill": {
          "duration": 0.04012,
          "end_time": "2022-07-15T02:28:29.768955",
          "exception": false,
          "start_time": "2022-07-15T02:28:29.728835",
          "status": "completed"
        },
        "tags": [],
        "execution": {
          "iopub.status.busy": "2022-08-05T07:33:23.493842Z",
          "iopub.execute_input": "2022-08-05T07:33:23.494689Z",
          "iopub.status.idle": "2022-08-05T07:33:23.500376Z",
          "shell.execute_reply.started": "2022-08-05T07:33:23.494649Z",
          "shell.execute_reply": "2022-08-05T07:33:23.499014Z"
        },
        "trusted": true,
        "id": "8_WBOsBBktqS"
      },
      "execution_count": 8,
      "outputs": []
    },
    {
      "cell_type": "code",
      "source": [
        "from google.colab import drive\n",
        "drive.mount('/content/gdrive')\n",
        "heart = pd.read_csv(r'/content/gdrive/MyDrive/Multivariate/heart.csv')\n",
        "\n",
        "heart.head().style.set_properties(**{'background-color': 'Olive',\n",
        "                           'color': 'white',\n",
        "                           'border-color': 'darkblack'})"
      ],
      "metadata": {
        "papermill": {
          "duration": 0.12442,
          "end_time": "2022-07-15T02:28:29.925724",
          "exception": false,
          "start_time": "2022-07-15T02:28:29.801304",
          "status": "completed"
        },
        "tags": [],
        "execution": {
          "iopub.status.busy": "2022-08-05T07:33:23.535365Z",
          "iopub.execute_input": "2022-08-05T07:33:23.535774Z",
          "iopub.status.idle": "2022-08-05T07:33:23.568491Z",
          "shell.execute_reply.started": "2022-08-05T07:33:23.53574Z",
          "shell.execute_reply": "2022-08-05T07:33:23.567227Z"
        },
        "trusted": true,
        "colab": {
          "base_uri": "https://localhost:8080/",
          "height": 224
        },
        "id": "fGAg5B36ktqS",
        "outputId": "ad679b7a-6fe4-4edb-ca44-95edc03393a0"
      },
      "execution_count": 9,
      "outputs": [
        {
          "output_type": "stream",
          "name": "stdout",
          "text": [
            "Mounted at /content/gdrive\n"
          ]
        },
        {
          "output_type": "execute_result",
          "data": {
            "text/plain": [
              "<pandas.io.formats.style.Styler at 0x79c68f043940>"
            ],
            "text/html": [
              "<style type=\"text/css\">\n",
              "#T_0a510_row0_col0, #T_0a510_row0_col1, #T_0a510_row0_col2, #T_0a510_row0_col3, #T_0a510_row0_col4, #T_0a510_row0_col5, #T_0a510_row0_col6, #T_0a510_row0_col7, #T_0a510_row0_col8, #T_0a510_row0_col9, #T_0a510_row0_col10, #T_0a510_row0_col11, #T_0a510_row1_col0, #T_0a510_row1_col1, #T_0a510_row1_col2, #T_0a510_row1_col3, #T_0a510_row1_col4, #T_0a510_row1_col5, #T_0a510_row1_col6, #T_0a510_row1_col7, #T_0a510_row1_col8, #T_0a510_row1_col9, #T_0a510_row1_col10, #T_0a510_row1_col11, #T_0a510_row2_col0, #T_0a510_row2_col1, #T_0a510_row2_col2, #T_0a510_row2_col3, #T_0a510_row2_col4, #T_0a510_row2_col5, #T_0a510_row2_col6, #T_0a510_row2_col7, #T_0a510_row2_col8, #T_0a510_row2_col9, #T_0a510_row2_col10, #T_0a510_row2_col11, #T_0a510_row3_col0, #T_0a510_row3_col1, #T_0a510_row3_col2, #T_0a510_row3_col3, #T_0a510_row3_col4, #T_0a510_row3_col5, #T_0a510_row3_col6, #T_0a510_row3_col7, #T_0a510_row3_col8, #T_0a510_row3_col9, #T_0a510_row3_col10, #T_0a510_row3_col11, #T_0a510_row4_col0, #T_0a510_row4_col1, #T_0a510_row4_col2, #T_0a510_row4_col3, #T_0a510_row4_col4, #T_0a510_row4_col5, #T_0a510_row4_col6, #T_0a510_row4_col7, #T_0a510_row4_col8, #T_0a510_row4_col9, #T_0a510_row4_col10, #T_0a510_row4_col11 {\n",
              "  background-color: Olive;\n",
              "  color: white;\n",
              "  border-color: darkblack;\n",
              "}\n",
              "</style>\n",
              "<table id=\"T_0a510\" class=\"dataframe\">\n",
              "  <thead>\n",
              "    <tr>\n",
              "      <th class=\"blank level0\" >&nbsp;</th>\n",
              "      <th id=\"T_0a510_level0_col0\" class=\"col_heading level0 col0\" >Age</th>\n",
              "      <th id=\"T_0a510_level0_col1\" class=\"col_heading level0 col1\" >Sex</th>\n",
              "      <th id=\"T_0a510_level0_col2\" class=\"col_heading level0 col2\" >ChestPainType</th>\n",
              "      <th id=\"T_0a510_level0_col3\" class=\"col_heading level0 col3\" >RestingBP</th>\n",
              "      <th id=\"T_0a510_level0_col4\" class=\"col_heading level0 col4\" >Cholesterol</th>\n",
              "      <th id=\"T_0a510_level0_col5\" class=\"col_heading level0 col5\" >FastingBS</th>\n",
              "      <th id=\"T_0a510_level0_col6\" class=\"col_heading level0 col6\" >RestingECG</th>\n",
              "      <th id=\"T_0a510_level0_col7\" class=\"col_heading level0 col7\" >MaxHR</th>\n",
              "      <th id=\"T_0a510_level0_col8\" class=\"col_heading level0 col8\" >ExerciseAngina</th>\n",
              "      <th id=\"T_0a510_level0_col9\" class=\"col_heading level0 col9\" >Oldpeak</th>\n",
              "      <th id=\"T_0a510_level0_col10\" class=\"col_heading level0 col10\" >ST_Slope</th>\n",
              "      <th id=\"T_0a510_level0_col11\" class=\"col_heading level0 col11\" >HeartDisease</th>\n",
              "    </tr>\n",
              "  </thead>\n",
              "  <tbody>\n",
              "    <tr>\n",
              "      <th id=\"T_0a510_level0_row0\" class=\"row_heading level0 row0\" >0</th>\n",
              "      <td id=\"T_0a510_row0_col0\" class=\"data row0 col0\" >40</td>\n",
              "      <td id=\"T_0a510_row0_col1\" class=\"data row0 col1\" >M</td>\n",
              "      <td id=\"T_0a510_row0_col2\" class=\"data row0 col2\" >ATA</td>\n",
              "      <td id=\"T_0a510_row0_col3\" class=\"data row0 col3\" >140</td>\n",
              "      <td id=\"T_0a510_row0_col4\" class=\"data row0 col4\" >289</td>\n",
              "      <td id=\"T_0a510_row0_col5\" class=\"data row0 col5\" >0</td>\n",
              "      <td id=\"T_0a510_row0_col6\" class=\"data row0 col6\" >Normal</td>\n",
              "      <td id=\"T_0a510_row0_col7\" class=\"data row0 col7\" >172</td>\n",
              "      <td id=\"T_0a510_row0_col8\" class=\"data row0 col8\" >N</td>\n",
              "      <td id=\"T_0a510_row0_col9\" class=\"data row0 col9\" >0.000000</td>\n",
              "      <td id=\"T_0a510_row0_col10\" class=\"data row0 col10\" >Up</td>\n",
              "      <td id=\"T_0a510_row0_col11\" class=\"data row0 col11\" >0</td>\n",
              "    </tr>\n",
              "    <tr>\n",
              "      <th id=\"T_0a510_level0_row1\" class=\"row_heading level0 row1\" >1</th>\n",
              "      <td id=\"T_0a510_row1_col0\" class=\"data row1 col0\" >49</td>\n",
              "      <td id=\"T_0a510_row1_col1\" class=\"data row1 col1\" >F</td>\n",
              "      <td id=\"T_0a510_row1_col2\" class=\"data row1 col2\" >NAP</td>\n",
              "      <td id=\"T_0a510_row1_col3\" class=\"data row1 col3\" >160</td>\n",
              "      <td id=\"T_0a510_row1_col4\" class=\"data row1 col4\" >180</td>\n",
              "      <td id=\"T_0a510_row1_col5\" class=\"data row1 col5\" >0</td>\n",
              "      <td id=\"T_0a510_row1_col6\" class=\"data row1 col6\" >Normal</td>\n",
              "      <td id=\"T_0a510_row1_col7\" class=\"data row1 col7\" >156</td>\n",
              "      <td id=\"T_0a510_row1_col8\" class=\"data row1 col8\" >N</td>\n",
              "      <td id=\"T_0a510_row1_col9\" class=\"data row1 col9\" >1.000000</td>\n",
              "      <td id=\"T_0a510_row1_col10\" class=\"data row1 col10\" >Flat</td>\n",
              "      <td id=\"T_0a510_row1_col11\" class=\"data row1 col11\" >1</td>\n",
              "    </tr>\n",
              "    <tr>\n",
              "      <th id=\"T_0a510_level0_row2\" class=\"row_heading level0 row2\" >2</th>\n",
              "      <td id=\"T_0a510_row2_col0\" class=\"data row2 col0\" >37</td>\n",
              "      <td id=\"T_0a510_row2_col1\" class=\"data row2 col1\" >M</td>\n",
              "      <td id=\"T_0a510_row2_col2\" class=\"data row2 col2\" >ATA</td>\n",
              "      <td id=\"T_0a510_row2_col3\" class=\"data row2 col3\" >130</td>\n",
              "      <td id=\"T_0a510_row2_col4\" class=\"data row2 col4\" >283</td>\n",
              "      <td id=\"T_0a510_row2_col5\" class=\"data row2 col5\" >0</td>\n",
              "      <td id=\"T_0a510_row2_col6\" class=\"data row2 col6\" >ST</td>\n",
              "      <td id=\"T_0a510_row2_col7\" class=\"data row2 col7\" >98</td>\n",
              "      <td id=\"T_0a510_row2_col8\" class=\"data row2 col8\" >N</td>\n",
              "      <td id=\"T_0a510_row2_col9\" class=\"data row2 col9\" >0.000000</td>\n",
              "      <td id=\"T_0a510_row2_col10\" class=\"data row2 col10\" >Up</td>\n",
              "      <td id=\"T_0a510_row2_col11\" class=\"data row2 col11\" >0</td>\n",
              "    </tr>\n",
              "    <tr>\n",
              "      <th id=\"T_0a510_level0_row3\" class=\"row_heading level0 row3\" >3</th>\n",
              "      <td id=\"T_0a510_row3_col0\" class=\"data row3 col0\" >48</td>\n",
              "      <td id=\"T_0a510_row3_col1\" class=\"data row3 col1\" >F</td>\n",
              "      <td id=\"T_0a510_row3_col2\" class=\"data row3 col2\" >ASY</td>\n",
              "      <td id=\"T_0a510_row3_col3\" class=\"data row3 col3\" >138</td>\n",
              "      <td id=\"T_0a510_row3_col4\" class=\"data row3 col4\" >214</td>\n",
              "      <td id=\"T_0a510_row3_col5\" class=\"data row3 col5\" >0</td>\n",
              "      <td id=\"T_0a510_row3_col6\" class=\"data row3 col6\" >Normal</td>\n",
              "      <td id=\"T_0a510_row3_col7\" class=\"data row3 col7\" >108</td>\n",
              "      <td id=\"T_0a510_row3_col8\" class=\"data row3 col8\" >Y</td>\n",
              "      <td id=\"T_0a510_row3_col9\" class=\"data row3 col9\" >1.500000</td>\n",
              "      <td id=\"T_0a510_row3_col10\" class=\"data row3 col10\" >Flat</td>\n",
              "      <td id=\"T_0a510_row3_col11\" class=\"data row3 col11\" >1</td>\n",
              "    </tr>\n",
              "    <tr>\n",
              "      <th id=\"T_0a510_level0_row4\" class=\"row_heading level0 row4\" >4</th>\n",
              "      <td id=\"T_0a510_row4_col0\" class=\"data row4 col0\" >54</td>\n",
              "      <td id=\"T_0a510_row4_col1\" class=\"data row4 col1\" >M</td>\n",
              "      <td id=\"T_0a510_row4_col2\" class=\"data row4 col2\" >NAP</td>\n",
              "      <td id=\"T_0a510_row4_col3\" class=\"data row4 col3\" >150</td>\n",
              "      <td id=\"T_0a510_row4_col4\" class=\"data row4 col4\" >195</td>\n",
              "      <td id=\"T_0a510_row4_col5\" class=\"data row4 col5\" >0</td>\n",
              "      <td id=\"T_0a510_row4_col6\" class=\"data row4 col6\" >Normal</td>\n",
              "      <td id=\"T_0a510_row4_col7\" class=\"data row4 col7\" >122</td>\n",
              "      <td id=\"T_0a510_row4_col8\" class=\"data row4 col8\" >N</td>\n",
              "      <td id=\"T_0a510_row4_col9\" class=\"data row4 col9\" >0.000000</td>\n",
              "      <td id=\"T_0a510_row4_col10\" class=\"data row4 col10\" >Up</td>\n",
              "      <td id=\"T_0a510_row4_col11\" class=\"data row4 col11\" >0</td>\n",
              "    </tr>\n",
              "  </tbody>\n",
              "</table>\n"
            ]
          },
          "metadata": {},
          "execution_count": 9
        }
      ]
    },
    {
      "cell_type": "code",
      "source": [
        "display(heart.shape)\n",
        "display(heart.size)"
      ],
      "metadata": {
        "papermill": {
          "duration": 0.043007,
          "end_time": "2022-07-15T02:28:30.067223",
          "exception": false,
          "start_time": "2022-07-15T02:28:30.024216",
          "status": "completed"
        },
        "tags": [],
        "execution": {
          "iopub.status.busy": "2022-08-05T07:33:23.590399Z",
          "iopub.execute_input": "2022-08-05T07:33:23.591044Z",
          "iopub.status.idle": "2022-08-05T07:33:23.599484Z",
          "shell.execute_reply.started": "2022-08-05T07:33:23.591009Z",
          "shell.execute_reply": "2022-08-05T07:33:23.598467Z"
        },
        "trusted": true,
        "id": "LLU6TIRyktqT",
        "colab": {
          "base_uri": "https://localhost:8080/",
          "height": 53
        },
        "outputId": "33e93da5-9b44-4740-982a-01b2839c7d91"
      },
      "execution_count": 10,
      "outputs": [
        {
          "output_type": "display_data",
          "data": {
            "text/plain": [
              "(918, 12)"
            ]
          },
          "metadata": {}
        },
        {
          "output_type": "display_data",
          "data": {
            "text/plain": [
              "11016"
            ]
          },
          "metadata": {}
        }
      ]
    },
    {
      "cell_type": "code",
      "source": [
        "heart.info()"
      ],
      "metadata": {
        "papermill": {
          "duration": 0.054197,
          "end_time": "2022-07-15T02:28:30.154562",
          "exception": false,
          "start_time": "2022-07-15T02:28:30.100365",
          "status": "completed"
        },
        "tags": [],
        "execution": {
          "iopub.status.busy": "2022-08-05T07:33:23.63178Z",
          "iopub.execute_input": "2022-08-05T07:33:23.632724Z",
          "iopub.status.idle": "2022-08-05T07:33:23.647936Z",
          "shell.execute_reply.started": "2022-08-05T07:33:23.632681Z",
          "shell.execute_reply": "2022-08-05T07:33:23.647049Z"
        },
        "trusted": true,
        "id": "wXdZD9v8ktqT",
        "colab": {
          "base_uri": "https://localhost:8080/"
        },
        "outputId": "06c4ab20-6c3a-4f28-c0c9-c5bba7db84e5"
      },
      "execution_count": 11,
      "outputs": [
        {
          "output_type": "stream",
          "name": "stdout",
          "text": [
            "<class 'pandas.core.frame.DataFrame'>\n",
            "RangeIndex: 918 entries, 0 to 917\n",
            "Data columns (total 12 columns):\n",
            " #   Column          Non-Null Count  Dtype  \n",
            "---  ------          --------------  -----  \n",
            " 0   Age             918 non-null    int64  \n",
            " 1   Sex             918 non-null    object \n",
            " 2   ChestPainType   918 non-null    object \n",
            " 3   RestingBP       918 non-null    int64  \n",
            " 4   Cholesterol     918 non-null    int64  \n",
            " 5   FastingBS       918 non-null    int64  \n",
            " 6   RestingECG      918 non-null    object \n",
            " 7   MaxHR           918 non-null    int64  \n",
            " 8   ExerciseAngina  918 non-null    object \n",
            " 9   Oldpeak         918 non-null    float64\n",
            " 10  ST_Slope        918 non-null    object \n",
            " 11  HeartDisease    918 non-null    int64  \n",
            "dtypes: float64(1), int64(6), object(5)\n",
            "memory usage: 86.2+ KB\n"
          ]
        }
      ]
    },
    {
      "cell_type": "code",
      "source": [
        "heart.describe()"
      ],
      "metadata": {
        "papermill": {
          "duration": 0.068334,
          "end_time": "2022-07-15T02:28:30.256273",
          "exception": false,
          "start_time": "2022-07-15T02:28:30.187939",
          "status": "completed"
        },
        "tags": [],
        "execution": {
          "iopub.status.busy": "2022-08-05T07:33:23.683207Z",
          "iopub.execute_input": "2022-08-05T07:33:23.685523Z",
          "iopub.status.idle": "2022-08-05T07:33:23.718838Z",
          "shell.execute_reply.started": "2022-08-05T07:33:23.68548Z",
          "shell.execute_reply": "2022-08-05T07:33:23.717689Z"
        },
        "trusted": true,
        "id": "dtmwc_r8ktqT",
        "colab": {
          "base_uri": "https://localhost:8080/",
          "height": 300
        },
        "outputId": "ea7e9f76-6493-47fb-b71f-cead42f14fff"
      },
      "execution_count": 13,
      "outputs": [
        {
          "output_type": "execute_result",
          "data": {
            "text/plain": [
              "           Age  RestingBP  Cholesterol  FastingBS    MaxHR  Oldpeak  \\\n",
              "count  918.000    918.000      918.000    918.000  918.000  918.000   \n",
              "mean    53.511    132.397      198.800      0.233  136.809    0.887   \n",
              "std      9.433     18.514      109.384      0.423   25.460    1.067   \n",
              "min     28.000      0.000        0.000      0.000   60.000   -2.600   \n",
              "25%     47.000    120.000      173.250      0.000  120.000    0.000   \n",
              "50%     54.000    130.000      223.000      0.000  138.000    0.600   \n",
              "75%     60.000    140.000      267.000      0.000  156.000    1.500   \n",
              "max     77.000    200.000      603.000      1.000  202.000    6.200   \n",
              "\n",
              "       HeartDisease  \n",
              "count       918.000  \n",
              "mean          0.553  \n",
              "std           0.497  \n",
              "min           0.000  \n",
              "25%           0.000  \n",
              "50%           1.000  \n",
              "75%           1.000  \n",
              "max           1.000  "
            ],
            "text/html": [
              "\n",
              "  <div id=\"df-e15da863-1ff9-4ed8-a381-38ee4fff24b8\" class=\"colab-df-container\">\n",
              "    <div>\n",
              "<style scoped>\n",
              "    .dataframe tbody tr th:only-of-type {\n",
              "        vertical-align: middle;\n",
              "    }\n",
              "\n",
              "    .dataframe tbody tr th {\n",
              "        vertical-align: top;\n",
              "    }\n",
              "\n",
              "    .dataframe thead th {\n",
              "        text-align: right;\n",
              "    }\n",
              "</style>\n",
              "<table border=\"1\" class=\"dataframe\">\n",
              "  <thead>\n",
              "    <tr style=\"text-align: right;\">\n",
              "      <th></th>\n",
              "      <th>Age</th>\n",
              "      <th>RestingBP</th>\n",
              "      <th>Cholesterol</th>\n",
              "      <th>FastingBS</th>\n",
              "      <th>MaxHR</th>\n",
              "      <th>Oldpeak</th>\n",
              "      <th>HeartDisease</th>\n",
              "    </tr>\n",
              "  </thead>\n",
              "  <tbody>\n",
              "    <tr>\n",
              "      <th>count</th>\n",
              "      <td>918.000</td>\n",
              "      <td>918.000</td>\n",
              "      <td>918.000</td>\n",
              "      <td>918.000</td>\n",
              "      <td>918.000</td>\n",
              "      <td>918.000</td>\n",
              "      <td>918.000</td>\n",
              "    </tr>\n",
              "    <tr>\n",
              "      <th>mean</th>\n",
              "      <td>53.511</td>\n",
              "      <td>132.397</td>\n",
              "      <td>198.800</td>\n",
              "      <td>0.233</td>\n",
              "      <td>136.809</td>\n",
              "      <td>0.887</td>\n",
              "      <td>0.553</td>\n",
              "    </tr>\n",
              "    <tr>\n",
              "      <th>std</th>\n",
              "      <td>9.433</td>\n",
              "      <td>18.514</td>\n",
              "      <td>109.384</td>\n",
              "      <td>0.423</td>\n",
              "      <td>25.460</td>\n",
              "      <td>1.067</td>\n",
              "      <td>0.497</td>\n",
              "    </tr>\n",
              "    <tr>\n",
              "      <th>min</th>\n",
              "      <td>28.000</td>\n",
              "      <td>0.000</td>\n",
              "      <td>0.000</td>\n",
              "      <td>0.000</td>\n",
              "      <td>60.000</td>\n",
              "      <td>-2.600</td>\n",
              "      <td>0.000</td>\n",
              "    </tr>\n",
              "    <tr>\n",
              "      <th>25%</th>\n",
              "      <td>47.000</td>\n",
              "      <td>120.000</td>\n",
              "      <td>173.250</td>\n",
              "      <td>0.000</td>\n",
              "      <td>120.000</td>\n",
              "      <td>0.000</td>\n",
              "      <td>0.000</td>\n",
              "    </tr>\n",
              "    <tr>\n",
              "      <th>50%</th>\n",
              "      <td>54.000</td>\n",
              "      <td>130.000</td>\n",
              "      <td>223.000</td>\n",
              "      <td>0.000</td>\n",
              "      <td>138.000</td>\n",
              "      <td>0.600</td>\n",
              "      <td>1.000</td>\n",
              "    </tr>\n",
              "    <tr>\n",
              "      <th>75%</th>\n",
              "      <td>60.000</td>\n",
              "      <td>140.000</td>\n",
              "      <td>267.000</td>\n",
              "      <td>0.000</td>\n",
              "      <td>156.000</td>\n",
              "      <td>1.500</td>\n",
              "      <td>1.000</td>\n",
              "    </tr>\n",
              "    <tr>\n",
              "      <th>max</th>\n",
              "      <td>77.000</td>\n",
              "      <td>200.000</td>\n",
              "      <td>603.000</td>\n",
              "      <td>1.000</td>\n",
              "      <td>202.000</td>\n",
              "      <td>6.200</td>\n",
              "      <td>1.000</td>\n",
              "    </tr>\n",
              "  </tbody>\n",
              "</table>\n",
              "</div>\n",
              "    <div class=\"colab-df-buttons\">\n",
              "\n",
              "  <div class=\"colab-df-container\">\n",
              "    <button class=\"colab-df-convert\" onclick=\"convertToInteractive('df-e15da863-1ff9-4ed8-a381-38ee4fff24b8')\"\n",
              "            title=\"Convert this dataframe to an interactive table.\"\n",
              "            style=\"display:none;\">\n",
              "\n",
              "  <svg xmlns=\"http://www.w3.org/2000/svg\" height=\"24px\" viewBox=\"0 -960 960 960\">\n",
              "    <path d=\"M120-120v-720h720v720H120Zm60-500h600v-160H180v160Zm220 220h160v-160H400v160Zm0 220h160v-160H400v160ZM180-400h160v-160H180v160Zm440 0h160v-160H620v160ZM180-180h160v-160H180v160Zm440 0h160v-160H620v160Z\"/>\n",
              "  </svg>\n",
              "    </button>\n",
              "\n",
              "  <style>\n",
              "    .colab-df-container {\n",
              "      display:flex;\n",
              "      gap: 12px;\n",
              "    }\n",
              "\n",
              "    .colab-df-convert {\n",
              "      background-color: #E8F0FE;\n",
              "      border: none;\n",
              "      border-radius: 50%;\n",
              "      cursor: pointer;\n",
              "      display: none;\n",
              "      fill: #1967D2;\n",
              "      height: 32px;\n",
              "      padding: 0 0 0 0;\n",
              "      width: 32px;\n",
              "    }\n",
              "\n",
              "    .colab-df-convert:hover {\n",
              "      background-color: #E2EBFA;\n",
              "      box-shadow: 0px 1px 2px rgba(60, 64, 67, 0.3), 0px 1px 3px 1px rgba(60, 64, 67, 0.15);\n",
              "      fill: #174EA6;\n",
              "    }\n",
              "\n",
              "    .colab-df-buttons div {\n",
              "      margin-bottom: 4px;\n",
              "    }\n",
              "\n",
              "    [theme=dark] .colab-df-convert {\n",
              "      background-color: #3B4455;\n",
              "      fill: #D2E3FC;\n",
              "    }\n",
              "\n",
              "    [theme=dark] .colab-df-convert:hover {\n",
              "      background-color: #434B5C;\n",
              "      box-shadow: 0px 1px 3px 1px rgba(0, 0, 0, 0.15);\n",
              "      filter: drop-shadow(0px 1px 2px rgba(0, 0, 0, 0.3));\n",
              "      fill: #FFFFFF;\n",
              "    }\n",
              "  </style>\n",
              "\n",
              "    <script>\n",
              "      const buttonEl =\n",
              "        document.querySelector('#df-e15da863-1ff9-4ed8-a381-38ee4fff24b8 button.colab-df-convert');\n",
              "      buttonEl.style.display =\n",
              "        google.colab.kernel.accessAllowed ? 'block' : 'none';\n",
              "\n",
              "      async function convertToInteractive(key) {\n",
              "        const element = document.querySelector('#df-e15da863-1ff9-4ed8-a381-38ee4fff24b8');\n",
              "        const dataTable =\n",
              "          await google.colab.kernel.invokeFunction('convertToInteractive',\n",
              "                                                    [key], {});\n",
              "        if (!dataTable) return;\n",
              "\n",
              "        const docLinkHtml = 'Like what you see? Visit the ' +\n",
              "          '<a target=\"_blank\" href=https://colab.research.google.com/notebooks/data_table.ipynb>data table notebook</a>'\n",
              "          + ' to learn more about interactive tables.';\n",
              "        element.innerHTML = '';\n",
              "        dataTable['output_type'] = 'display_data';\n",
              "        await google.colab.output.renderOutput(dataTable, element);\n",
              "        const docLink = document.createElement('div');\n",
              "        docLink.innerHTML = docLinkHtml;\n",
              "        element.appendChild(docLink);\n",
              "      }\n",
              "    </script>\n",
              "  </div>\n",
              "\n",
              "\n",
              "<div id=\"df-a4815dc8-171c-452a-a31a-dd9e204b46ef\">\n",
              "  <button class=\"colab-df-quickchart\" onclick=\"quickchart('df-a4815dc8-171c-452a-a31a-dd9e204b46ef')\"\n",
              "            title=\"Suggest charts.\"\n",
              "            style=\"display:none;\">\n",
              "\n",
              "<svg xmlns=\"http://www.w3.org/2000/svg\" height=\"24px\"viewBox=\"0 0 24 24\"\n",
              "     width=\"24px\">\n",
              "    <g>\n",
              "        <path d=\"M19 3H5c-1.1 0-2 .9-2 2v14c0 1.1.9 2 2 2h14c1.1 0 2-.9 2-2V5c0-1.1-.9-2-2-2zM9 17H7v-7h2v7zm4 0h-2V7h2v10zm4 0h-2v-4h2v4z\"/>\n",
              "    </g>\n",
              "</svg>\n",
              "  </button>\n",
              "\n",
              "<style>\n",
              "  .colab-df-quickchart {\n",
              "      --bg-color: #E8F0FE;\n",
              "      --fill-color: #1967D2;\n",
              "      --hover-bg-color: #E2EBFA;\n",
              "      --hover-fill-color: #174EA6;\n",
              "      --disabled-fill-color: #AAA;\n",
              "      --disabled-bg-color: #DDD;\n",
              "  }\n",
              "\n",
              "  [theme=dark] .colab-df-quickchart {\n",
              "      --bg-color: #3B4455;\n",
              "      --fill-color: #D2E3FC;\n",
              "      --hover-bg-color: #434B5C;\n",
              "      --hover-fill-color: #FFFFFF;\n",
              "      --disabled-bg-color: #3B4455;\n",
              "      --disabled-fill-color: #666;\n",
              "  }\n",
              "\n",
              "  .colab-df-quickchart {\n",
              "    background-color: var(--bg-color);\n",
              "    border: none;\n",
              "    border-radius: 50%;\n",
              "    cursor: pointer;\n",
              "    display: none;\n",
              "    fill: var(--fill-color);\n",
              "    height: 32px;\n",
              "    padding: 0;\n",
              "    width: 32px;\n",
              "  }\n",
              "\n",
              "  .colab-df-quickchart:hover {\n",
              "    background-color: var(--hover-bg-color);\n",
              "    box-shadow: 0 1px 2px rgba(60, 64, 67, 0.3), 0 1px 3px 1px rgba(60, 64, 67, 0.15);\n",
              "    fill: var(--button-hover-fill-color);\n",
              "  }\n",
              "\n",
              "  .colab-df-quickchart-complete:disabled,\n",
              "  .colab-df-quickchart-complete:disabled:hover {\n",
              "    background-color: var(--disabled-bg-color);\n",
              "    fill: var(--disabled-fill-color);\n",
              "    box-shadow: none;\n",
              "  }\n",
              "\n",
              "  .colab-df-spinner {\n",
              "    border: 2px solid var(--fill-color);\n",
              "    border-color: transparent;\n",
              "    border-bottom-color: var(--fill-color);\n",
              "    animation:\n",
              "      spin 1s steps(1) infinite;\n",
              "  }\n",
              "\n",
              "  @keyframes spin {\n",
              "    0% {\n",
              "      border-color: transparent;\n",
              "      border-bottom-color: var(--fill-color);\n",
              "      border-left-color: var(--fill-color);\n",
              "    }\n",
              "    20% {\n",
              "      border-color: transparent;\n",
              "      border-left-color: var(--fill-color);\n",
              "      border-top-color: var(--fill-color);\n",
              "    }\n",
              "    30% {\n",
              "      border-color: transparent;\n",
              "      border-left-color: var(--fill-color);\n",
              "      border-top-color: var(--fill-color);\n",
              "      border-right-color: var(--fill-color);\n",
              "    }\n",
              "    40% {\n",
              "      border-color: transparent;\n",
              "      border-right-color: var(--fill-color);\n",
              "      border-top-color: var(--fill-color);\n",
              "    }\n",
              "    60% {\n",
              "      border-color: transparent;\n",
              "      border-right-color: var(--fill-color);\n",
              "    }\n",
              "    80% {\n",
              "      border-color: transparent;\n",
              "      border-right-color: var(--fill-color);\n",
              "      border-bottom-color: var(--fill-color);\n",
              "    }\n",
              "    90% {\n",
              "      border-color: transparent;\n",
              "      border-bottom-color: var(--fill-color);\n",
              "    }\n",
              "  }\n",
              "</style>\n",
              "\n",
              "  <script>\n",
              "    async function quickchart(key) {\n",
              "      const quickchartButtonEl =\n",
              "        document.querySelector('#' + key + ' button');\n",
              "      quickchartButtonEl.disabled = true;  // To prevent multiple clicks.\n",
              "      quickchartButtonEl.classList.add('colab-df-spinner');\n",
              "      try {\n",
              "        const charts = await google.colab.kernel.invokeFunction(\n",
              "            'suggestCharts', [key], {});\n",
              "      } catch (error) {\n",
              "        console.error('Error during call to suggestCharts:', error);\n",
              "      }\n",
              "      quickchartButtonEl.classList.remove('colab-df-spinner');\n",
              "      quickchartButtonEl.classList.add('colab-df-quickchart-complete');\n",
              "    }\n",
              "    (() => {\n",
              "      let quickchartButtonEl =\n",
              "        document.querySelector('#df-a4815dc8-171c-452a-a31a-dd9e204b46ef button');\n",
              "      quickchartButtonEl.style.display =\n",
              "        google.colab.kernel.accessAllowed ? 'block' : 'none';\n",
              "    })();\n",
              "  </script>\n",
              "</div>\n",
              "    </div>\n",
              "  </div>\n"
            ]
          },
          "metadata": {},
          "execution_count": 13
        }
      ]
    },
    {
      "cell_type": "code",
      "source": [
        "heart.isnull().mean()*100"
      ],
      "metadata": {
        "papermill": {
          "duration": 0.045352,
          "end_time": "2022-07-15T02:28:30.336368",
          "exception": false,
          "start_time": "2022-07-15T02:28:30.291016",
          "status": "completed"
        },
        "tags": [],
        "execution": {
          "iopub.status.busy": "2022-08-05T07:33:27.163648Z",
          "iopub.execute_input": "2022-08-05T07:33:27.164908Z",
          "iopub.status.idle": "2022-08-05T07:33:27.178521Z",
          "shell.execute_reply.started": "2022-08-05T07:33:27.16486Z",
          "shell.execute_reply": "2022-08-05T07:33:27.177501Z"
        },
        "trusted": true,
        "id": "O0YTVWx7ktqT",
        "colab": {
          "base_uri": "https://localhost:8080/"
        },
        "outputId": "a1d30053-03db-4319-e1e0-dddc8d5662fe"
      },
      "execution_count": 14,
      "outputs": [
        {
          "output_type": "execute_result",
          "data": {
            "text/plain": [
              "Age               0.0\n",
              "Sex               0.0\n",
              "ChestPainType     0.0\n",
              "RestingBP         0.0\n",
              "Cholesterol       0.0\n",
              "FastingBS         0.0\n",
              "RestingECG        0.0\n",
              "MaxHR             0.0\n",
              "ExerciseAngina    0.0\n",
              "Oldpeak           0.0\n",
              "ST_Slope          0.0\n",
              "HeartDisease      0.0\n",
              "dtype: float64"
            ]
          },
          "metadata": {},
          "execution_count": 14
        }
      ]
    },
    {
      "cell_type": "code",
      "source": [
        "print(f'We have {heart.shape[0]} instances with the {heart.shape[1]-1} features and 1 output variable')"
      ],
      "metadata": {
        "papermill": {
          "duration": 0.044885,
          "end_time": "2022-07-15T02:28:31.965573",
          "exception": false,
          "start_time": "2022-07-15T02:28:31.920688",
          "status": "completed"
        },
        "tags": [],
        "execution": {
          "iopub.status.busy": "2022-08-05T07:33:27.685439Z",
          "iopub.execute_input": "2022-08-05T07:33:27.685744Z",
          "iopub.status.idle": "2022-08-05T07:33:27.692397Z",
          "shell.execute_reply.started": "2022-08-05T07:33:27.685717Z",
          "shell.execute_reply": "2022-08-05T07:33:27.691195Z"
        },
        "trusted": true,
        "id": "mxM38HBxktqU",
        "colab": {
          "base_uri": "https://localhost:8080/"
        },
        "outputId": "bcea4d1a-937d-405e-f371-1b682497fec2"
      },
      "execution_count": 16,
      "outputs": [
        {
          "output_type": "stream",
          "name": "stdout",
          "text": [
            "We have 918 instances with the 11 features and 1 output variable\n"
          ]
        }
      ]
    },
    {
      "cell_type": "code",
      "source": [
        "pd.DataFrame(abs(heart.corr()['HeartDisease']))"
      ],
      "metadata": {
        "papermill": {
          "duration": 0.060372,
          "end_time": "2022-07-15T02:28:32.063884",
          "exception": false,
          "start_time": "2022-07-15T02:28:32.003512",
          "status": "completed"
        },
        "tags": [],
        "execution": {
          "iopub.status.busy": "2022-08-05T07:33:27.693949Z",
          "iopub.execute_input": "2022-08-05T07:33:27.694395Z",
          "iopub.status.idle": "2022-08-05T07:33:27.708095Z",
          "shell.execute_reply.started": "2022-08-05T07:33:27.694353Z",
          "shell.execute_reply": "2022-08-05T07:33:27.706868Z"
        },
        "trusted": true,
        "id": "mYdUoZkpktqU",
        "colab": {
          "base_uri": "https://localhost:8080/",
          "height": 269
        },
        "outputId": "42801252-bd6c-43b0-ad10-28ac93831412"
      },
      "execution_count": 17,
      "outputs": [
        {
          "output_type": "execute_result",
          "data": {
            "text/plain": [
              "              HeartDisease\n",
              "Age                  0.282\n",
              "RestingBP            0.108\n",
              "Cholesterol          0.233\n",
              "FastingBS            0.267\n",
              "MaxHR                0.400\n",
              "Oldpeak              0.404\n",
              "HeartDisease         1.000"
            ],
            "text/html": [
              "\n",
              "  <div id=\"df-cf37d37b-d173-4337-b437-3323386a8829\" class=\"colab-df-container\">\n",
              "    <div>\n",
              "<style scoped>\n",
              "    .dataframe tbody tr th:only-of-type {\n",
              "        vertical-align: middle;\n",
              "    }\n",
              "\n",
              "    .dataframe tbody tr th {\n",
              "        vertical-align: top;\n",
              "    }\n",
              "\n",
              "    .dataframe thead th {\n",
              "        text-align: right;\n",
              "    }\n",
              "</style>\n",
              "<table border=\"1\" class=\"dataframe\">\n",
              "  <thead>\n",
              "    <tr style=\"text-align: right;\">\n",
              "      <th></th>\n",
              "      <th>HeartDisease</th>\n",
              "    </tr>\n",
              "  </thead>\n",
              "  <tbody>\n",
              "    <tr>\n",
              "      <th>Age</th>\n",
              "      <td>0.282</td>\n",
              "    </tr>\n",
              "    <tr>\n",
              "      <th>RestingBP</th>\n",
              "      <td>0.108</td>\n",
              "    </tr>\n",
              "    <tr>\n",
              "      <th>Cholesterol</th>\n",
              "      <td>0.233</td>\n",
              "    </tr>\n",
              "    <tr>\n",
              "      <th>FastingBS</th>\n",
              "      <td>0.267</td>\n",
              "    </tr>\n",
              "    <tr>\n",
              "      <th>MaxHR</th>\n",
              "      <td>0.400</td>\n",
              "    </tr>\n",
              "    <tr>\n",
              "      <th>Oldpeak</th>\n",
              "      <td>0.404</td>\n",
              "    </tr>\n",
              "    <tr>\n",
              "      <th>HeartDisease</th>\n",
              "      <td>1.000</td>\n",
              "    </tr>\n",
              "  </tbody>\n",
              "</table>\n",
              "</div>\n",
              "    <div class=\"colab-df-buttons\">\n",
              "\n",
              "  <div class=\"colab-df-container\">\n",
              "    <button class=\"colab-df-convert\" onclick=\"convertToInteractive('df-cf37d37b-d173-4337-b437-3323386a8829')\"\n",
              "            title=\"Convert this dataframe to an interactive table.\"\n",
              "            style=\"display:none;\">\n",
              "\n",
              "  <svg xmlns=\"http://www.w3.org/2000/svg\" height=\"24px\" viewBox=\"0 -960 960 960\">\n",
              "    <path d=\"M120-120v-720h720v720H120Zm60-500h600v-160H180v160Zm220 220h160v-160H400v160Zm0 220h160v-160H400v160ZM180-400h160v-160H180v160Zm440 0h160v-160H620v160ZM180-180h160v-160H180v160Zm440 0h160v-160H620v160Z\"/>\n",
              "  </svg>\n",
              "    </button>\n",
              "\n",
              "  <style>\n",
              "    .colab-df-container {\n",
              "      display:flex;\n",
              "      gap: 12px;\n",
              "    }\n",
              "\n",
              "    .colab-df-convert {\n",
              "      background-color: #E8F0FE;\n",
              "      border: none;\n",
              "      border-radius: 50%;\n",
              "      cursor: pointer;\n",
              "      display: none;\n",
              "      fill: #1967D2;\n",
              "      height: 32px;\n",
              "      padding: 0 0 0 0;\n",
              "      width: 32px;\n",
              "    }\n",
              "\n",
              "    .colab-df-convert:hover {\n",
              "      background-color: #E2EBFA;\n",
              "      box-shadow: 0px 1px 2px rgba(60, 64, 67, 0.3), 0px 1px 3px 1px rgba(60, 64, 67, 0.15);\n",
              "      fill: #174EA6;\n",
              "    }\n",
              "\n",
              "    .colab-df-buttons div {\n",
              "      margin-bottom: 4px;\n",
              "    }\n",
              "\n",
              "    [theme=dark] .colab-df-convert {\n",
              "      background-color: #3B4455;\n",
              "      fill: #D2E3FC;\n",
              "    }\n",
              "\n",
              "    [theme=dark] .colab-df-convert:hover {\n",
              "      background-color: #434B5C;\n",
              "      box-shadow: 0px 1px 3px 1px rgba(0, 0, 0, 0.15);\n",
              "      filter: drop-shadow(0px 1px 2px rgba(0, 0, 0, 0.3));\n",
              "      fill: #FFFFFF;\n",
              "    }\n",
              "  </style>\n",
              "\n",
              "    <script>\n",
              "      const buttonEl =\n",
              "        document.querySelector('#df-cf37d37b-d173-4337-b437-3323386a8829 button.colab-df-convert');\n",
              "      buttonEl.style.display =\n",
              "        google.colab.kernel.accessAllowed ? 'block' : 'none';\n",
              "\n",
              "      async function convertToInteractive(key) {\n",
              "        const element = document.querySelector('#df-cf37d37b-d173-4337-b437-3323386a8829');\n",
              "        const dataTable =\n",
              "          await google.colab.kernel.invokeFunction('convertToInteractive',\n",
              "                                                    [key], {});\n",
              "        if (!dataTable) return;\n",
              "\n",
              "        const docLinkHtml = 'Like what you see? Visit the ' +\n",
              "          '<a target=\"_blank\" href=https://colab.research.google.com/notebooks/data_table.ipynb>data table notebook</a>'\n",
              "          + ' to learn more about interactive tables.';\n",
              "        element.innerHTML = '';\n",
              "        dataTable['output_type'] = 'display_data';\n",
              "        await google.colab.output.renderOutput(dataTable, element);\n",
              "        const docLink = document.createElement('div');\n",
              "        docLink.innerHTML = docLinkHtml;\n",
              "        element.appendChild(docLink);\n",
              "      }\n",
              "    </script>\n",
              "  </div>\n",
              "\n",
              "\n",
              "<div id=\"df-37303bbe-834a-4e7a-95f2-5ded6227d65f\">\n",
              "  <button class=\"colab-df-quickchart\" onclick=\"quickchart('df-37303bbe-834a-4e7a-95f2-5ded6227d65f')\"\n",
              "            title=\"Suggest charts.\"\n",
              "            style=\"display:none;\">\n",
              "\n",
              "<svg xmlns=\"http://www.w3.org/2000/svg\" height=\"24px\"viewBox=\"0 0 24 24\"\n",
              "     width=\"24px\">\n",
              "    <g>\n",
              "        <path d=\"M19 3H5c-1.1 0-2 .9-2 2v14c0 1.1.9 2 2 2h14c1.1 0 2-.9 2-2V5c0-1.1-.9-2-2-2zM9 17H7v-7h2v7zm4 0h-2V7h2v10zm4 0h-2v-4h2v4z\"/>\n",
              "    </g>\n",
              "</svg>\n",
              "  </button>\n",
              "\n",
              "<style>\n",
              "  .colab-df-quickchart {\n",
              "      --bg-color: #E8F0FE;\n",
              "      --fill-color: #1967D2;\n",
              "      --hover-bg-color: #E2EBFA;\n",
              "      --hover-fill-color: #174EA6;\n",
              "      --disabled-fill-color: #AAA;\n",
              "      --disabled-bg-color: #DDD;\n",
              "  }\n",
              "\n",
              "  [theme=dark] .colab-df-quickchart {\n",
              "      --bg-color: #3B4455;\n",
              "      --fill-color: #D2E3FC;\n",
              "      --hover-bg-color: #434B5C;\n",
              "      --hover-fill-color: #FFFFFF;\n",
              "      --disabled-bg-color: #3B4455;\n",
              "      --disabled-fill-color: #666;\n",
              "  }\n",
              "\n",
              "  .colab-df-quickchart {\n",
              "    background-color: var(--bg-color);\n",
              "    border: none;\n",
              "    border-radius: 50%;\n",
              "    cursor: pointer;\n",
              "    display: none;\n",
              "    fill: var(--fill-color);\n",
              "    height: 32px;\n",
              "    padding: 0;\n",
              "    width: 32px;\n",
              "  }\n",
              "\n",
              "  .colab-df-quickchart:hover {\n",
              "    background-color: var(--hover-bg-color);\n",
              "    box-shadow: 0 1px 2px rgba(60, 64, 67, 0.3), 0 1px 3px 1px rgba(60, 64, 67, 0.15);\n",
              "    fill: var(--button-hover-fill-color);\n",
              "  }\n",
              "\n",
              "  .colab-df-quickchart-complete:disabled,\n",
              "  .colab-df-quickchart-complete:disabled:hover {\n",
              "    background-color: var(--disabled-bg-color);\n",
              "    fill: var(--disabled-fill-color);\n",
              "    box-shadow: none;\n",
              "  }\n",
              "\n",
              "  .colab-df-spinner {\n",
              "    border: 2px solid var(--fill-color);\n",
              "    border-color: transparent;\n",
              "    border-bottom-color: var(--fill-color);\n",
              "    animation:\n",
              "      spin 1s steps(1) infinite;\n",
              "  }\n",
              "\n",
              "  @keyframes spin {\n",
              "    0% {\n",
              "      border-color: transparent;\n",
              "      border-bottom-color: var(--fill-color);\n",
              "      border-left-color: var(--fill-color);\n",
              "    }\n",
              "    20% {\n",
              "      border-color: transparent;\n",
              "      border-left-color: var(--fill-color);\n",
              "      border-top-color: var(--fill-color);\n",
              "    }\n",
              "    30% {\n",
              "      border-color: transparent;\n",
              "      border-left-color: var(--fill-color);\n",
              "      border-top-color: var(--fill-color);\n",
              "      border-right-color: var(--fill-color);\n",
              "    }\n",
              "    40% {\n",
              "      border-color: transparent;\n",
              "      border-right-color: var(--fill-color);\n",
              "      border-top-color: var(--fill-color);\n",
              "    }\n",
              "    60% {\n",
              "      border-color: transparent;\n",
              "      border-right-color: var(--fill-color);\n",
              "    }\n",
              "    80% {\n",
              "      border-color: transparent;\n",
              "      border-right-color: var(--fill-color);\n",
              "      border-bottom-color: var(--fill-color);\n",
              "    }\n",
              "    90% {\n",
              "      border-color: transparent;\n",
              "      border-bottom-color: var(--fill-color);\n",
              "    }\n",
              "  }\n",
              "</style>\n",
              "\n",
              "  <script>\n",
              "    async function quickchart(key) {\n",
              "      const quickchartButtonEl =\n",
              "        document.querySelector('#' + key + ' button');\n",
              "      quickchartButtonEl.disabled = true;  // To prevent multiple clicks.\n",
              "      quickchartButtonEl.classList.add('colab-df-spinner');\n",
              "      try {\n",
              "        const charts = await google.colab.kernel.invokeFunction(\n",
              "            'suggestCharts', [key], {});\n",
              "      } catch (error) {\n",
              "        console.error('Error during call to suggestCharts:', error);\n",
              "      }\n",
              "      quickchartButtonEl.classList.remove('colab-df-spinner');\n",
              "      quickchartButtonEl.classList.add('colab-df-quickchart-complete');\n",
              "    }\n",
              "    (() => {\n",
              "      let quickchartButtonEl =\n",
              "        document.querySelector('#df-37303bbe-834a-4e7a-95f2-5ded6227d65f button');\n",
              "      quickchartButtonEl.style.display =\n",
              "        google.colab.kernel.accessAllowed ? 'block' : 'none';\n",
              "    })();\n",
              "  </script>\n",
              "</div>\n",
              "    </div>\n",
              "  </div>\n"
            ]
          },
          "metadata": {},
          "execution_count": 17
        }
      ]
    },
    {
      "cell_type": "markdown",
      "source": [
        "<font color=\"Fuchsia\"><h1 style=\"text-align: justify; font-family: 'Lucida Calligraphy'; font-size:30px; color:Fuchsia\"> Data train test split  </h1>"
      ],
      "metadata": {
        "papermill": {
          "duration": 0.104464,
          "end_time": "2022-07-15T02:28:52.646975",
          "exception": false,
          "start_time": "2022-07-15T02:28:52.542511",
          "status": "completed"
        },
        "tags": [],
        "id": "jrlBa6vEktqU"
      }
    },
    {
      "cell_type": "code",
      "source": [
        "heart.head(1)\n"
      ],
      "metadata": {
        "execution": {
          "iopub.status.busy": "2022-08-05T07:33:27.709658Z",
          "iopub.execute_input": "2022-08-05T07:33:27.709986Z",
          "iopub.status.idle": "2022-08-05T07:33:27.72504Z",
          "shell.execute_reply.started": "2022-08-05T07:33:27.709958Z",
          "shell.execute_reply": "2022-08-05T07:33:27.724218Z"
        },
        "trusted": true,
        "id": "Hx_7Kk4dktqU",
        "colab": {
          "base_uri": "https://localhost:8080/",
          "height": 81
        },
        "outputId": "06628494-b1fe-4a9a-d5ca-c91f836492bd"
      },
      "execution_count": 18,
      "outputs": [
        {
          "output_type": "execute_result",
          "data": {
            "text/plain": [
              "   Age Sex ChestPainType  RestingBP  Cholesterol  FastingBS RestingECG  MaxHR  \\\n",
              "0   40   M           ATA        140          289          0     Normal    172   \n",
              "\n",
              "  ExerciseAngina  Oldpeak ST_Slope  HeartDisease  \n",
              "0              N      0.0       Up             0  "
            ],
            "text/html": [
              "\n",
              "  <div id=\"df-4d58a943-dc6c-49c2-9b74-8141d7ccac34\" class=\"colab-df-container\">\n",
              "    <div>\n",
              "<style scoped>\n",
              "    .dataframe tbody tr th:only-of-type {\n",
              "        vertical-align: middle;\n",
              "    }\n",
              "\n",
              "    .dataframe tbody tr th {\n",
              "        vertical-align: top;\n",
              "    }\n",
              "\n",
              "    .dataframe thead th {\n",
              "        text-align: right;\n",
              "    }\n",
              "</style>\n",
              "<table border=\"1\" class=\"dataframe\">\n",
              "  <thead>\n",
              "    <tr style=\"text-align: right;\">\n",
              "      <th></th>\n",
              "      <th>Age</th>\n",
              "      <th>Sex</th>\n",
              "      <th>ChestPainType</th>\n",
              "      <th>RestingBP</th>\n",
              "      <th>Cholesterol</th>\n",
              "      <th>FastingBS</th>\n",
              "      <th>RestingECG</th>\n",
              "      <th>MaxHR</th>\n",
              "      <th>ExerciseAngina</th>\n",
              "      <th>Oldpeak</th>\n",
              "      <th>ST_Slope</th>\n",
              "      <th>HeartDisease</th>\n",
              "    </tr>\n",
              "  </thead>\n",
              "  <tbody>\n",
              "    <tr>\n",
              "      <th>0</th>\n",
              "      <td>40</td>\n",
              "      <td>M</td>\n",
              "      <td>ATA</td>\n",
              "      <td>140</td>\n",
              "      <td>289</td>\n",
              "      <td>0</td>\n",
              "      <td>Normal</td>\n",
              "      <td>172</td>\n",
              "      <td>N</td>\n",
              "      <td>0.0</td>\n",
              "      <td>Up</td>\n",
              "      <td>0</td>\n",
              "    </tr>\n",
              "  </tbody>\n",
              "</table>\n",
              "</div>\n",
              "    <div class=\"colab-df-buttons\">\n",
              "\n",
              "  <div class=\"colab-df-container\">\n",
              "    <button class=\"colab-df-convert\" onclick=\"convertToInteractive('df-4d58a943-dc6c-49c2-9b74-8141d7ccac34')\"\n",
              "            title=\"Convert this dataframe to an interactive table.\"\n",
              "            style=\"display:none;\">\n",
              "\n",
              "  <svg xmlns=\"http://www.w3.org/2000/svg\" height=\"24px\" viewBox=\"0 -960 960 960\">\n",
              "    <path d=\"M120-120v-720h720v720H120Zm60-500h600v-160H180v160Zm220 220h160v-160H400v160Zm0 220h160v-160H400v160ZM180-400h160v-160H180v160Zm440 0h160v-160H620v160ZM180-180h160v-160H180v160Zm440 0h160v-160H620v160Z\"/>\n",
              "  </svg>\n",
              "    </button>\n",
              "\n",
              "  <style>\n",
              "    .colab-df-container {\n",
              "      display:flex;\n",
              "      gap: 12px;\n",
              "    }\n",
              "\n",
              "    .colab-df-convert {\n",
              "      background-color: #E8F0FE;\n",
              "      border: none;\n",
              "      border-radius: 50%;\n",
              "      cursor: pointer;\n",
              "      display: none;\n",
              "      fill: #1967D2;\n",
              "      height: 32px;\n",
              "      padding: 0 0 0 0;\n",
              "      width: 32px;\n",
              "    }\n",
              "\n",
              "    .colab-df-convert:hover {\n",
              "      background-color: #E2EBFA;\n",
              "      box-shadow: 0px 1px 2px rgba(60, 64, 67, 0.3), 0px 1px 3px 1px rgba(60, 64, 67, 0.15);\n",
              "      fill: #174EA6;\n",
              "    }\n",
              "\n",
              "    .colab-df-buttons div {\n",
              "      margin-bottom: 4px;\n",
              "    }\n",
              "\n",
              "    [theme=dark] .colab-df-convert {\n",
              "      background-color: #3B4455;\n",
              "      fill: #D2E3FC;\n",
              "    }\n",
              "\n",
              "    [theme=dark] .colab-df-convert:hover {\n",
              "      background-color: #434B5C;\n",
              "      box-shadow: 0px 1px 3px 1px rgba(0, 0, 0, 0.15);\n",
              "      filter: drop-shadow(0px 1px 2px rgba(0, 0, 0, 0.3));\n",
              "      fill: #FFFFFF;\n",
              "    }\n",
              "  </style>\n",
              "\n",
              "    <script>\n",
              "      const buttonEl =\n",
              "        document.querySelector('#df-4d58a943-dc6c-49c2-9b74-8141d7ccac34 button.colab-df-convert');\n",
              "      buttonEl.style.display =\n",
              "        google.colab.kernel.accessAllowed ? 'block' : 'none';\n",
              "\n",
              "      async function convertToInteractive(key) {\n",
              "        const element = document.querySelector('#df-4d58a943-dc6c-49c2-9b74-8141d7ccac34');\n",
              "        const dataTable =\n",
              "          await google.colab.kernel.invokeFunction('convertToInteractive',\n",
              "                                                    [key], {});\n",
              "        if (!dataTable) return;\n",
              "\n",
              "        const docLinkHtml = 'Like what you see? Visit the ' +\n",
              "          '<a target=\"_blank\" href=https://colab.research.google.com/notebooks/data_table.ipynb>data table notebook</a>'\n",
              "          + ' to learn more about interactive tables.';\n",
              "        element.innerHTML = '';\n",
              "        dataTable['output_type'] = 'display_data';\n",
              "        await google.colab.output.renderOutput(dataTable, element);\n",
              "        const docLink = document.createElement('div');\n",
              "        docLink.innerHTML = docLinkHtml;\n",
              "        element.appendChild(docLink);\n",
              "      }\n",
              "    </script>\n",
              "  </div>\n",
              "\n",
              "    </div>\n",
              "  </div>\n"
            ]
          },
          "metadata": {},
          "execution_count": 18
        }
      ]
    },
    {
      "cell_type": "code",
      "source": [
        "X = heart.drop('HeartDisease',axis=1)\n",
        "y = heart['HeartDisease']"
      ],
      "metadata": {
        "papermill": {
          "duration": 0.115664,
          "end_time": "2022-07-15T02:28:52.866824",
          "exception": false,
          "start_time": "2022-07-15T02:28:52.75116",
          "status": "completed"
        },
        "tags": [],
        "execution": {
          "iopub.status.busy": "2022-08-05T07:33:27.726725Z",
          "iopub.execute_input": "2022-08-05T07:33:27.727233Z",
          "iopub.status.idle": "2022-08-05T07:33:27.735314Z",
          "shell.execute_reply.started": "2022-08-05T07:33:27.727193Z",
          "shell.execute_reply": "2022-08-05T07:33:27.734375Z"
        },
        "trusted": true,
        "id": "jjKrBD5BktqU"
      },
      "execution_count": 19,
      "outputs": []
    },
    {
      "cell_type": "code",
      "source": [
        "pip install category-encoders"
      ],
      "metadata": {
        "colab": {
          "base_uri": "https://localhost:8080/"
        },
        "id": "Al7yePWkpIAH",
        "outputId": "ccf2d7e5-2bd0-4a6b-a6b5-10ea450ebc5c"
      },
      "execution_count": 21,
      "outputs": [
        {
          "output_type": "stream",
          "name": "stdout",
          "text": [
            "Collecting category-encoders\n",
            "  Downloading category_encoders-2.6.2-py2.py3-none-any.whl (81 kB)\n",
            "\u001b[2K     \u001b[90m━━━━━━━━━━━━━━━━━━━━━━━━━━━━━━━━━━━━━━━━\u001b[0m \u001b[32m81.8/81.8 kB\u001b[0m \u001b[31m1.6 MB/s\u001b[0m eta \u001b[36m0:00:00\u001b[0m\n",
            "\u001b[?25hRequirement already satisfied: numpy>=1.14.0 in /usr/local/lib/python3.10/dist-packages (from category-encoders) (1.23.5)\n",
            "Requirement already satisfied: scikit-learn>=0.20.0 in /usr/local/lib/python3.10/dist-packages (from category-encoders) (1.3.2)\n",
            "Requirement already satisfied: scipy>=1.0.0 in /usr/local/lib/python3.10/dist-packages (from category-encoders) (1.11.3)\n",
            "Requirement already satisfied: statsmodels>=0.9.0 in /usr/local/lib/python3.10/dist-packages (from category-encoders) (0.14.0)\n",
            "Requirement already satisfied: pandas>=1.0.5 in /usr/local/lib/python3.10/dist-packages (from category-encoders) (1.5.3)\n",
            "Requirement already satisfied: patsy>=0.5.1 in /usr/local/lib/python3.10/dist-packages (from category-encoders) (0.5.3)\n",
            "Requirement already satisfied: python-dateutil>=2.8.1 in /usr/local/lib/python3.10/dist-packages (from pandas>=1.0.5->category-encoders) (2.8.2)\n",
            "Requirement already satisfied: pytz>=2020.1 in /usr/local/lib/python3.10/dist-packages (from pandas>=1.0.5->category-encoders) (2023.3.post1)\n",
            "Requirement already satisfied: six in /usr/local/lib/python3.10/dist-packages (from patsy>=0.5.1->category-encoders) (1.16.0)\n",
            "Requirement already satisfied: joblib>=1.1.1 in /usr/local/lib/python3.10/dist-packages (from scikit-learn>=0.20.0->category-encoders) (1.3.2)\n",
            "Requirement already satisfied: threadpoolctl>=2.0.0 in /usr/local/lib/python3.10/dist-packages (from scikit-learn>=0.20.0->category-encoders) (3.2.0)\n",
            "Requirement already satisfied: packaging>=21.3 in /usr/local/lib/python3.10/dist-packages (from statsmodels>=0.9.0->category-encoders) (23.2)\n",
            "Installing collected packages: category-encoders\n",
            "Successfully installed category-encoders-2.6.2\n"
          ]
        }
      ]
    },
    {
      "cell_type": "code",
      "source": [
        "import category_encoders as ce\n",
        "encoder = ce.OrdinalEncoder(cols=['Sex','ChestPainType','RestingECG','ExerciseAngina','ST_Slope'],drop_invariant=True)\n",
        "X = encoder.fit_transform(X)\n",
        "X.head()"
      ],
      "metadata": {
        "execution": {
          "iopub.status.busy": "2022-08-05T07:33:27.739505Z",
          "iopub.execute_input": "2022-08-05T07:33:27.739916Z",
          "iopub.status.idle": "2022-08-05T07:33:27.783537Z",
          "shell.execute_reply.started": "2022-08-05T07:33:27.739883Z",
          "shell.execute_reply": "2022-08-05T07:33:27.782353Z"
        },
        "trusted": true,
        "id": "2ihMVlqZktqU",
        "colab": {
          "base_uri": "https://localhost:8080/",
          "height": 206
        },
        "outputId": "8764e5ab-1e4b-4484-b58b-e9612a3b697b"
      },
      "execution_count": 22,
      "outputs": [
        {
          "output_type": "execute_result",
          "data": {
            "text/plain": [
              "   Age  Sex  ChestPainType  RestingBP  Cholesterol  FastingBS  RestingECG  \\\n",
              "0   40    1              1        140          289          0           1   \n",
              "1   49    2              2        160          180          0           1   \n",
              "2   37    1              1        130          283          0           2   \n",
              "3   48    2              3        138          214          0           1   \n",
              "4   54    1              2        150          195          0           1   \n",
              "\n",
              "   MaxHR  ExerciseAngina  Oldpeak  ST_Slope  \n",
              "0    172               1      0.0         1  \n",
              "1    156               1      1.0         2  \n",
              "2     98               1      0.0         1  \n",
              "3    108               2      1.5         2  \n",
              "4    122               1      0.0         1  "
            ],
            "text/html": [
              "\n",
              "  <div id=\"df-223dd310-acd4-4c33-ae01-d1bf8385cbd1\" class=\"colab-df-container\">\n",
              "    <div>\n",
              "<style scoped>\n",
              "    .dataframe tbody tr th:only-of-type {\n",
              "        vertical-align: middle;\n",
              "    }\n",
              "\n",
              "    .dataframe tbody tr th {\n",
              "        vertical-align: top;\n",
              "    }\n",
              "\n",
              "    .dataframe thead th {\n",
              "        text-align: right;\n",
              "    }\n",
              "</style>\n",
              "<table border=\"1\" class=\"dataframe\">\n",
              "  <thead>\n",
              "    <tr style=\"text-align: right;\">\n",
              "      <th></th>\n",
              "      <th>Age</th>\n",
              "      <th>Sex</th>\n",
              "      <th>ChestPainType</th>\n",
              "      <th>RestingBP</th>\n",
              "      <th>Cholesterol</th>\n",
              "      <th>FastingBS</th>\n",
              "      <th>RestingECG</th>\n",
              "      <th>MaxHR</th>\n",
              "      <th>ExerciseAngina</th>\n",
              "      <th>Oldpeak</th>\n",
              "      <th>ST_Slope</th>\n",
              "    </tr>\n",
              "  </thead>\n",
              "  <tbody>\n",
              "    <tr>\n",
              "      <th>0</th>\n",
              "      <td>40</td>\n",
              "      <td>1</td>\n",
              "      <td>1</td>\n",
              "      <td>140</td>\n",
              "      <td>289</td>\n",
              "      <td>0</td>\n",
              "      <td>1</td>\n",
              "      <td>172</td>\n",
              "      <td>1</td>\n",
              "      <td>0.0</td>\n",
              "      <td>1</td>\n",
              "    </tr>\n",
              "    <tr>\n",
              "      <th>1</th>\n",
              "      <td>49</td>\n",
              "      <td>2</td>\n",
              "      <td>2</td>\n",
              "      <td>160</td>\n",
              "      <td>180</td>\n",
              "      <td>0</td>\n",
              "      <td>1</td>\n",
              "      <td>156</td>\n",
              "      <td>1</td>\n",
              "      <td>1.0</td>\n",
              "      <td>2</td>\n",
              "    </tr>\n",
              "    <tr>\n",
              "      <th>2</th>\n",
              "      <td>37</td>\n",
              "      <td>1</td>\n",
              "      <td>1</td>\n",
              "      <td>130</td>\n",
              "      <td>283</td>\n",
              "      <td>0</td>\n",
              "      <td>2</td>\n",
              "      <td>98</td>\n",
              "      <td>1</td>\n",
              "      <td>0.0</td>\n",
              "      <td>1</td>\n",
              "    </tr>\n",
              "    <tr>\n",
              "      <th>3</th>\n",
              "      <td>48</td>\n",
              "      <td>2</td>\n",
              "      <td>3</td>\n",
              "      <td>138</td>\n",
              "      <td>214</td>\n",
              "      <td>0</td>\n",
              "      <td>1</td>\n",
              "      <td>108</td>\n",
              "      <td>2</td>\n",
              "      <td>1.5</td>\n",
              "      <td>2</td>\n",
              "    </tr>\n",
              "    <tr>\n",
              "      <th>4</th>\n",
              "      <td>54</td>\n",
              "      <td>1</td>\n",
              "      <td>2</td>\n",
              "      <td>150</td>\n",
              "      <td>195</td>\n",
              "      <td>0</td>\n",
              "      <td>1</td>\n",
              "      <td>122</td>\n",
              "      <td>1</td>\n",
              "      <td>0.0</td>\n",
              "      <td>1</td>\n",
              "    </tr>\n",
              "  </tbody>\n",
              "</table>\n",
              "</div>\n",
              "    <div class=\"colab-df-buttons\">\n",
              "\n",
              "  <div class=\"colab-df-container\">\n",
              "    <button class=\"colab-df-convert\" onclick=\"convertToInteractive('df-223dd310-acd4-4c33-ae01-d1bf8385cbd1')\"\n",
              "            title=\"Convert this dataframe to an interactive table.\"\n",
              "            style=\"display:none;\">\n",
              "\n",
              "  <svg xmlns=\"http://www.w3.org/2000/svg\" height=\"24px\" viewBox=\"0 -960 960 960\">\n",
              "    <path d=\"M120-120v-720h720v720H120Zm60-500h600v-160H180v160Zm220 220h160v-160H400v160Zm0 220h160v-160H400v160ZM180-400h160v-160H180v160Zm440 0h160v-160H620v160ZM180-180h160v-160H180v160Zm440 0h160v-160H620v160Z\"/>\n",
              "  </svg>\n",
              "    </button>\n",
              "\n",
              "  <style>\n",
              "    .colab-df-container {\n",
              "      display:flex;\n",
              "      gap: 12px;\n",
              "    }\n",
              "\n",
              "    .colab-df-convert {\n",
              "      background-color: #E8F0FE;\n",
              "      border: none;\n",
              "      border-radius: 50%;\n",
              "      cursor: pointer;\n",
              "      display: none;\n",
              "      fill: #1967D2;\n",
              "      height: 32px;\n",
              "      padding: 0 0 0 0;\n",
              "      width: 32px;\n",
              "    }\n",
              "\n",
              "    .colab-df-convert:hover {\n",
              "      background-color: #E2EBFA;\n",
              "      box-shadow: 0px 1px 2px rgba(60, 64, 67, 0.3), 0px 1px 3px 1px rgba(60, 64, 67, 0.15);\n",
              "      fill: #174EA6;\n",
              "    }\n",
              "\n",
              "    .colab-df-buttons div {\n",
              "      margin-bottom: 4px;\n",
              "    }\n",
              "\n",
              "    [theme=dark] .colab-df-convert {\n",
              "      background-color: #3B4455;\n",
              "      fill: #D2E3FC;\n",
              "    }\n",
              "\n",
              "    [theme=dark] .colab-df-convert:hover {\n",
              "      background-color: #434B5C;\n",
              "      box-shadow: 0px 1px 3px 1px rgba(0, 0, 0, 0.15);\n",
              "      filter: drop-shadow(0px 1px 2px rgba(0, 0, 0, 0.3));\n",
              "      fill: #FFFFFF;\n",
              "    }\n",
              "  </style>\n",
              "\n",
              "    <script>\n",
              "      const buttonEl =\n",
              "        document.querySelector('#df-223dd310-acd4-4c33-ae01-d1bf8385cbd1 button.colab-df-convert');\n",
              "      buttonEl.style.display =\n",
              "        google.colab.kernel.accessAllowed ? 'block' : 'none';\n",
              "\n",
              "      async function convertToInteractive(key) {\n",
              "        const element = document.querySelector('#df-223dd310-acd4-4c33-ae01-d1bf8385cbd1');\n",
              "        const dataTable =\n",
              "          await google.colab.kernel.invokeFunction('convertToInteractive',\n",
              "                                                    [key], {});\n",
              "        if (!dataTable) return;\n",
              "\n",
              "        const docLinkHtml = 'Like what you see? Visit the ' +\n",
              "          '<a target=\"_blank\" href=https://colab.research.google.com/notebooks/data_table.ipynb>data table notebook</a>'\n",
              "          + ' to learn more about interactive tables.';\n",
              "        element.innerHTML = '';\n",
              "        dataTable['output_type'] = 'display_data';\n",
              "        await google.colab.output.renderOutput(dataTable, element);\n",
              "        const docLink = document.createElement('div');\n",
              "        docLink.innerHTML = docLinkHtml;\n",
              "        element.appendChild(docLink);\n",
              "      }\n",
              "    </script>\n",
              "  </div>\n",
              "\n",
              "\n",
              "<div id=\"df-cd912b14-4165-4ada-b7ab-29ed75298373\">\n",
              "  <button class=\"colab-df-quickchart\" onclick=\"quickchart('df-cd912b14-4165-4ada-b7ab-29ed75298373')\"\n",
              "            title=\"Suggest charts.\"\n",
              "            style=\"display:none;\">\n",
              "\n",
              "<svg xmlns=\"http://www.w3.org/2000/svg\" height=\"24px\"viewBox=\"0 0 24 24\"\n",
              "     width=\"24px\">\n",
              "    <g>\n",
              "        <path d=\"M19 3H5c-1.1 0-2 .9-2 2v14c0 1.1.9 2 2 2h14c1.1 0 2-.9 2-2V5c0-1.1-.9-2-2-2zM9 17H7v-7h2v7zm4 0h-2V7h2v10zm4 0h-2v-4h2v4z\"/>\n",
              "    </g>\n",
              "</svg>\n",
              "  </button>\n",
              "\n",
              "<style>\n",
              "  .colab-df-quickchart {\n",
              "      --bg-color: #E8F0FE;\n",
              "      --fill-color: #1967D2;\n",
              "      --hover-bg-color: #E2EBFA;\n",
              "      --hover-fill-color: #174EA6;\n",
              "      --disabled-fill-color: #AAA;\n",
              "      --disabled-bg-color: #DDD;\n",
              "  }\n",
              "\n",
              "  [theme=dark] .colab-df-quickchart {\n",
              "      --bg-color: #3B4455;\n",
              "      --fill-color: #D2E3FC;\n",
              "      --hover-bg-color: #434B5C;\n",
              "      --hover-fill-color: #FFFFFF;\n",
              "      --disabled-bg-color: #3B4455;\n",
              "      --disabled-fill-color: #666;\n",
              "  }\n",
              "\n",
              "  .colab-df-quickchart {\n",
              "    background-color: var(--bg-color);\n",
              "    border: none;\n",
              "    border-radius: 50%;\n",
              "    cursor: pointer;\n",
              "    display: none;\n",
              "    fill: var(--fill-color);\n",
              "    height: 32px;\n",
              "    padding: 0;\n",
              "    width: 32px;\n",
              "  }\n",
              "\n",
              "  .colab-df-quickchart:hover {\n",
              "    background-color: var(--hover-bg-color);\n",
              "    box-shadow: 0 1px 2px rgba(60, 64, 67, 0.3), 0 1px 3px 1px rgba(60, 64, 67, 0.15);\n",
              "    fill: var(--button-hover-fill-color);\n",
              "  }\n",
              "\n",
              "  .colab-df-quickchart-complete:disabled,\n",
              "  .colab-df-quickchart-complete:disabled:hover {\n",
              "    background-color: var(--disabled-bg-color);\n",
              "    fill: var(--disabled-fill-color);\n",
              "    box-shadow: none;\n",
              "  }\n",
              "\n",
              "  .colab-df-spinner {\n",
              "    border: 2px solid var(--fill-color);\n",
              "    border-color: transparent;\n",
              "    border-bottom-color: var(--fill-color);\n",
              "    animation:\n",
              "      spin 1s steps(1) infinite;\n",
              "  }\n",
              "\n",
              "  @keyframes spin {\n",
              "    0% {\n",
              "      border-color: transparent;\n",
              "      border-bottom-color: var(--fill-color);\n",
              "      border-left-color: var(--fill-color);\n",
              "    }\n",
              "    20% {\n",
              "      border-color: transparent;\n",
              "      border-left-color: var(--fill-color);\n",
              "      border-top-color: var(--fill-color);\n",
              "    }\n",
              "    30% {\n",
              "      border-color: transparent;\n",
              "      border-left-color: var(--fill-color);\n",
              "      border-top-color: var(--fill-color);\n",
              "      border-right-color: var(--fill-color);\n",
              "    }\n",
              "    40% {\n",
              "      border-color: transparent;\n",
              "      border-right-color: var(--fill-color);\n",
              "      border-top-color: var(--fill-color);\n",
              "    }\n",
              "    60% {\n",
              "      border-color: transparent;\n",
              "      border-right-color: var(--fill-color);\n",
              "    }\n",
              "    80% {\n",
              "      border-color: transparent;\n",
              "      border-right-color: var(--fill-color);\n",
              "      border-bottom-color: var(--fill-color);\n",
              "    }\n",
              "    90% {\n",
              "      border-color: transparent;\n",
              "      border-bottom-color: var(--fill-color);\n",
              "    }\n",
              "  }\n",
              "</style>\n",
              "\n",
              "  <script>\n",
              "    async function quickchart(key) {\n",
              "      const quickchartButtonEl =\n",
              "        document.querySelector('#' + key + ' button');\n",
              "      quickchartButtonEl.disabled = true;  // To prevent multiple clicks.\n",
              "      quickchartButtonEl.classList.add('colab-df-spinner');\n",
              "      try {\n",
              "        const charts = await google.colab.kernel.invokeFunction(\n",
              "            'suggestCharts', [key], {});\n",
              "      } catch (error) {\n",
              "        console.error('Error during call to suggestCharts:', error);\n",
              "      }\n",
              "      quickchartButtonEl.classList.remove('colab-df-spinner');\n",
              "      quickchartButtonEl.classList.add('colab-df-quickchart-complete');\n",
              "    }\n",
              "    (() => {\n",
              "      let quickchartButtonEl =\n",
              "        document.querySelector('#df-cd912b14-4165-4ada-b7ab-29ed75298373 button');\n",
              "      quickchartButtonEl.style.display =\n",
              "        google.colab.kernel.accessAllowed ? 'block' : 'none';\n",
              "    })();\n",
              "  </script>\n",
              "</div>\n",
              "    </div>\n",
              "  </div>\n"
            ]
          },
          "metadata": {},
          "execution_count": 22
        }
      ]
    },
    {
      "cell_type": "code",
      "source": [
        "from sklearn.model_selection import train_test_split\n",
        "X_train,X_test,y_train,y_test = train_test_split(X,y,test_size=0.2,random_state=21)"
      ],
      "metadata": {
        "papermill": {
          "duration": 0.122324,
          "end_time": "2022-07-15T02:28:53.094072",
          "exception": false,
          "start_time": "2022-07-15T02:28:52.971748",
          "status": "completed"
        },
        "tags": [],
        "execution": {
          "iopub.status.busy": "2022-08-05T07:33:27.784982Z",
          "iopub.execute_input": "2022-08-05T07:33:27.786209Z",
          "iopub.status.idle": "2022-08-05T07:33:27.794337Z",
          "shell.execute_reply.started": "2022-08-05T07:33:27.786145Z",
          "shell.execute_reply": "2022-08-05T07:33:27.793264Z"
        },
        "trusted": true,
        "id": "DXi85mmdktqU"
      },
      "execution_count": 23,
      "outputs": []
    },
    {
      "cell_type": "markdown",
      "source": [
        "<font color=\"Fuchsia\"><h1 style=\"text-align: justify; font-family: 'Lucida Calligraphy'; font-size:25px; color:Fuchsia\"> Standardizing the data by using MinMaxScaler  </h1>"
      ],
      "metadata": {
        "papermill": {
          "duration": 0.103116,
          "end_time": "2022-07-15T02:28:53.303253",
          "exception": false,
          "start_time": "2022-07-15T02:28:53.200137",
          "status": "completed"
        },
        "tags": [],
        "id": "po5HUnQIktqU"
      }
    },
    {
      "cell_type": "code",
      "source": [
        "# scaling dataset with robust scaler\n",
        "from sklearn.preprocessing import MinMaxScaler\n",
        "scaler = MinMaxScaler()\n",
        "scaler.fit(X)\n",
        "X_train=scaler.fit_transform(X_train)\n",
        "X_test=scaler.transform(X_test)\n",
        "\n",
        "X_train = pd.DataFrame(X_train, columns=X.columns)\n",
        "X_test = pd.DataFrame(X_test, columns=X.columns)\n",
        "\n",
        "\n",
        "display(X_train.head())\n",
        "display(X_test.head())"
      ],
      "metadata": {
        "papermill": {
          "duration": 0.146931,
          "end_time": "2022-07-15T02:28:53.555423",
          "exception": false,
          "start_time": "2022-07-15T02:28:53.408492",
          "status": "completed"
        },
        "tags": [],
        "execution": {
          "iopub.status.busy": "2022-08-05T07:33:27.795797Z",
          "iopub.execute_input": "2022-08-05T07:33:27.796256Z",
          "iopub.status.idle": "2022-08-05T07:33:27.838273Z",
          "shell.execute_reply.started": "2022-08-05T07:33:27.796214Z",
          "shell.execute_reply": "2022-08-05T07:33:27.837203Z"
        },
        "trusted": true,
        "id": "6xGShVh_ktqU",
        "colab": {
          "base_uri": "https://localhost:8080/",
          "height": 395
        },
        "outputId": "df8be008-d28d-45f7-d6bd-9ecf64832e5c"
      },
      "execution_count": 24,
      "outputs": [
        {
          "output_type": "display_data",
          "data": {
            "text/plain": [
              "     Age  Sex  ChestPainType  RestingBP  Cholesterol  FastingBS  RestingECG  \\\n",
              "0  0.531  0.0          0.333       0.75        0.346        0.0         0.0   \n",
              "1  0.531  1.0          0.000       0.70        0.548        0.0         0.5   \n",
              "2  0.551  0.0          0.667       0.66        0.626        0.0         0.0   \n",
              "3  0.306  1.0          0.333       0.75        0.450        0.0         0.0   \n",
              "4  0.449  0.0          0.667       0.70        0.410        0.0         0.5   \n",
              "\n",
              "   MaxHR  ExerciseAngina  Oldpeak  ST_Slope  \n",
              "0  0.437             0.0    0.295       0.0  \n",
              "1  0.563             0.0    0.295       0.0  \n",
              "2  0.507             1.0    0.432       0.5  \n",
              "3  0.810             0.0    0.295       0.0  \n",
              "4  0.563             1.0    0.864       0.5  "
            ],
            "text/html": [
              "\n",
              "  <div id=\"df-04ec237c-beee-4bb5-93db-0588b12e6535\" class=\"colab-df-container\">\n",
              "    <div>\n",
              "<style scoped>\n",
              "    .dataframe tbody tr th:only-of-type {\n",
              "        vertical-align: middle;\n",
              "    }\n",
              "\n",
              "    .dataframe tbody tr th {\n",
              "        vertical-align: top;\n",
              "    }\n",
              "\n",
              "    .dataframe thead th {\n",
              "        text-align: right;\n",
              "    }\n",
              "</style>\n",
              "<table border=\"1\" class=\"dataframe\">\n",
              "  <thead>\n",
              "    <tr style=\"text-align: right;\">\n",
              "      <th></th>\n",
              "      <th>Age</th>\n",
              "      <th>Sex</th>\n",
              "      <th>ChestPainType</th>\n",
              "      <th>RestingBP</th>\n",
              "      <th>Cholesterol</th>\n",
              "      <th>FastingBS</th>\n",
              "      <th>RestingECG</th>\n",
              "      <th>MaxHR</th>\n",
              "      <th>ExerciseAngina</th>\n",
              "      <th>Oldpeak</th>\n",
              "      <th>ST_Slope</th>\n",
              "    </tr>\n",
              "  </thead>\n",
              "  <tbody>\n",
              "    <tr>\n",
              "      <th>0</th>\n",
              "      <td>0.531</td>\n",
              "      <td>0.0</td>\n",
              "      <td>0.333</td>\n",
              "      <td>0.75</td>\n",
              "      <td>0.346</td>\n",
              "      <td>0.0</td>\n",
              "      <td>0.0</td>\n",
              "      <td>0.437</td>\n",
              "      <td>0.0</td>\n",
              "      <td>0.295</td>\n",
              "      <td>0.0</td>\n",
              "    </tr>\n",
              "    <tr>\n",
              "      <th>1</th>\n",
              "      <td>0.531</td>\n",
              "      <td>1.0</td>\n",
              "      <td>0.000</td>\n",
              "      <td>0.70</td>\n",
              "      <td>0.548</td>\n",
              "      <td>0.0</td>\n",
              "      <td>0.5</td>\n",
              "      <td>0.563</td>\n",
              "      <td>0.0</td>\n",
              "      <td>0.295</td>\n",
              "      <td>0.0</td>\n",
              "    </tr>\n",
              "    <tr>\n",
              "      <th>2</th>\n",
              "      <td>0.551</td>\n",
              "      <td>0.0</td>\n",
              "      <td>0.667</td>\n",
              "      <td>0.66</td>\n",
              "      <td>0.626</td>\n",
              "      <td>0.0</td>\n",
              "      <td>0.0</td>\n",
              "      <td>0.507</td>\n",
              "      <td>1.0</td>\n",
              "      <td>0.432</td>\n",
              "      <td>0.5</td>\n",
              "    </tr>\n",
              "    <tr>\n",
              "      <th>3</th>\n",
              "      <td>0.306</td>\n",
              "      <td>1.0</td>\n",
              "      <td>0.333</td>\n",
              "      <td>0.75</td>\n",
              "      <td>0.450</td>\n",
              "      <td>0.0</td>\n",
              "      <td>0.0</td>\n",
              "      <td>0.810</td>\n",
              "      <td>0.0</td>\n",
              "      <td>0.295</td>\n",
              "      <td>0.0</td>\n",
              "    </tr>\n",
              "    <tr>\n",
              "      <th>4</th>\n",
              "      <td>0.449</td>\n",
              "      <td>0.0</td>\n",
              "      <td>0.667</td>\n",
              "      <td>0.70</td>\n",
              "      <td>0.410</td>\n",
              "      <td>0.0</td>\n",
              "      <td>0.5</td>\n",
              "      <td>0.563</td>\n",
              "      <td>1.0</td>\n",
              "      <td>0.864</td>\n",
              "      <td>0.5</td>\n",
              "    </tr>\n",
              "  </tbody>\n",
              "</table>\n",
              "</div>\n",
              "    <div class=\"colab-df-buttons\">\n",
              "\n",
              "  <div class=\"colab-df-container\">\n",
              "    <button class=\"colab-df-convert\" onclick=\"convertToInteractive('df-04ec237c-beee-4bb5-93db-0588b12e6535')\"\n",
              "            title=\"Convert this dataframe to an interactive table.\"\n",
              "            style=\"display:none;\">\n",
              "\n",
              "  <svg xmlns=\"http://www.w3.org/2000/svg\" height=\"24px\" viewBox=\"0 -960 960 960\">\n",
              "    <path d=\"M120-120v-720h720v720H120Zm60-500h600v-160H180v160Zm220 220h160v-160H400v160Zm0 220h160v-160H400v160ZM180-400h160v-160H180v160Zm440 0h160v-160H620v160ZM180-180h160v-160H180v160Zm440 0h160v-160H620v160Z\"/>\n",
              "  </svg>\n",
              "    </button>\n",
              "\n",
              "  <style>\n",
              "    .colab-df-container {\n",
              "      display:flex;\n",
              "      gap: 12px;\n",
              "    }\n",
              "\n",
              "    .colab-df-convert {\n",
              "      background-color: #E8F0FE;\n",
              "      border: none;\n",
              "      border-radius: 50%;\n",
              "      cursor: pointer;\n",
              "      display: none;\n",
              "      fill: #1967D2;\n",
              "      height: 32px;\n",
              "      padding: 0 0 0 0;\n",
              "      width: 32px;\n",
              "    }\n",
              "\n",
              "    .colab-df-convert:hover {\n",
              "      background-color: #E2EBFA;\n",
              "      box-shadow: 0px 1px 2px rgba(60, 64, 67, 0.3), 0px 1px 3px 1px rgba(60, 64, 67, 0.15);\n",
              "      fill: #174EA6;\n",
              "    }\n",
              "\n",
              "    .colab-df-buttons div {\n",
              "      margin-bottom: 4px;\n",
              "    }\n",
              "\n",
              "    [theme=dark] .colab-df-convert {\n",
              "      background-color: #3B4455;\n",
              "      fill: #D2E3FC;\n",
              "    }\n",
              "\n",
              "    [theme=dark] .colab-df-convert:hover {\n",
              "      background-color: #434B5C;\n",
              "      box-shadow: 0px 1px 3px 1px rgba(0, 0, 0, 0.15);\n",
              "      filter: drop-shadow(0px 1px 2px rgba(0, 0, 0, 0.3));\n",
              "      fill: #FFFFFF;\n",
              "    }\n",
              "  </style>\n",
              "\n",
              "    <script>\n",
              "      const buttonEl =\n",
              "        document.querySelector('#df-04ec237c-beee-4bb5-93db-0588b12e6535 button.colab-df-convert');\n",
              "      buttonEl.style.display =\n",
              "        google.colab.kernel.accessAllowed ? 'block' : 'none';\n",
              "\n",
              "      async function convertToInteractive(key) {\n",
              "        const element = document.querySelector('#df-04ec237c-beee-4bb5-93db-0588b12e6535');\n",
              "        const dataTable =\n",
              "          await google.colab.kernel.invokeFunction('convertToInteractive',\n",
              "                                                    [key], {});\n",
              "        if (!dataTable) return;\n",
              "\n",
              "        const docLinkHtml = 'Like what you see? Visit the ' +\n",
              "          '<a target=\"_blank\" href=https://colab.research.google.com/notebooks/data_table.ipynb>data table notebook</a>'\n",
              "          + ' to learn more about interactive tables.';\n",
              "        element.innerHTML = '';\n",
              "        dataTable['output_type'] = 'display_data';\n",
              "        await google.colab.output.renderOutput(dataTable, element);\n",
              "        const docLink = document.createElement('div');\n",
              "        docLink.innerHTML = docLinkHtml;\n",
              "        element.appendChild(docLink);\n",
              "      }\n",
              "    </script>\n",
              "  </div>\n",
              "\n",
              "\n",
              "<div id=\"df-e7f67ac7-af70-47fb-89e6-f0db7b0bbe58\">\n",
              "  <button class=\"colab-df-quickchart\" onclick=\"quickchart('df-e7f67ac7-af70-47fb-89e6-f0db7b0bbe58')\"\n",
              "            title=\"Suggest charts.\"\n",
              "            style=\"display:none;\">\n",
              "\n",
              "<svg xmlns=\"http://www.w3.org/2000/svg\" height=\"24px\"viewBox=\"0 0 24 24\"\n",
              "     width=\"24px\">\n",
              "    <g>\n",
              "        <path d=\"M19 3H5c-1.1 0-2 .9-2 2v14c0 1.1.9 2 2 2h14c1.1 0 2-.9 2-2V5c0-1.1-.9-2-2-2zM9 17H7v-7h2v7zm4 0h-2V7h2v10zm4 0h-2v-4h2v4z\"/>\n",
              "    </g>\n",
              "</svg>\n",
              "  </button>\n",
              "\n",
              "<style>\n",
              "  .colab-df-quickchart {\n",
              "      --bg-color: #E8F0FE;\n",
              "      --fill-color: #1967D2;\n",
              "      --hover-bg-color: #E2EBFA;\n",
              "      --hover-fill-color: #174EA6;\n",
              "      --disabled-fill-color: #AAA;\n",
              "      --disabled-bg-color: #DDD;\n",
              "  }\n",
              "\n",
              "  [theme=dark] .colab-df-quickchart {\n",
              "      --bg-color: #3B4455;\n",
              "      --fill-color: #D2E3FC;\n",
              "      --hover-bg-color: #434B5C;\n",
              "      --hover-fill-color: #FFFFFF;\n",
              "      --disabled-bg-color: #3B4455;\n",
              "      --disabled-fill-color: #666;\n",
              "  }\n",
              "\n",
              "  .colab-df-quickchart {\n",
              "    background-color: var(--bg-color);\n",
              "    border: none;\n",
              "    border-radius: 50%;\n",
              "    cursor: pointer;\n",
              "    display: none;\n",
              "    fill: var(--fill-color);\n",
              "    height: 32px;\n",
              "    padding: 0;\n",
              "    width: 32px;\n",
              "  }\n",
              "\n",
              "  .colab-df-quickchart:hover {\n",
              "    background-color: var(--hover-bg-color);\n",
              "    box-shadow: 0 1px 2px rgba(60, 64, 67, 0.3), 0 1px 3px 1px rgba(60, 64, 67, 0.15);\n",
              "    fill: var(--button-hover-fill-color);\n",
              "  }\n",
              "\n",
              "  .colab-df-quickchart-complete:disabled,\n",
              "  .colab-df-quickchart-complete:disabled:hover {\n",
              "    background-color: var(--disabled-bg-color);\n",
              "    fill: var(--disabled-fill-color);\n",
              "    box-shadow: none;\n",
              "  }\n",
              "\n",
              "  .colab-df-spinner {\n",
              "    border: 2px solid var(--fill-color);\n",
              "    border-color: transparent;\n",
              "    border-bottom-color: var(--fill-color);\n",
              "    animation:\n",
              "      spin 1s steps(1) infinite;\n",
              "  }\n",
              "\n",
              "  @keyframes spin {\n",
              "    0% {\n",
              "      border-color: transparent;\n",
              "      border-bottom-color: var(--fill-color);\n",
              "      border-left-color: var(--fill-color);\n",
              "    }\n",
              "    20% {\n",
              "      border-color: transparent;\n",
              "      border-left-color: var(--fill-color);\n",
              "      border-top-color: var(--fill-color);\n",
              "    }\n",
              "    30% {\n",
              "      border-color: transparent;\n",
              "      border-left-color: var(--fill-color);\n",
              "      border-top-color: var(--fill-color);\n",
              "      border-right-color: var(--fill-color);\n",
              "    }\n",
              "    40% {\n",
              "      border-color: transparent;\n",
              "      border-right-color: var(--fill-color);\n",
              "      border-top-color: var(--fill-color);\n",
              "    }\n",
              "    60% {\n",
              "      border-color: transparent;\n",
              "      border-right-color: var(--fill-color);\n",
              "    }\n",
              "    80% {\n",
              "      border-color: transparent;\n",
              "      border-right-color: var(--fill-color);\n",
              "      border-bottom-color: var(--fill-color);\n",
              "    }\n",
              "    90% {\n",
              "      border-color: transparent;\n",
              "      border-bottom-color: var(--fill-color);\n",
              "    }\n",
              "  }\n",
              "</style>\n",
              "\n",
              "  <script>\n",
              "    async function quickchart(key) {\n",
              "      const quickchartButtonEl =\n",
              "        document.querySelector('#' + key + ' button');\n",
              "      quickchartButtonEl.disabled = true;  // To prevent multiple clicks.\n",
              "      quickchartButtonEl.classList.add('colab-df-spinner');\n",
              "      try {\n",
              "        const charts = await google.colab.kernel.invokeFunction(\n",
              "            'suggestCharts', [key], {});\n",
              "      } catch (error) {\n",
              "        console.error('Error during call to suggestCharts:', error);\n",
              "      }\n",
              "      quickchartButtonEl.classList.remove('colab-df-spinner');\n",
              "      quickchartButtonEl.classList.add('colab-df-quickchart-complete');\n",
              "    }\n",
              "    (() => {\n",
              "      let quickchartButtonEl =\n",
              "        document.querySelector('#df-e7f67ac7-af70-47fb-89e6-f0db7b0bbe58 button');\n",
              "      quickchartButtonEl.style.display =\n",
              "        google.colab.kernel.accessAllowed ? 'block' : 'none';\n",
              "    })();\n",
              "  </script>\n",
              "</div>\n",
              "    </div>\n",
              "  </div>\n"
            ]
          },
          "metadata": {}
        },
        {
          "output_type": "display_data",
          "data": {
            "text/plain": [
              "     Age  Sex  ChestPainType  RestingBP  Cholesterol  FastingBS  RestingECG  \\\n",
              "0  0.592  1.0          1.000       0.65        0.546        0.0         0.0   \n",
              "1  0.306  0.0          0.667       0.60        0.310        0.0         0.0   \n",
              "2  0.245  0.0          0.667       0.60        0.826        1.0         0.0   \n",
              "3  0.306  0.0          0.667       0.60        0.314        0.0         1.0   \n",
              "4  0.571  0.0          0.333       0.85        0.000        0.0         1.0   \n",
              "\n",
              "   MaxHR  ExerciseAngina  Oldpeak  ST_Slope  \n",
              "0  0.268             0.0    0.409       0.5  \n",
              "1  0.423             1.0    0.409       0.5  \n",
              "2  0.648             1.0    0.409       0.5  \n",
              "3  0.423             1.0    0.580       0.5  \n",
              "4  0.444             1.0    0.580       0.5  "
            ],
            "text/html": [
              "\n",
              "  <div id=\"df-66608591-36d4-4dda-ae04-073b49c8ef49\" class=\"colab-df-container\">\n",
              "    <div>\n",
              "<style scoped>\n",
              "    .dataframe tbody tr th:only-of-type {\n",
              "        vertical-align: middle;\n",
              "    }\n",
              "\n",
              "    .dataframe tbody tr th {\n",
              "        vertical-align: top;\n",
              "    }\n",
              "\n",
              "    .dataframe thead th {\n",
              "        text-align: right;\n",
              "    }\n",
              "</style>\n",
              "<table border=\"1\" class=\"dataframe\">\n",
              "  <thead>\n",
              "    <tr style=\"text-align: right;\">\n",
              "      <th></th>\n",
              "      <th>Age</th>\n",
              "      <th>Sex</th>\n",
              "      <th>ChestPainType</th>\n",
              "      <th>RestingBP</th>\n",
              "      <th>Cholesterol</th>\n",
              "      <th>FastingBS</th>\n",
              "      <th>RestingECG</th>\n",
              "      <th>MaxHR</th>\n",
              "      <th>ExerciseAngina</th>\n",
              "      <th>Oldpeak</th>\n",
              "      <th>ST_Slope</th>\n",
              "    </tr>\n",
              "  </thead>\n",
              "  <tbody>\n",
              "    <tr>\n",
              "      <th>0</th>\n",
              "      <td>0.592</td>\n",
              "      <td>1.0</td>\n",
              "      <td>1.000</td>\n",
              "      <td>0.65</td>\n",
              "      <td>0.546</td>\n",
              "      <td>0.0</td>\n",
              "      <td>0.0</td>\n",
              "      <td>0.268</td>\n",
              "      <td>0.0</td>\n",
              "      <td>0.409</td>\n",
              "      <td>0.5</td>\n",
              "    </tr>\n",
              "    <tr>\n",
              "      <th>1</th>\n",
              "      <td>0.306</td>\n",
              "      <td>0.0</td>\n",
              "      <td>0.667</td>\n",
              "      <td>0.60</td>\n",
              "      <td>0.310</td>\n",
              "      <td>0.0</td>\n",
              "      <td>0.0</td>\n",
              "      <td>0.423</td>\n",
              "      <td>1.0</td>\n",
              "      <td>0.409</td>\n",
              "      <td>0.5</td>\n",
              "    </tr>\n",
              "    <tr>\n",
              "      <th>2</th>\n",
              "      <td>0.245</td>\n",
              "      <td>0.0</td>\n",
              "      <td>0.667</td>\n",
              "      <td>0.60</td>\n",
              "      <td>0.826</td>\n",
              "      <td>1.0</td>\n",
              "      <td>0.0</td>\n",
              "      <td>0.648</td>\n",
              "      <td>1.0</td>\n",
              "      <td>0.409</td>\n",
              "      <td>0.5</td>\n",
              "    </tr>\n",
              "    <tr>\n",
              "      <th>3</th>\n",
              "      <td>0.306</td>\n",
              "      <td>0.0</td>\n",
              "      <td>0.667</td>\n",
              "      <td>0.60</td>\n",
              "      <td>0.314</td>\n",
              "      <td>0.0</td>\n",
              "      <td>1.0</td>\n",
              "      <td>0.423</td>\n",
              "      <td>1.0</td>\n",
              "      <td>0.580</td>\n",
              "      <td>0.5</td>\n",
              "    </tr>\n",
              "    <tr>\n",
              "      <th>4</th>\n",
              "      <td>0.571</td>\n",
              "      <td>0.0</td>\n",
              "      <td>0.333</td>\n",
              "      <td>0.85</td>\n",
              "      <td>0.000</td>\n",
              "      <td>0.0</td>\n",
              "      <td>1.0</td>\n",
              "      <td>0.444</td>\n",
              "      <td>1.0</td>\n",
              "      <td>0.580</td>\n",
              "      <td>0.5</td>\n",
              "    </tr>\n",
              "  </tbody>\n",
              "</table>\n",
              "</div>\n",
              "    <div class=\"colab-df-buttons\">\n",
              "\n",
              "  <div class=\"colab-df-container\">\n",
              "    <button class=\"colab-df-convert\" onclick=\"convertToInteractive('df-66608591-36d4-4dda-ae04-073b49c8ef49')\"\n",
              "            title=\"Convert this dataframe to an interactive table.\"\n",
              "            style=\"display:none;\">\n",
              "\n",
              "  <svg xmlns=\"http://www.w3.org/2000/svg\" height=\"24px\" viewBox=\"0 -960 960 960\">\n",
              "    <path d=\"M120-120v-720h720v720H120Zm60-500h600v-160H180v160Zm220 220h160v-160H400v160Zm0 220h160v-160H400v160ZM180-400h160v-160H180v160Zm440 0h160v-160H620v160ZM180-180h160v-160H180v160Zm440 0h160v-160H620v160Z\"/>\n",
              "  </svg>\n",
              "    </button>\n",
              "\n",
              "  <style>\n",
              "    .colab-df-container {\n",
              "      display:flex;\n",
              "      gap: 12px;\n",
              "    }\n",
              "\n",
              "    .colab-df-convert {\n",
              "      background-color: #E8F0FE;\n",
              "      border: none;\n",
              "      border-radius: 50%;\n",
              "      cursor: pointer;\n",
              "      display: none;\n",
              "      fill: #1967D2;\n",
              "      height: 32px;\n",
              "      padding: 0 0 0 0;\n",
              "      width: 32px;\n",
              "    }\n",
              "\n",
              "    .colab-df-convert:hover {\n",
              "      background-color: #E2EBFA;\n",
              "      box-shadow: 0px 1px 2px rgba(60, 64, 67, 0.3), 0px 1px 3px 1px rgba(60, 64, 67, 0.15);\n",
              "      fill: #174EA6;\n",
              "    }\n",
              "\n",
              "    .colab-df-buttons div {\n",
              "      margin-bottom: 4px;\n",
              "    }\n",
              "\n",
              "    [theme=dark] .colab-df-convert {\n",
              "      background-color: #3B4455;\n",
              "      fill: #D2E3FC;\n",
              "    }\n",
              "\n",
              "    [theme=dark] .colab-df-convert:hover {\n",
              "      background-color: #434B5C;\n",
              "      box-shadow: 0px 1px 3px 1px rgba(0, 0, 0, 0.15);\n",
              "      filter: drop-shadow(0px 1px 2px rgba(0, 0, 0, 0.3));\n",
              "      fill: #FFFFFF;\n",
              "    }\n",
              "  </style>\n",
              "\n",
              "    <script>\n",
              "      const buttonEl =\n",
              "        document.querySelector('#df-66608591-36d4-4dda-ae04-073b49c8ef49 button.colab-df-convert');\n",
              "      buttonEl.style.display =\n",
              "        google.colab.kernel.accessAllowed ? 'block' : 'none';\n",
              "\n",
              "      async function convertToInteractive(key) {\n",
              "        const element = document.querySelector('#df-66608591-36d4-4dda-ae04-073b49c8ef49');\n",
              "        const dataTable =\n",
              "          await google.colab.kernel.invokeFunction('convertToInteractive',\n",
              "                                                    [key], {});\n",
              "        if (!dataTable) return;\n",
              "\n",
              "        const docLinkHtml = 'Like what you see? Visit the ' +\n",
              "          '<a target=\"_blank\" href=https://colab.research.google.com/notebooks/data_table.ipynb>data table notebook</a>'\n",
              "          + ' to learn more about interactive tables.';\n",
              "        element.innerHTML = '';\n",
              "        dataTable['output_type'] = 'display_data';\n",
              "        await google.colab.output.renderOutput(dataTable, element);\n",
              "        const docLink = document.createElement('div');\n",
              "        docLink.innerHTML = docLinkHtml;\n",
              "        element.appendChild(docLink);\n",
              "      }\n",
              "    </script>\n",
              "  </div>\n",
              "\n",
              "\n",
              "<div id=\"df-54868b63-40e6-4dd5-b27c-0f2d03fe1735\">\n",
              "  <button class=\"colab-df-quickchart\" onclick=\"quickchart('df-54868b63-40e6-4dd5-b27c-0f2d03fe1735')\"\n",
              "            title=\"Suggest charts.\"\n",
              "            style=\"display:none;\">\n",
              "\n",
              "<svg xmlns=\"http://www.w3.org/2000/svg\" height=\"24px\"viewBox=\"0 0 24 24\"\n",
              "     width=\"24px\">\n",
              "    <g>\n",
              "        <path d=\"M19 3H5c-1.1 0-2 .9-2 2v14c0 1.1.9 2 2 2h14c1.1 0 2-.9 2-2V5c0-1.1-.9-2-2-2zM9 17H7v-7h2v7zm4 0h-2V7h2v10zm4 0h-2v-4h2v4z\"/>\n",
              "    </g>\n",
              "</svg>\n",
              "  </button>\n",
              "\n",
              "<style>\n",
              "  .colab-df-quickchart {\n",
              "      --bg-color: #E8F0FE;\n",
              "      --fill-color: #1967D2;\n",
              "      --hover-bg-color: #E2EBFA;\n",
              "      --hover-fill-color: #174EA6;\n",
              "      --disabled-fill-color: #AAA;\n",
              "      --disabled-bg-color: #DDD;\n",
              "  }\n",
              "\n",
              "  [theme=dark] .colab-df-quickchart {\n",
              "      --bg-color: #3B4455;\n",
              "      --fill-color: #D2E3FC;\n",
              "      --hover-bg-color: #434B5C;\n",
              "      --hover-fill-color: #FFFFFF;\n",
              "      --disabled-bg-color: #3B4455;\n",
              "      --disabled-fill-color: #666;\n",
              "  }\n",
              "\n",
              "  .colab-df-quickchart {\n",
              "    background-color: var(--bg-color);\n",
              "    border: none;\n",
              "    border-radius: 50%;\n",
              "    cursor: pointer;\n",
              "    display: none;\n",
              "    fill: var(--fill-color);\n",
              "    height: 32px;\n",
              "    padding: 0;\n",
              "    width: 32px;\n",
              "  }\n",
              "\n",
              "  .colab-df-quickchart:hover {\n",
              "    background-color: var(--hover-bg-color);\n",
              "    box-shadow: 0 1px 2px rgba(60, 64, 67, 0.3), 0 1px 3px 1px rgba(60, 64, 67, 0.15);\n",
              "    fill: var(--button-hover-fill-color);\n",
              "  }\n",
              "\n",
              "  .colab-df-quickchart-complete:disabled,\n",
              "  .colab-df-quickchart-complete:disabled:hover {\n",
              "    background-color: var(--disabled-bg-color);\n",
              "    fill: var(--disabled-fill-color);\n",
              "    box-shadow: none;\n",
              "  }\n",
              "\n",
              "  .colab-df-spinner {\n",
              "    border: 2px solid var(--fill-color);\n",
              "    border-color: transparent;\n",
              "    border-bottom-color: var(--fill-color);\n",
              "    animation:\n",
              "      spin 1s steps(1) infinite;\n",
              "  }\n",
              "\n",
              "  @keyframes spin {\n",
              "    0% {\n",
              "      border-color: transparent;\n",
              "      border-bottom-color: var(--fill-color);\n",
              "      border-left-color: var(--fill-color);\n",
              "    }\n",
              "    20% {\n",
              "      border-color: transparent;\n",
              "      border-left-color: var(--fill-color);\n",
              "      border-top-color: var(--fill-color);\n",
              "    }\n",
              "    30% {\n",
              "      border-color: transparent;\n",
              "      border-left-color: var(--fill-color);\n",
              "      border-top-color: var(--fill-color);\n",
              "      border-right-color: var(--fill-color);\n",
              "    }\n",
              "    40% {\n",
              "      border-color: transparent;\n",
              "      border-right-color: var(--fill-color);\n",
              "      border-top-color: var(--fill-color);\n",
              "    }\n",
              "    60% {\n",
              "      border-color: transparent;\n",
              "      border-right-color: var(--fill-color);\n",
              "    }\n",
              "    80% {\n",
              "      border-color: transparent;\n",
              "      border-right-color: var(--fill-color);\n",
              "      border-bottom-color: var(--fill-color);\n",
              "    }\n",
              "    90% {\n",
              "      border-color: transparent;\n",
              "      border-bottom-color: var(--fill-color);\n",
              "    }\n",
              "  }\n",
              "</style>\n",
              "\n",
              "  <script>\n",
              "    async function quickchart(key) {\n",
              "      const quickchartButtonEl =\n",
              "        document.querySelector('#' + key + ' button');\n",
              "      quickchartButtonEl.disabled = true;  // To prevent multiple clicks.\n",
              "      quickchartButtonEl.classList.add('colab-df-spinner');\n",
              "      try {\n",
              "        const charts = await google.colab.kernel.invokeFunction(\n",
              "            'suggestCharts', [key], {});\n",
              "      } catch (error) {\n",
              "        console.error('Error during call to suggestCharts:', error);\n",
              "      }\n",
              "      quickchartButtonEl.classList.remove('colab-df-spinner');\n",
              "      quickchartButtonEl.classList.add('colab-df-quickchart-complete');\n",
              "    }\n",
              "    (() => {\n",
              "      let quickchartButtonEl =\n",
              "        document.querySelector('#df-54868b63-40e6-4dd5-b27c-0f2d03fe1735 button');\n",
              "      quickchartButtonEl.style.display =\n",
              "        google.colab.kernel.accessAllowed ? 'block' : 'none';\n",
              "    })();\n",
              "  </script>\n",
              "</div>\n",
              "    </div>\n",
              "  </div>\n"
            ]
          },
          "metadata": {}
        }
      ]
    },
    {
      "cell_type": "markdown",
      "source": [
        "<font color=\"Fuchsia\"><h1 style=\"text-align: justify; font-family: 'Lucida Calligraphy'; font-size:30px; color:Fuchsia\"> Model Building  </h1>"
      ],
      "metadata": {
        "papermill": {
          "duration": 0.102949,
          "end_time": "2022-07-15T02:28:53.766028",
          "exception": false,
          "start_time": "2022-07-15T02:28:53.663079",
          "status": "completed"
        },
        "tags": [],
        "id": "j_t6LitLktqV"
      }
    },
    {
      "cell_type": "markdown",
      "source": [
        "<font color=\"Fuchsia\"><h2 style=\"text-align: justify; font-family: 'Lucida Calligraphy'; font-size:25px; color:Fuchsia\"> RandomForestClassifier  </h2>"
      ],
      "metadata": {
        "papermill": {
          "duration": 0.106367,
          "end_time": "2022-07-15T02:28:53.977923",
          "exception": false,
          "start_time": "2022-07-15T02:28:53.871556",
          "status": "completed"
        },
        "tags": [],
        "id": "KiJuTDpgktqV"
      }
    },
    {
      "cell_type": "code",
      "source": [
        "plt.rcParams['figure.figsize'] = (8,6)\n",
        "plt.rcParams['font.size'] = 20\n",
        "\n",
        "from sklearn.metrics import accuracy_score,confusion_matrix,classification_report,f1_score\n",
        "# Logistic Regression\n",
        "from sklearn.ensemble import RandomForestClassifier\n",
        "Rm = RandomForestClassifier()\n",
        "Rm.fit(X_train, y_train)\n",
        "y_pred_Rm = Rm.predict(X_test)\n",
        "\n",
        "Rm_train = round(Rm.score(X_train, y_train) * 100, 2)\n",
        "Rm_accuracy = round(accuracy_score(y_pred_Rm, y_test) * 100, 2)\n",
        "Rm_f1 = round(f1_score(y_pred_Rm, y_test) * 100, 2)\n",
        "\n",
        "print(\"Training Accuracy    :\",Rm_train,\"%\")\n",
        "print(\"\\033[1m---------------------------------\\033[0m\")\n",
        "print(\"Model Accuracy Score :\",Rm_accuracy,\"%\")"
      ],
      "metadata": {
        "papermill": {
          "duration": 0.205518,
          "end_time": "2022-07-15T02:28:54.289193",
          "exception": false,
          "start_time": "2022-07-15T02:28:54.083675",
          "status": "completed"
        },
        "tags": [],
        "execution": {
          "iopub.status.busy": "2022-08-05T07:33:27.84009Z",
          "iopub.execute_input": "2022-08-05T07:33:27.840442Z",
          "iopub.status.idle": "2022-08-05T07:33:28.097551Z",
          "shell.execute_reply.started": "2022-08-05T07:33:27.840412Z",
          "shell.execute_reply": "2022-08-05T07:33:28.096422Z"
        },
        "trusted": true,
        "id": "y9L0mxa3ktqV",
        "colab": {
          "base_uri": "https://localhost:8080/"
        },
        "outputId": "b90f408d-8445-4011-e65c-fb18ab06efdb"
      },
      "execution_count": 25,
      "outputs": [
        {
          "output_type": "stream",
          "name": "stdout",
          "text": [
            "Training Accuracy    : 100.0 %\n",
            "\u001b[1m---------------------------------\u001b[0m\n",
            "Model Accuracy Score : 86.96 %\n"
          ]
        }
      ]
    },
    {
      "cell_type": "markdown",
      "source": [
        "<font color=\"Olive\"><h1 style=\"text-align: justify; font-family: 'Lucida Calligraphy'; font-size:30px; color:Olive\"> Classification metrices  </h1>"
      ],
      "metadata": {
        "id": "sXQ7_cI3ktqV"
      }
    },
    {
      "cell_type": "markdown",
      "source": [
        "<font color=\"Fuchsia\"><h2 style=\"text-align: justify; font-family: 'Lucida Calligraphy'; font-size:25px; color:Fuchsia\"> Confusion Matrix </h2>"
      ],
      "metadata": {
        "papermill": {
          "duration": 0.106059,
          "end_time": "2022-07-15T02:28:54.560678",
          "exception": false,
          "start_time": "2022-07-15T02:28:54.454619",
          "status": "completed"
        },
        "tags": [],
        "id": "qroqJHpwktqV"
      }
    },
    {
      "cell_type": "markdown",
      "source": [
        "A confusion matrix is a tool for summarizing the performance of a classification algorithm. A confusion matrix will give us a clear picture of classification model performance and the types of errors produced by the model. It gives us a summary of correct and incorrect predictions broken down by each category. The summary is represented in a tabular form.\n",
        "\n",
        "\n",
        "*Four types of outcomes are possible while evaluating a classification model performance. These four outcomes are described below:*"
      ],
      "metadata": {
        "papermill": {
          "duration": 0.104694,
          "end_time": "2022-07-15T02:28:54.771793",
          "exception": false,
          "start_time": "2022-07-15T02:28:54.667099",
          "status": "completed"
        },
        "tags": [],
        "id": "bhNT2AN-ktqV"
      }
    },
    {
      "cell_type": "markdown",
      "source": [
        "> True Positives (TP) – True Positives occur when we predict an observation belongs to a certain class and the observation actually belongs to that class.\n",
        "\n",
        "> True Negatives (TN) – True Negatives occur when we predict an observation does not belong to a certain class and the observation actually does not belong to that class.\n",
        "\n",
        "> False Positives (FP) – False Positives occur when we predict an observation belongs to a certain class but the observation actually does not belong to that class. This type of error is called Type I error.\n",
        "\n",
        "> False Negatives (FN) – False Negatives occur when we predict an observation does not belong to a certain class but the observation actually belongs to that class. This is a very serious error and it is called Type II error.\n",
        "\n",
        "These four outcomes are summarized in a confusion matrix given below."
      ],
      "metadata": {
        "id": "JPGeQvNkktqV"
      }
    },
    {
      "cell_type": "code",
      "source": [
        "from sklearn.metrics import confusion_matrix\n",
        "\n",
        "# Assuming you have already trained a model 'Rm' and have X_test and y_test\n",
        "y_pred = Rm.predict(X_test)\n",
        "cm = confusion_matrix(y_test, y_pred)\n",
        "\n",
        "# Now you can use the confusion matrix 'cm' to analyze the model's performance.\n",
        "plt.figure(figsize=(8, 6))\n",
        "sns.heatmap(cm, annot=True, fmt=\"d\", cmap=\"Blues\", linewidths=.5, square=True)\n",
        "plt.xlabel('Predicted')\n",
        "plt.ylabel('Actual')\n",
        "plt.title('Confusion Matrix')\n",
        "\n",
        "plt.show()\n"
      ],
      "metadata": {
        "colab": {
          "base_uri": "https://localhost:8080/",
          "height": 604
        },
        "id": "g25elw8LpwLs",
        "outputId": "21983b2e-3d04-4cc6-dfb3-60d2168eba70"
      },
      "execution_count": 31,
      "outputs": [
        {
          "output_type": "display_data",
          "data": {
            "text/plain": [
              "<Figure size 800x600 with 2 Axes>"
            ],
            "image/png": "[encoded data removed]"
          },
          "metadata": {}
        }
      ]
    },
    {
      "cell_type": "code",
      "source": [
        "# Print the Confusion Matrix and slice it into four pieces\n",
        "\n",
        "from sklearn.metrics import confusion_matrix\n",
        "\n",
        "cm = confusion_matrix(y_test, y_pred_Rm)\n",
        "\n",
        "print('Confusion matrix:\\n\\n', cm)\n",
        "print(\"\\033[1m-----------------------------\\033[0m\")\n",
        "print('\\nTrue Positives(TP) = ', cm[0,0])\n",
        "print(\"\\033[1m-----------------------------\\033[0m\")\n",
        "print('\\nTrue Negatives(TN) = ', cm[1,1])\n",
        "print(\"\\033[1m-----------------------------\\033[0m\")\n",
        "print('\\nFalse Positives(FP) = ', cm[0,1])\n",
        "print(\"\\033[1m-----------------------------\\033[0m\")\n",
        "print('\\nFalse Negatives(FN) = ', cm[1,0])"
      ],
      "metadata": {
        "execution": {
          "iopub.status.busy": "2022-08-05T07:33:28.354916Z",
          "iopub.execute_input": "2022-08-05T07:33:28.355635Z",
          "iopub.status.idle": "2022-08-05T07:33:28.36586Z",
          "shell.execute_reply.started": "2022-08-05T07:33:28.355589Z",
          "shell.execute_reply": "2022-08-05T07:33:28.364688Z"
        },
        "trusted": true,
        "id": "nf86X45Aktqd",
        "colab": {
          "base_uri": "https://localhost:8080/"
        },
        "outputId": "31b728e7-e267-493a-c695-f94cd3135787"
      },
      "execution_count": 32,
      "outputs": [
        {
          "output_type": "stream",
          "name": "stdout",
          "text": [
            "Confusion matrix:\n",
            "\n",
            " [[62 14]\n",
            " [10 98]]\n",
            "\u001b[1m-----------------------------\u001b[0m\n",
            "\n",
            "True Positives(TP) =  62\n",
            "\u001b[1m-----------------------------\u001b[0m\n",
            "\n",
            "True Negatives(TN) =  98\n",
            "\u001b[1m-----------------------------\u001b[0m\n",
            "\n",
            "False Positives(FP) =  14\n",
            "\u001b[1m-----------------------------\u001b[0m\n",
            "\n",
            "False Negatives(FN) =  10\n"
          ]
        }
      ]
    },
    {
      "cell_type": "markdown",
      "source": [
        "<div style=\"color:white;\n",
        "       display:fill;\n",
        "       border-radius:5px;\n",
        "       background-color:#AC0000;\n",
        "       font-size:110%;\n",
        "       font-family:Nexa;\n",
        "       letter-spacing:0.5px\">\n",
        "    <p style=\"padding: 10px;\n",
        "          color:white;\">\n",
        "        The confusion matrix shows 59 + 98 = 157 correct predictions and 10 + 17 = 27 incorrect predictions.\n",
        "    </p>\n",
        "</div>"
      ],
      "metadata": {
        "id": "KfiLGexbktqd"
      }
    },
    {
      "cell_type": "markdown",
      "source": [
        " **In this case, we have**"
      ],
      "metadata": {
        "id": "NOL7TZoCktqd"
      }
    },
    {
      "cell_type": "markdown",
      "source": [
        "<div style=\"color:white;\n",
        "       display:fill;\n",
        "       border-radius:5px;\n",
        "       background-color:Green;\n",
        "       font-size:110%;\n",
        "       font-family:Nexa;\n",
        "       letter-spacing:0.5px\">\n",
        "    <p style=\"padding: 10px;\n",
        "          color:white;\">\n",
        "        True Positives (Actual Positive:1 and Predict Positive:1) - 59\n",
        "    </p>\n",
        "</div>"
      ],
      "metadata": {
        "id": "IRkA66edktqd"
      }
    },
    {
      "cell_type": "markdown",
      "source": [
        "<div style=\"color:white;\n",
        "       display:fill;\n",
        "       border-radius:5px;\n",
        "       background-color:Red;\n",
        "       font-size:110%;\n",
        "       font-family:Nexa;\n",
        "       letter-spacing:0.5px\">\n",
        "    <p style=\"padding: 10px;\n",
        "          color:white;\">\n",
        "        True Negatives (Actual Negative:0 and Predict Negative:0) - 98\n",
        "    </p>\n",
        "</div>"
      ],
      "metadata": {
        "id": "WK2WJzrbktqd"
      }
    },
    {
      "cell_type": "markdown",
      "source": [
        "<div style=\"color:white;\n",
        "       display:fill;\n",
        "       border-radius:5px;\n",
        "       background-color:DarkOrange;\n",
        "       font-size:110%;\n",
        "       font-family:Nexa;\n",
        "       letter-spacing:0.5px\">\n",
        "    <p style=\"padding: 10px;\n",
        "          color:white;\">\n",
        "        False Positives (Actual Negative:0 but Predict Positive:1) - 17 (Type I error)\n",
        "    </p>\n",
        "</div>"
      ],
      "metadata": {
        "id": "rxaTIi4Bktqd"
      }
    },
    {
      "cell_type": "markdown",
      "source": [
        "<div style=\"color:white;\n",
        "       display:fill;\n",
        "       border-radius:5px;\n",
        "       background-color:DarkSlateGray;\n",
        "       font-size:110%;\n",
        "       font-family:Nexa;\n",
        "       letter-spacing:0.5px\">\n",
        "    <p style=\"padding: 10px;\n",
        "          color:white;\">\n",
        "        False Negatives (Actual Positive:1 but Predict Negative:0) - 10 (Type II error)\n",
        "    </p>\n",
        "</div>"
      ],
      "metadata": {
        "id": "0iBPSH5dktqd"
      }
    },
    {
      "cell_type": "markdown",
      "source": [
        "<font color=\"Fuchsia\"><h2 style=\"text-align: justify; font-family: 'Comic Sans MS'; font-size:25px; color:Fuchsia\"> Classification Report  </h2>"
      ],
      "metadata": {
        "id": "fiKi03iQktqd"
      }
    },
    {
      "cell_type": "markdown",
      "source": [
        "<div style=\"color:white;\n",
        "       display:fill;\n",
        "       border-radius:5px;\n",
        "       background-color:Fuchsia;\n",
        "       font-size:140%;\n",
        "       font-family:Nexa;\n",
        "       letter-spacing:0.5px\">\n",
        "    <p style=\"padding: 10px;\n",
        "          color:white;\">\n",
        "        Classification report is another way to evaluate the classification model performance. It displays the  precision, recall, f1 and support scores for the model.\n",
        "    </p>\n",
        "</div>"
      ],
      "metadata": {
        "id": "RpBtozcMktqd"
      }
    },
    {
      "cell_type": "markdown",
      "source": [
        "> If we want a more comprehensive summary of precision, recall, and f1-score, we can use the classification_report convenience function to compute all three at once, and print them in a nice format.\n",
        "\n",
        "> The classification_report function produces one line per class (here, True and False) and reports precision, recall, and f-score with this class as the positive class.\n",
        "\n",
        "> The last column next to the f-score provides the support of each class, which simply means the number of samples in this class according to the ground truth.\n",
        "\n",
        "> The last row in the classification report shows a weighted (by the number of samples in the class) average of the numbers for each class."
      ],
      "metadata": {
        "id": "clqW5aEoktqe"
      }
    },
    {
      "cell_type": "code",
      "source": [
        "from sklearn.metrics import classification_report\n",
        "\n",
        "print(classification_report(y_test, y_pred_Rm))"
      ],
      "metadata": {
        "execution": {
          "iopub.status.busy": "2022-08-05T07:33:28.367468Z",
          "iopub.execute_input": "2022-08-05T07:33:28.367818Z",
          "iopub.status.idle": "2022-08-05T07:33:28.379292Z",
          "shell.execute_reply.started": "2022-08-05T07:33:28.367778Z",
          "shell.execute_reply": "2022-08-05T07:33:28.378049Z"
        },
        "trusted": true,
        "id": "Fvei8bQUktqe",
        "colab": {
          "base_uri": "https://localhost:8080/"
        },
        "outputId": "ca3c4e2f-f0ea-4332-e6fa-4f41ae71fe0b"
      },
      "execution_count": 33,
      "outputs": [
        {
          "output_type": "stream",
          "name": "stdout",
          "text": [
            "              precision    recall  f1-score   support\n",
            "\n",
            "           0       0.86      0.82      0.84        76\n",
            "           1       0.88      0.91      0.89       108\n",
            "\n",
            "    accuracy                           0.87       184\n",
            "   macro avg       0.87      0.86      0.86       184\n",
            "weighted avg       0.87      0.87      0.87       184\n",
            "\n"
          ]
        }
      ]
    },
    {
      "cell_type": "markdown",
      "source": [
        "<font color=\"Fuchsia\"><h2 style=\"text-align: justify; font-family: 'Comic Sans MS'; font-size:25px; color:Fuchsia\"> Classification accuracy  </h2>"
      ],
      "metadata": {
        "id": "oQodzmUFktqe"
      }
    },
    {
      "cell_type": "code",
      "source": [
        "TP = cm[0,0]\n",
        "TN = cm[1,1]\n",
        "FP = cm[0,1]\n",
        "FN = cm[1,0]"
      ],
      "metadata": {
        "execution": {
          "iopub.status.busy": "2022-08-05T07:33:28.380966Z",
          "iopub.execute_input": "2022-08-05T07:33:28.382037Z",
          "iopub.status.idle": "2022-08-05T07:33:28.388351Z",
          "shell.execute_reply.started": "2022-08-05T07:33:28.381993Z",
          "shell.execute_reply": "2022-08-05T07:33:28.387219Z"
        },
        "trusted": true,
        "id": "6vcQioaTktqe"
      },
      "execution_count": 34,
      "outputs": []
    },
    {
      "cell_type": "code",
      "source": [
        "# print classification accuracy\n",
        "\n",
        "classification_accuracy = ((TP + TN) / float(TP + TN + FP + FN)*100)\n",
        "\n",
        "print('Classification accuracy : {0:0.2f}'.format(classification_accuracy),'%')"
      ],
      "metadata": {
        "execution": {
          "iopub.status.busy": "2022-08-05T07:33:28.390125Z",
          "iopub.execute_input": "2022-08-05T07:33:28.391067Z",
          "iopub.status.idle": "2022-08-05T07:33:28.400503Z",
          "shell.execute_reply.started": "2022-08-05T07:33:28.391023Z",
          "shell.execute_reply": "2022-08-05T07:33:28.399241Z"
        },
        "trusted": true,
        "id": "QrC1Eybfktqe",
        "colab": {
          "base_uri": "https://localhost:8080/"
        },
        "outputId": "aa075856-6d85-4207-90e1-43ebf361b64c"
      },
      "execution_count": 35,
      "outputs": [
        {
          "output_type": "stream",
          "name": "stdout",
          "text": [
            "Classification accuracy : 86.96 %\n"
          ]
        }
      ]
    },
    {
      "cell_type": "markdown",
      "source": [
        "<font color=\"Fuchsia\"><h2 style=\"text-align: justify; font-family: 'Comic Sans MS'; font-size:25px; color:Fuchsia\"> Classification error  </h2>"
      ],
      "metadata": {
        "id": "FLBQsCM_ktqe"
      }
    },
    {
      "cell_type": "code",
      "source": [
        "classification_error = ((FP + FN) / float(TP + TN + FP + FN)*100)\n",
        "\n",
        "print('Classification error : {0:0.2f}'.format(classification_error),'%')"
      ],
      "metadata": {
        "execution": {
          "iopub.status.busy": "2022-08-05T07:33:28.402292Z",
          "iopub.execute_input": "2022-08-05T07:33:28.402971Z",
          "iopub.status.idle": "2022-08-05T07:33:28.410628Z",
          "shell.execute_reply.started": "2022-08-05T07:33:28.40292Z",
          "shell.execute_reply": "2022-08-05T07:33:28.409402Z"
        },
        "trusted": true,
        "id": "tJNCSsKLktqe",
        "colab": {
          "base_uri": "https://localhost:8080/"
        },
        "outputId": "8c50dedf-8385-4d09-ca0b-ba4a1f433bc5"
      },
      "execution_count": 36,
      "outputs": [
        {
          "output_type": "stream",
          "name": "stdout",
          "text": [
            "Classification error : 13.04 %\n"
          ]
        }
      ]
    },
    {
      "cell_type": "markdown",
      "source": [
        "<font color=\"Fuchsia\"><h2 style=\"text-align: justify; font-family: 'Comic Sans MS'; font-size:25px; color:Fuchsia\"> Precision  </h2>"
      ],
      "metadata": {
        "id": "Cptx9qB3ktqe"
      }
    },
    {
      "cell_type": "markdown",
      "source": [
        "> **Precision** can be defined as the percentage of correctly predicted positive outcomes out of all the predicted positive outcomes. It can be given as the ratio of true positives (TP) to the sum of true and false positives (TP + FP).\n",
        "\n",
        "> So, **Precision** identifies the proportion of correctly predicted positive outcome. It is more concerned with the positive class than the negative class.</font>\n",
        "\n",
        "> Mathematically, precision can be defined as the ratio of **TP to (TP + FP).**"
      ],
      "metadata": {
        "id": "ilKkRrmIktqe"
      }
    },
    {
      "cell_type": "code",
      "source": [
        "# precision score\n",
        "\n",
        "precision = (TP / float(TP + FP)*100)\n",
        "\n",
        "\n",
        "print('Precision : {0:0.2f}'.format(precision),\"%\")"
      ],
      "metadata": {
        "execution": {
          "iopub.status.busy": "2022-08-05T07:33:28.412596Z",
          "iopub.execute_input": "2022-08-05T07:33:28.413268Z",
          "iopub.status.idle": "2022-08-05T07:33:28.421612Z",
          "shell.execute_reply.started": "2022-08-05T07:33:28.413223Z",
          "shell.execute_reply": "2022-08-05T07:33:28.420244Z"
        },
        "trusted": true,
        "id": "srYWZgrhktqf",
        "colab": {
          "base_uri": "https://localhost:8080/"
        },
        "outputId": "30b31e1b-d420-4cd5-fa88-411997472e49"
      },
      "execution_count": 37,
      "outputs": [
        {
          "output_type": "stream",
          "name": "stdout",
          "text": [
            "Precision : 81.58 %\n"
          ]
        }
      ]
    },
    {
      "cell_type": "markdown",
      "source": [
        "<font color=\"Fuchsia\"><h2 style=\"text-align: justify; font-family: 'Comic Sans MS'; font-size:25px; color:Fuchsia\"> Recall  </h2>"
      ],
      "metadata": {
        "id": "94NDLSvDktqf"
      }
    },
    {
      "cell_type": "markdown",
      "source": [
        "> Recall can be defined as the percentage of correctly predicted positive outcomes out of all the actual positive outcomes.\n",
        "It can be given as the ratio of true positives (TP) to the sum of true positives and false negatives (TP + FN). **Recall** is also called **Sensitivity**.\n",
        "\n",
        "> **Recall** identifies the proportion of correctly predicted actual positives.</font>\n",
        "\n",
        "> Mathematically, recall can be given as the ratio of **TP to (TP + FN).**</font>"
      ],
      "metadata": {
        "id": "wAEzfpB-ktqf"
      }
    },
    {
      "cell_type": "code",
      "source": [
        "# recall score\n",
        "\n",
        "recall = (TP / float(TP + FN)*100)\n",
        "\n",
        "print('Recall or Sensitivity : {0:0.2f}'.format(recall),\"%\")"
      ],
      "metadata": {
        "execution": {
          "iopub.status.busy": "2022-08-05T07:33:28.423611Z",
          "iopub.execute_input": "2022-08-05T07:33:28.424329Z",
          "iopub.status.idle": "2022-08-05T07:33:28.431608Z",
          "shell.execute_reply.started": "2022-08-05T07:33:28.424284Z",
          "shell.execute_reply": "2022-08-05T07:33:28.430387Z"
        },
        "trusted": true,
        "id": "B4Kv3_U-ktqf",
        "colab": {
          "base_uri": "https://localhost:8080/"
        },
        "outputId": "62036996-f331-468d-c7a8-11ff3c9fca06"
      },
      "execution_count": 38,
      "outputs": [
        {
          "output_type": "stream",
          "name": "stdout",
          "text": [
            "Recall or Sensitivity : 86.11 %\n"
          ]
        }
      ]
    },
    {
      "cell_type": "markdown",
      "source": [
        "<font color=\"Fuchsia\"><h2 style=\"text-align: justify; font-family: 'Comic Sans MS'; font-size:25px; color:Fuchsia\"> True Positive Rate  </h2>\n",
        "\n",
        "**True Positive Rate** is synonymous with **Recall**."
      ],
      "metadata": {
        "id": "z5vzlE3Wktqf"
      }
    },
    {
      "cell_type": "code",
      "source": [
        "# true_positive_rate\n",
        "\n",
        "true_positive_rate = (TP / float(TP + FN)*100)\n",
        "\n",
        "print('True Positive Rate : {0:0.2f}'.format(true_positive_rate),\"%\")"
      ],
      "metadata": {
        "execution": {
          "iopub.status.busy": "2022-08-05T07:33:28.432996Z",
          "iopub.execute_input": "2022-08-05T07:33:28.433781Z",
          "iopub.status.idle": "2022-08-05T07:33:28.44269Z",
          "shell.execute_reply.started": "2022-08-05T07:33:28.433747Z",
          "shell.execute_reply": "2022-08-05T07:33:28.441678Z"
        },
        "trusted": true,
        "id": "ssCXS_gwktqf",
        "colab": {
          "base_uri": "https://localhost:8080/"
        },
        "outputId": "61667f93-b699-4867-98eb-a60688513713"
      },
      "execution_count": 39,
      "outputs": [
        {
          "output_type": "stream",
          "name": "stdout",
          "text": [
            "True Positive Rate : 86.11 %\n"
          ]
        }
      ]
    },
    {
      "cell_type": "markdown",
      "source": [
        "<font color=\"Fuchsia\"><h2 style=\"text-align: justify; font-family: 'Comic Sans MS'; font-size:25px; color:Fuchsia\"> False Positive Rate  </h2>"
      ],
      "metadata": {
        "id": "dX_85L0wktqf"
      }
    },
    {
      "cell_type": "code",
      "source": [
        "# true_positive_rate\n",
        "\n",
        "false_positive_rate = (FP / float(FP + TN)*100)\n",
        "\n",
        "print('False Positive Rate : {0:0.2f}'.format(false_positive_rate),\"%\")"
      ],
      "metadata": {
        "execution": {
          "iopub.status.busy": "2022-08-05T07:33:28.444061Z",
          "iopub.execute_input": "2022-08-05T07:33:28.445237Z",
          "iopub.status.idle": "2022-08-05T07:33:28.459431Z",
          "shell.execute_reply.started": "2022-08-05T07:33:28.445191Z",
          "shell.execute_reply": "2022-08-05T07:33:28.458166Z"
        },
        "trusted": true,
        "id": "LlWORnNSktqf",
        "colab": {
          "base_uri": "https://localhost:8080/"
        },
        "outputId": "eb4e478a-38eb-4a65-cc72-4b27539d28d5"
      },
      "execution_count": 40,
      "outputs": [
        {
          "output_type": "stream",
          "name": "stdout",
          "text": [
            "False Positive Rate : 12.50 %\n"
          ]
        }
      ]
    },
    {
      "cell_type": "markdown",
      "source": [
        "<font color=\"Fuchsia\"><h2 style=\"text-align: justify; font-family: 'Comic Sans MS'; font-size:25px; color:Fuchsia\"> Specificity  </h2>"
      ],
      "metadata": {
        "id": "AVTqGEezktqf"
      }
    },
    {
      "cell_type": "code",
      "source": [
        "# Specificity\n",
        "\n",
        "specificity = (TN / (TN + FP)*100)\n",
        "\n",
        "print('Specificity : {0:0.2f}'.format(specificity),'%')"
      ],
      "metadata": {
        "execution": {
          "iopub.status.busy": "2022-08-05T07:33:28.460693Z",
          "iopub.execute_input": "2022-08-05T07:33:28.461578Z",
          "iopub.status.idle": "2022-08-05T07:33:28.469348Z",
          "shell.execute_reply.started": "2022-08-05T07:33:28.461543Z",
          "shell.execute_reply": "2022-08-05T07:33:28.468524Z"
        },
        "trusted": true,
        "id": "wUF4444Cktqg",
        "colab": {
          "base_uri": "https://localhost:8080/"
        },
        "outputId": "f09f952f-f9f4-4f92-ae4e-17d57f8da501"
      },
      "execution_count": 41,
      "outputs": [
        {
          "output_type": "stream",
          "name": "stdout",
          "text": [
            "Specificity : 87.50 %\n"
          ]
        }
      ]
    },
    {
      "cell_type": "markdown",
      "source": [
        "<font color=\"Fuchsia\"><h2 style=\"text-align: justify; font-family: 'Comic Sans MS'; font-size:25px; color:Fuchsia\"> Sensitivity  </h2>"
      ],
      "metadata": {
        "id": "2CAQq-Otktqg"
      }
    },
    {
      "cell_type": "code",
      "source": [
        "# Sensitivity\n",
        "\n",
        "Sensitivity = (TP / (TP + FN)*100)\n",
        "\n",
        "print('Specificity : {0:0.2f}'.format(Sensitivity),\"%\")"
      ],
      "metadata": {
        "execution": {
          "iopub.status.busy": "2022-08-05T07:33:28.470378Z",
          "iopub.execute_input": "2022-08-05T07:33:28.471079Z",
          "iopub.status.idle": "2022-08-05T07:33:28.482438Z",
          "shell.execute_reply.started": "2022-08-05T07:33:28.471047Z",
          "shell.execute_reply": "2022-08-05T07:33:28.481385Z"
        },
        "trusted": true,
        "id": "-iKbld1kktqg",
        "colab": {
          "base_uri": "https://localhost:8080/"
        },
        "outputId": "306d5436-d75e-4ed4-c48c-634800fd96c1"
      },
      "execution_count": 42,
      "outputs": [
        {
          "output_type": "stream",
          "name": "stdout",
          "text": [
            "Specificity : 86.11 %\n"
          ]
        }
      ]
    },
    {
      "cell_type": "markdown",
      "source": [
        "<font color=\"Fuchsia\"><h2 style=\"text-align: justify; font-family: 'Comic Sans MS'; font-size:25px; color:Fuchsia\"> f1-score  </h2>"
      ],
      "metadata": {
        "id": "_dnvA1Gcktqg"
      }
    },
    {
      "cell_type": "code",
      "source": [
        "# f1 score\n",
        "\n",
        "Rm_f1_score = round(f1_score(y_pred_Rm, y_test) * 100)\n",
        "print('f1 Score : ',Rm_f1_score,\"%\")"
      ],
      "metadata": {
        "execution": {
          "iopub.status.busy": "2022-08-05T07:33:28.483767Z",
          "iopub.execute_input": "2022-08-05T07:33:28.484299Z",
          "iopub.status.idle": "2022-08-05T07:33:28.49505Z",
          "shell.execute_reply.started": "2022-08-05T07:33:28.484267Z",
          "shell.execute_reply": "2022-08-05T07:33:28.493894Z"
        },
        "trusted": true,
        "id": "cxqw-nWUktqg",
        "colab": {
          "base_uri": "https://localhost:8080/"
        },
        "outputId": "b053d2d1-8e6e-4756-d305-355790e525c9"
      },
      "execution_count": 43,
      "outputs": [
        {
          "output_type": "stream",
          "name": "stdout",
          "text": [
            "f1 Score :  89 %\n"
          ]
        }
      ]
    },
    {
      "cell_type": "markdown",
      "source": [
        "<font color=\"Fuchsia\"><h2 style=\"text-align: justify; font-family: 'Comic Sans MS'; font-size:25px; color:Fuchsia\">ROC Curve </h2>"
      ],
      "metadata": {
        "papermill": {
          "duration": 0.106749,
          "end_time": "2022-07-15T02:28:56.582195",
          "exception": false,
          "start_time": "2022-07-15T02:28:56.475446",
          "status": "completed"
        },
        "tags": [],
        "id": "evuL_6Vsktqh"
      }
    },
    {
      "cell_type": "markdown",
      "source": [
        "<center>\n",
        "    <img src=\"http://web.cs.ucla.edu/~mtgarip/images/ROC_curve.png\" alt=\"ROC Curve\" width=\"80%\">\n",
        "</center"
      ],
      "metadata": {
        "papermill": {
          "duration": 0.109615,
          "end_time": "2022-07-15T02:28:57.014238",
          "exception": false,
          "start_time": "2022-07-15T02:28:56.904623",
          "status": "completed"
        },
        "tags": [],
        "id": "xanjVNgZktqh"
      }
    },
    {
      "cell_type": "code",
      "source": [
        "from sklearn.metrics import roc_curve\n",
        "import matplotlib.pyplot as plt\n",
        "\n",
        "# Assuming you have already trained a model 'Rm' and have X_test and y_test\n",
        "y_scores = Rm.predict_proba(X_test)[:, 1]  # Replace 1 with the index of the positive class\n",
        "fpr, tpr, thresholds = roc_curve(y_test, y_scores)\n",
        "\n",
        "# Now you can plot the ROC curve\n",
        "plt.figure(figsize=(8, 6))\n",
        "plt.plot(fpr, tpr, color='b')\n",
        "plt.plot([0, 1], [0, 1], linestyle='--', color='gray')\n",
        "plt.xlabel('False Positive Rate')\n",
        "plt.ylabel('True Positive Rate')\n",
        "plt.title('ROC Curve')\n",
        "plt.show()\n"
      ],
      "metadata": {
        "colab": {
          "base_uri": "https://localhost:8080/",
          "height": 604
        },
        "id": "wEeODusIqkWt",
        "outputId": "ce98b143-806e-4f54-f29d-5cd923473b22"
      },
      "execution_count": 46,
      "outputs": [
        {
          "output_type": "display_data",
          "data": {
            "text/plain": [
              "<Figure size 800x600 with 1 Axes>"
            ],
            "image/png": "[encoded data removed]"
          },
          "metadata": {}
        }
      ]
    },
    {
      "cell_type": "markdown",
      "source": [
        "<font color=\"Fuchsia\"><h2 style=\"text-align: justify; font-family: 'Comic Sans MS'; font-size:25px; color:Fuchsia\">Precision Recall Curve </h2>"
      ],
      "metadata": {
        "papermill": {
          "duration": 0.177669,
          "end_time": "2022-07-15T02:28:58.207883",
          "exception": false,
          "start_time": "2022-07-15T02:28:58.030214",
          "status": "completed"
        },
        "tags": [],
        "id": "KuHfabRJktqh"
      }
    },
    {
      "cell_type": "code",
      "source": [
        "from sklearn.metrics import precision_recall_curve\n",
        "import matplotlib.pyplot as plt\n",
        "\n",
        "# Assuming you have already trained a model 'Rm' and have X_test and y_test\n",
        "y_scores = Rm.predict_proba(X_test)[:, 1]  # Replace 1 with the index of the positive class\n",
        "precision, recall, thresholds = precision_recall_curve(y_test, y_scores)\n",
        "\n",
        "# Now you can plot the Precision-Recall curve\n",
        "plt.figure(figsize=(8, 6))\n",
        "plt.plot(recall, precision, color='b')\n",
        "plt.xlabel('Recall')\n",
        "plt.ylabel('Precision')\n",
        "plt.title('Precision-Recall Curve')\n",
        "plt.show()\n",
        "\n"
      ],
      "metadata": {
        "colab": {
          "base_uri": "https://localhost:8080/",
          "height": 604
        },
        "id": "inry9CTFqvs_",
        "outputId": "18c6a770-25f2-416e-ccb7-4826405b2db7"
      },
      "execution_count": 49,
      "outputs": [
        {
          "output_type": "display_data",
          "data": {
            "text/plain": [
              "<Figure size 800x600 with 1 Axes>"
            ],
            "image/png": "[encoded data removed]"
          },
          "metadata": {}
        }
      ]
    }
  ]
}