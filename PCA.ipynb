{
  "metadata": {
    "kernelspec": {
      "language": "python",
      "display_name": "Python 3",
      "name": "python3"
    },
    "language_info": {
      "name": "python",
      "version": "3.10.12",
      "mimetype": "text/x-python",
      "codemirror_mode": {
        "name": "ipython",
        "version": 3
      },
      "pygments_lexer": "ipython3",
      "nbconvert_exporter": "python",
      "file_extension": ".py"
    },
    "colab": {
      "provenance": [],
      "include_colab_link": true
    }
  },
  "nbformat_minor": 0,
  "nbformat": 4,
  "cells": [
    {
      "cell_type": "markdown",
      "metadata": {
        "id": "view-in-github",
        "colab_type": "text"
      },
      "source": [
        "<a href=\"https://colab.research.google.com/github/sandeepangh782/ML-21CSC307P/blob/main/PCA.ipynb\" target=\"_parent\"><img src=\"https://colab.research.google.com/assets/colab-badge.svg\" alt=\"Open In Colab\"/></a>"
      ]
    },
    {
      "cell_type": "code",
      "source": [
        "# This Python 3 environment comes with many helpful analytics libraries installed\n",
        "# It is defined by the kaggle/python Docker image: https://github.com/kaggle/docker-python\n",
        "# For example, here's several helpful packages to load\n",
        "\n",
        "import numpy as np # linear algebra\n",
        "import pandas as pd # data processing, CSV file I/O (e.g. pd.read_csv)\n",
        "\n",
        "# Input data files are available in the read-only \"../input/\" directory\n",
        "# For example, running this (by clicking run or pressing Shift+Enter) will list all files under the input directory\n",
        "\n",
        "import os\n",
        "for dirname, _, filenames in os.walk('/kaggle/input'):\n",
        "    for filename in filenames:\n",
        "        print(os.path.join(dirname, filename))\n",
        "\n",
        "# You can write up to 20GB to the current directory (/kaggle/working/) that gets preserved as output when you create a version using \"Save & Run All\"\n",
        "# You can also write temporary files to /kaggle/temp/, but they won't be saved outside of the current session"
      ],
      "metadata": {
        "_uuid": "8f2839f25d086af736a60e9eeb907d3b93b6e0e5",
        "_cell_guid": "b1076dfc-b9ad-4769-8c92-a6c4dae69d19",
        "execution": {
          "iopub.status.busy": "2023-09-13T16:09:40.780155Z",
          "iopub.execute_input": "2023-09-13T16:09:40.780621Z",
          "iopub.status.idle": "2023-09-13T16:09:41.231036Z",
          "shell.execute_reply.started": "2023-09-13T16:09:40.780572Z",
          "shell.execute_reply": "2023-09-13T16:09:41.229814Z"
        },
        "trusted": true,
        "id": "pzKenX2eiXjQ"
      },
      "execution_count": null,
      "outputs": []
    },
    {
      "cell_type": "code",
      "source": [
        "import numpy as np # linear algebra\n",
        "import pandas as pd # data processing, CSV file I/O (e.g. pd.read_csv)\n",
        "import matplotlib as mpl\n",
        "import matplotlib.pyplot as plt\n",
        "import seaborn as sns\n",
        "%matplotlib inline"
      ],
      "metadata": {
        "execution": {
          "iopub.status.busy": "2023-09-13T16:09:41.232953Z",
          "iopub.execute_input": "2023-09-13T16:09:41.233482Z",
          "iopub.status.idle": "2023-09-13T16:09:41.616829Z",
          "shell.execute_reply.started": "2023-09-13T16:09:41.233448Z",
          "shell.execute_reply": "2023-09-13T16:09:41.615623Z"
        },
        "trusted": true,
        "id": "vqLf5v39iXjT"
      },
      "execution_count": null,
      "outputs": []
    },
    {
      "cell_type": "code",
      "source": [
        "df = pd.read_csv(\"/kaggle/input/stroke-prediction-dataset/healthcare-dataset-stroke-data.csv\")"
      ],
      "metadata": {
        "execution": {
          "iopub.status.busy": "2023-09-13T16:09:41.618233Z",
          "iopub.execute_input": "2023-09-13T16:09:41.618581Z",
          "iopub.status.idle": "2023-09-13T16:09:41.658453Z",
          "shell.execute_reply.started": "2023-09-13T16:09:41.618550Z",
          "shell.execute_reply": "2023-09-13T16:09:41.657281Z"
        },
        "trusted": true,
        "id": "gho5NBEkiXjU"
      },
      "execution_count": null,
      "outputs": []
    },
    {
      "cell_type": "code",
      "source": [
        "columns_names=df.columns.tolist()\n",
        "print(\"Columns names:\")\n",
        "print(columns_names)"
      ],
      "metadata": {
        "execution": {
          "iopub.status.busy": "2023-09-13T16:09:41.661826Z",
          "iopub.execute_input": "2023-09-13T16:09:41.662276Z",
          "iopub.status.idle": "2023-09-13T16:09:41.667842Z",
          "shell.execute_reply.started": "2023-09-13T16:09:41.662235Z",
          "shell.execute_reply": "2023-09-13T16:09:41.666580Z"
        },
        "trusted": true,
        "id": "OBfmQvoUiXjU"
      },
      "execution_count": null,
      "outputs": []
    },
    {
      "cell_type": "code",
      "source": [
        "df.head()"
      ],
      "metadata": {
        "execution": {
          "iopub.status.busy": "2023-09-13T16:09:41.669736Z",
          "iopub.execute_input": "2023-09-13T16:09:41.670174Z",
          "iopub.status.idle": "2023-09-13T16:09:41.710639Z",
          "shell.execute_reply.started": "2023-09-13T16:09:41.670134Z",
          "shell.execute_reply": "2023-09-13T16:09:41.709531Z"
        },
        "trusted": true,
        "id": "9ZmE2aR9iXjV"
      },
      "execution_count": null,
      "outputs": []
    },
    {
      "cell_type": "code",
      "source": [
        "categorical_columns = ['gender', 'ever_married', 'work_type', 'Residence_type', 'smoking_status']\n",
        "\n",
        "# Use one-hot encoding to convert categorical columns into numerical columns\n",
        "df_encoded = pd.get_dummies(df, columns=categorical_columns, drop_first=True)\n",
        "\n",
        "# Calculate the correlation matrix\n",
        "correlation_matrix = df_encoded.corr()\n",
        "correlation_matrix"
      ],
      "metadata": {
        "execution": {
          "iopub.status.busy": "2023-09-13T16:09:41.712529Z",
          "iopub.execute_input": "2023-09-13T16:09:41.712924Z",
          "iopub.status.idle": "2023-09-13T16:09:41.785579Z",
          "shell.execute_reply.started": "2023-09-13T16:09:41.712893Z",
          "shell.execute_reply": "2023-09-13T16:09:41.784697Z"
        },
        "trusted": true,
        "id": "ck1POnGaiXjV"
      },
      "execution_count": null,
      "outputs": []
    },
    {
      "cell_type": "code",
      "source": [
        "plt.figure(figsize=(10,10))\n",
        "sns.heatmap(correlation_matrix, vmax=1, square=True,annot=True,cmap='cubehelix')\n",
        "\n",
        "plt.title('Correlation between different fearures')"
      ],
      "metadata": {
        "execution": {
          "iopub.status.busy": "2023-09-13T16:09:41.786706Z",
          "iopub.execute_input": "2023-09-13T16:09:41.787137Z",
          "iopub.status.idle": "2023-09-13T16:09:43.622294Z",
          "shell.execute_reply.started": "2023-09-13T16:09:41.787096Z",
          "shell.execute_reply": "2023-09-13T16:09:43.621094Z"
        },
        "trusted": true,
        "id": "9T652BvciXjV"
      },
      "execution_count": null,
      "outputs": []
    },
    {
      "cell_type": "code",
      "source": [
        "df['avg_glucose_level'].unique()"
      ],
      "metadata": {
        "execution": {
          "iopub.status.busy": "2023-09-13T16:09:43.623354Z",
          "iopub.execute_input": "2023-09-13T16:09:43.623683Z",
          "iopub.status.idle": "2023-09-13T16:09:43.632370Z",
          "shell.execute_reply.started": "2023-09-13T16:09:43.623654Z",
          "shell.execute_reply": "2023-09-13T16:09:43.630997Z"
        },
        "trusted": true,
        "id": "GCDIvV9JiXjW"
      },
      "execution_count": null,
      "outputs": []
    },
    {
      "cell_type": "code",
      "source": [
        "avg_glucose=df.groupby('avg_glucose_level').sum()\n",
        "avg_glucose"
      ],
      "metadata": {
        "execution": {
          "iopub.status.busy": "2023-09-13T16:09:43.634090Z",
          "iopub.execute_input": "2023-09-13T16:09:43.634638Z",
          "iopub.status.idle": "2023-09-13T16:09:43.679521Z",
          "shell.execute_reply.started": "2023-09-13T16:09:43.634570Z",
          "shell.execute_reply": "2023-09-13T16:09:43.678375Z"
        },
        "trusted": true,
        "id": "TeG0TPcbiXjW"
      },
      "execution_count": null,
      "outputs": []
    },
    {
      "cell_type": "markdown",
      "source": [
        "# **PCA**"
      ],
      "metadata": {
        "id": "6aCS5F85iXjW"
      }
    },
    {
      "cell_type": "markdown",
      "source": [
        "# Import the necessary libraries"
      ],
      "metadata": {
        "id": "XpcMsO7piXjX"
      }
    },
    {
      "cell_type": "code",
      "source": [
        "import pandas as pd\n",
        "from sklearn.preprocessing import StandardScaler, LabelEncoder"
      ],
      "metadata": {
        "execution": {
          "iopub.status.busy": "2023-09-13T16:09:43.685953Z",
          "iopub.execute_input": "2023-09-13T16:09:43.686304Z",
          "iopub.status.idle": "2023-09-13T16:09:43.691400Z",
          "shell.execute_reply.started": "2023-09-13T16:09:43.686275Z",
          "shell.execute_reply": "2023-09-13T16:09:43.690240Z"
        },
        "trusted": true,
        "id": "hTJgqUCUiXjX"
      },
      "execution_count": null,
      "outputs": []
    },
    {
      "cell_type": "code",
      "source": [],
      "metadata": {
        "id": "oVE1Z5e2jEPy"
      },
      "execution_count": null,
      "outputs": []
    },
    {
      "cell_type": "markdown",
      "source": [
        "# Load the Dataset"
      ],
      "metadata": {
        "id": "FlNb_3wziXjY"
      }
    },
    {
      "cell_type": "code",
      "source": [
        "data = pd.read_csv('/kaggle/input/stroke-prediction-dataset/healthcare-dataset-stroke-data.csv')"
      ],
      "metadata": {
        "execution": {
          "iopub.status.busy": "2023-09-13T16:09:43.692636Z",
          "iopub.execute_input": "2023-09-13T16:09:43.693129Z",
          "iopub.status.idle": "2023-09-13T16:09:43.719452Z",
          "shell.execute_reply.started": "2023-09-13T16:09:43.693070Z",
          "shell.execute_reply": "2023-09-13T16:09:43.718115Z"
        },
        "trusted": true,
        "id": "2vubBYYUiXjY"
      },
      "execution_count": null,
      "outputs": []
    },
    {
      "cell_type": "code",
      "source": [
        "data.head()"
      ],
      "metadata": {
        "execution": {
          "iopub.status.busy": "2023-09-13T16:09:43.720883Z",
          "iopub.execute_input": "2023-09-13T16:09:43.721243Z",
          "iopub.status.idle": "2023-09-13T16:09:43.741758Z",
          "shell.execute_reply.started": "2023-09-13T16:09:43.721213Z",
          "shell.execute_reply": "2023-09-13T16:09:43.740520Z"
        },
        "trusted": true,
        "id": "kURsfbyniXjY"
      },
      "execution_count": null,
      "outputs": []
    },
    {
      "cell_type": "code",
      "source": [
        "# Handle missing values (use mean, median, or mode based on the nature of the data)\n",
        "df1=data.fillna(method ='ffill', inplace = True)"
      ],
      "metadata": {
        "execution": {
          "iopub.status.busy": "2023-09-13T16:15:47.042644Z",
          "iopub.execute_input": "2023-09-13T16:15:47.043066Z",
          "iopub.status.idle": "2023-09-13T16:15:47.049325Z",
          "shell.execute_reply.started": "2023-09-13T16:15:47.043037Z",
          "shell.execute_reply": "2023-09-13T16:15:47.048074Z"
        },
        "trusted": true,
        "id": "uMCLtqHviXjY"
      },
      "execution_count": null,
      "outputs": []
    },
    {
      "cell_type": "code",
      "source": [
        "# Splitting the dataset\n",
        "X = data.drop('stroke', axis=1)  # Assuming 'stroke' is the column name for the outcome variable\n",
        "y = data['stroke']"
      ],
      "metadata": {
        "execution": {
          "iopub.status.busy": "2023-09-13T16:09:43.780732Z",
          "iopub.execute_input": "2023-09-13T16:09:43.781931Z",
          "iopub.status.idle": "2023-09-13T16:09:43.789297Z",
          "shell.execute_reply.started": "2023-09-13T16:09:43.781887Z",
          "shell.execute_reply": "2023-09-13T16:09:43.788248Z"
        },
        "trusted": true,
        "id": "C7dcHPvoiXjY"
      },
      "execution_count": null,
      "outputs": []
    },
    {
      "cell_type": "markdown",
      "source": [
        "# Data Standardisation"
      ],
      "metadata": {
        "id": "Z2JWhMcciXjY"
      }
    },
    {
      "cell_type": "code",
      "source": [
        "# Standardize features\n",
        "scaler = StandardScaler()\n",
        "X_scaled = scaler.fit_transform(X)"
      ],
      "metadata": {
        "execution": {
          "iopub.status.busy": "2023-09-13T16:09:43.790809Z",
          "iopub.execute_input": "2023-09-13T16:09:43.791160Z",
          "iopub.status.idle": "2023-09-13T16:09:43.810676Z",
          "shell.execute_reply.started": "2023-09-13T16:09:43.791129Z",
          "shell.execute_reply": "2023-09-13T16:09:43.809627Z"
        },
        "trusted": true,
        "id": "J6oy-wTxiXjY"
      },
      "execution_count": null,
      "outputs": []
    },
    {
      "cell_type": "markdown",
      "source": [
        "# Computing Eigen Vectors and Eigen value with the help of Covariance Matrix"
      ],
      "metadata": {
        "id": "zOfRjwQfiXjY"
      }
    },
    {
      "cell_type": "code",
      "source": [
        "# Compute the covariance matrix\n",
        "cov_matrix = np.cov(X_scaled.T)\n",
        "print(cov_matrix)"
      ],
      "metadata": {
        "execution": {
          "iopub.status.busy": "2023-09-13T16:22:38.396010Z",
          "iopub.execute_input": "2023-09-13T16:22:38.396429Z",
          "iopub.status.idle": "2023-09-13T16:22:38.406291Z",
          "shell.execute_reply.started": "2023-09-13T16:22:38.396394Z",
          "shell.execute_reply": "2023-09-13T16:22:38.405035Z"
        },
        "trusted": true,
        "id": "EYhZTN-GiXjY"
      },
      "execution_count": null,
      "outputs": []
    },
    {
      "cell_type": "code",
      "source": [
        "eigenvalues, eigenvectors = np.linalg.eig(cov_matrix)\n",
        "eigenvalues"
      ],
      "metadata": {
        "execution": {
          "iopub.status.busy": "2023-09-13T16:09:43.827325Z",
          "iopub.execute_input": "2023-09-13T16:09:43.827852Z",
          "iopub.status.idle": "2023-09-13T16:09:43.850880Z",
          "shell.execute_reply.started": "2023-09-13T16:09:43.827808Z",
          "shell.execute_reply": "2023-09-13T16:09:43.849410Z"
        },
        "trusted": true,
        "id": "KZ2f187xiXjY"
      },
      "execution_count": null,
      "outputs": []
    },
    {
      "cell_type": "code",
      "source": [
        "print(eigenvectors)"
      ],
      "metadata": {
        "execution": {
          "iopub.status.busy": "2023-09-13T16:22:25.535596Z",
          "iopub.execute_input": "2023-09-13T16:22:25.536124Z",
          "iopub.status.idle": "2023-09-13T16:22:25.543752Z",
          "shell.execute_reply.started": "2023-09-13T16:22:25.536090Z",
          "shell.execute_reply": "2023-09-13T16:22:25.542586Z"
        },
        "trusted": true,
        "id": "5lEvEdQfiXjY"
      },
      "execution_count": null,
      "outputs": []
    },
    {
      "cell_type": "code",
      "source": [
        "# Sort eigenvectors by eigenvalues in descending order\n",
        "sorted_indices = np.argsort(eigenvalues)[::-1]\n",
        "eigenvalues_sorted = eigenvalues[sorted_indices]\n",
        "eigenvectors_sorted = eigenvectors[:, sorted_indices]\n",
        "print('The Sorted Eigenvalues are:',eigenvalues_sorted)\n",
        "\n",
        "print('The Sorted Eigenvectors are:',eigenvectors_sorted)"
      ],
      "metadata": {
        "execution": {
          "iopub.status.busy": "2023-09-13T16:09:43.863526Z",
          "iopub.execute_input": "2023-09-13T16:09:43.863900Z",
          "iopub.status.idle": "2023-09-13T16:09:43.877468Z",
          "shell.execute_reply.started": "2023-09-13T16:09:43.863870Z",
          "shell.execute_reply": "2023-09-13T16:09:43.876148Z"
        },
        "trusted": true,
        "id": "vUG8GnoLiXjY"
      },
      "execution_count": null,
      "outputs": []
    },
    {
      "cell_type": "code",
      "source": [
        "# Let's say you want the projection on the top 2 principal components\n",
        "N = 2\n",
        "top_n_eigenvectors = eigenvectors_sorted[:, :N]\n",
        "top_n_eigenvectors"
      ],
      "metadata": {
        "execution": {
          "iopub.status.busy": "2023-09-13T16:09:43.879188Z",
          "iopub.execute_input": "2023-09-13T16:09:43.879648Z",
          "iopub.status.idle": "2023-09-13T16:09:43.896224Z",
          "shell.execute_reply.started": "2023-09-13T16:09:43.879583Z",
          "shell.execute_reply": "2023-09-13T16:09:43.895090Z"
        },
        "trusted": true,
        "id": "D2mw9PXJiXjY"
      },
      "execution_count": null,
      "outputs": []
    },
    {
      "cell_type": "code",
      "source": [
        "# Transform the data\n",
        "X_pca_manual = X_scaled.dot(top_n_eigenvectors)\n",
        "X_pca_manual"
      ],
      "metadata": {
        "execution": {
          "iopub.status.busy": "2023-09-13T16:09:43.898165Z",
          "iopub.execute_input": "2023-09-13T16:09:43.898577Z",
          "iopub.status.idle": "2023-09-13T16:09:43.912171Z",
          "shell.execute_reply.started": "2023-09-13T16:09:43.898543Z",
          "shell.execute_reply": "2023-09-13T16:09:43.911293Z"
        },
        "trusted": true,
        "id": "_KkZTMQRiXjY"
      },
      "execution_count": null,
      "outputs": []
    },
    {
      "cell_type": "code",
      "source": [
        "from sklearn.decomposition import PCA\n",
        "\n",
        "# Decide on the number of components or let PCA decide.\n",
        "# For demonstration purposes, let's take the top 2 components.\n",
        "pca = PCA()\n",
        "\n",
        "# Fit and transform the standardized data.\n",
        "X_pca_sklearn = pca.fit_transform(X_scaled)\n",
        "\n",
        "explained_variance = pca.explained_variance_ratio_"
      ],
      "metadata": {
        "execution": {
          "iopub.status.busy": "2023-09-13T16:09:43.913275Z",
          "iopub.execute_input": "2023-09-13T16:09:43.914046Z",
          "iopub.status.idle": "2023-09-13T16:09:43.953261Z",
          "shell.execute_reply.started": "2023-09-13T16:09:43.914000Z",
          "shell.execute_reply": "2023-09-13T16:09:43.951152Z"
        },
        "trusted": true,
        "id": "pXOvrTkGiXjZ"
      },
      "execution_count": null,
      "outputs": []
    },
    {
      "cell_type": "code",
      "source": [
        "from sklearn.decomposition import PCA\n",
        "\n",
        "pca = PCA()  # You can provide a number to n_components if you have a target dimensionality\n",
        "X_pca = pca.fit_transform(X_scaled)\n",
        "\n",
        "explained_variance = pca.explained_variance_ratio_"
      ],
      "metadata": {
        "execution": {
          "iopub.status.busy": "2023-09-13T16:09:43.956151Z",
          "iopub.execute_input": "2023-09-13T16:09:43.957265Z",
          "iopub.status.idle": "2023-09-13T16:09:43.970402Z",
          "shell.execute_reply.started": "2023-09-13T16:09:43.957201Z",
          "shell.execute_reply": "2023-09-13T16:09:43.968882Z"
        },
        "trusted": true,
        "id": "FGUfjeRiiXjZ"
      },
      "execution_count": null,
      "outputs": []
    },
    {
      "cell_type": "code",
      "source": [
        "import matplotlib.pyplot as plt\n",
        "\n",
        "# Plot explained variance by each component\n",
        "plt.figure(figsize=(10, 6))\n",
        "plt.bar(range(len(explained_variance)), explained_variance, alpha=0.5, align='center', label='individual explained variance')\n",
        "plt.ylabel('Explained Variance')\n",
        "plt.xlabel('Principal Components')\n",
        "plt.legend(loc='best')\n",
        "plt.tight_layout()\n",
        "plt.show()\n",
        "\n",
        "# Optionally, visualize the data in the first two principal components:\n",
        "plt.figure(figsize=(10, 6))\n",
        "plt.scatter(X_pca[:, 0], X_pca[:, 1], c=y, cmap='viridis')  # color by target\n",
        "plt.xlabel('First Principal Component')\n",
        "plt.ylabel('Second Principal Component')\n",
        "plt.title('PCA of Stroke Prediction Dataset')\n",
        "plt.colorbar()\n",
        "plt.show()\n"
      ],
      "metadata": {
        "execution": {
          "iopub.status.busy": "2023-09-13T16:09:43.972755Z",
          "iopub.execute_input": "2023-09-13T16:09:43.973759Z",
          "iopub.status.idle": "2023-09-13T16:09:44.801787Z",
          "shell.execute_reply.started": "2023-09-13T16:09:43.973682Z",
          "shell.execute_reply": "2023-09-13T16:09:44.800656Z"
        },
        "trusted": true,
        "id": "KIvqTLm9iXjZ"
      },
      "execution_count": null,
      "outputs": []
    },
    {
      "cell_type": "code",
      "source": [
        "import matplotlib.pyplot as plt\n",
        "\n",
        "# Plotting the variance explained by each component\n",
        "plt.figure(figsize=(10, 6))\n",
        "plt.bar(range(len(explained_variance)), explained_variance, alpha=0.5, align='center', label='individual explained variance')\n",
        "plt.ylabel('Explained Variance')\n",
        "plt.xlabel('Principal Components')\n",
        "plt.legend(loc='best')\n",
        "plt.tight_layout()\n",
        "plt.show()\n",
        "\n",
        "# Visualizing the data in the first two principal components\n",
        "plt.figure(figsize=(10, 6))\n",
        "plt.scatter(X_pca_sklearn[:, 2], X_pca_sklearn[:, 3], c=y, cmap='viridis')  # color by target\n",
        "plt.xlabel('First Principal Component')\n",
        "plt.ylabel('Second Principal Component')\n",
        "plt.title('PCA (with scikit-learn) of Stroke Prediction Dataset')\n",
        "plt.colorbar()\n",
        "plt.show()"
      ],
      "metadata": {
        "execution": {
          "iopub.status.busy": "2023-09-13T16:09:44.803463Z",
          "iopub.execute_input": "2023-09-13T16:09:44.804134Z",
          "iopub.status.idle": "2023-09-13T16:09:45.693951Z",
          "shell.execute_reply.started": "2023-09-13T16:09:44.804090Z",
          "shell.execute_reply": "2023-09-13T16:09:45.693136Z"
        },
        "trusted": true,
        "id": "fIzznKXIiXjZ"
      },
      "execution_count": null,
      "outputs": []
    },
    {
      "cell_type": "code",
      "source": [
        "from sklearn.decomposition import PCA\n",
        "pca = PCA().fit(X_pca_sklearn)\n",
        "plt.plot(np.cumsum(pca.explained_variance_ratio_))\n",
        "plt.xlim(0,11,1)\n",
        "plt.xlabel('Number of components')\n",
        "plt.ylabel('Cumulative explained variance')"
      ],
      "metadata": {
        "execution": {
          "iopub.status.busy": "2023-09-13T16:10:35.307940Z",
          "iopub.execute_input": "2023-09-13T16:10:35.308332Z",
          "iopub.status.idle": "2023-09-13T16:10:35.645999Z",
          "shell.execute_reply.started": "2023-09-13T16:10:35.308303Z",
          "shell.execute_reply": "2023-09-13T16:10:35.644593Z"
        },
        "trusted": true,
        "id": "ouOCkhc_iXjZ"
      },
      "execution_count": null,
      "outputs": []
    }
  ]
}