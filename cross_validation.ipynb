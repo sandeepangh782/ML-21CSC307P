{
  "metadata": {
    "kernelspec": {
      "language": "python",
      "display_name": "Python 3",
      "name": "python3"
    },
    "language_info": {
      "name": "python",
      "version": "3.10.12",
      "mimetype": "text/x-python",
      "codemirror_mode": {
        "name": "ipython",
        "version": 3
      },
      "pygments_lexer": "ipython3",
      "nbconvert_exporter": "python",
      "file_extension": ".py"
    },
    "colab": {
      "provenance": [],
      "include_colab_link": true
    }
  },
  "nbformat_minor": 0,
  "nbformat": 4,
  "cells": [
    {
      "cell_type": "markdown",
      "metadata": {
        "id": "view-in-github",
        "colab_type": "text"
      },
      "source": [
        "<a href=\"https://colab.research.google.com/github/sandeepangh782/ML-21CSC307P/blob/main/cross_validation.ipynb\" target=\"_parent\"><img src=\"https://colab.research.google.com/assets/colab-badge.svg\" alt=\"Open In Colab\"/></a>"
      ]
    },
    {
      "cell_type": "code",
      "source": [
        "import numpy as np\n",
        "import pandas as pd\n",
        "import matplotlib.pyplot as plt\n",
        "import seaborn as sns\n",
        "%matplotlib inline\n",
        "import os\n",
        "for dirname, _, filenames in os.walk('/kaggle/input'):\n",
        "    for filename in filenames:\n",
        "        print(os.path.join(dirname, filename))"
      ],
      "metadata": {
        "_uuid": "8f2839f25d086af736a60e9eeb907d3b93b6e0e5",
        "_cell_guid": "b1076dfc-b9ad-4769-8c92-a6c4dae69d19",
        "execution": {
          "iopub.status.busy": "2023-10-11T18:28:41.755416Z",
          "iopub.execute_input": "2023-10-11T18:28:41.755864Z",
          "iopub.status.idle": "2023-10-11T18:28:43.692208Z",
          "shell.execute_reply.started": "2023-10-11T18:28:41.755832Z",
          "shell.execute_reply": "2023-10-11T18:28:43.690753Z"
        },
        "trusted": true,
        "id": "7aSBPncTzUs5"
      },
      "execution_count": 17,
      "outputs": []
    },
    {
      "cell_type": "code",
      "source": [
        "import warnings\n",
        "\n",
        "warnings.filterwarnings('ignore')"
      ],
      "metadata": {
        "execution": {
          "iopub.status.busy": "2023-10-11T18:28:43.695229Z",
          "iopub.execute_input": "2023-10-11T18:28:43.695877Z",
          "iopub.status.idle": "2023-10-11T18:28:43.703737Z",
          "shell.execute_reply.started": "2023-10-11T18:28:43.695830Z",
          "shell.execute_reply": "2023-10-11T18:28:43.702403Z"
        },
        "trusted": true,
        "id": "ga2HBG7GzUs7"
      },
      "execution_count": 18,
      "outputs": []
    },
    {
      "cell_type": "code",
      "source": [
        "from google.colab import drive\n",
        "drive.mount('/content/gdrive')\n",
        "df = pd.read_csv(r'/content/gdrive/MyDrive/Multivariate/breast_cancer.csv')"
      ],
      "metadata": {
        "execution": {
          "iopub.status.busy": "2023-10-11T18:28:43.705738Z",
          "iopub.execute_input": "2023-10-11T18:28:43.706150Z",
          "iopub.status.idle": "2023-10-11T18:28:43.732990Z",
          "shell.execute_reply.started": "2023-10-11T18:28:43.706114Z",
          "shell.execute_reply": "2023-10-11T18:28:43.732062Z"
        },
        "trusted": true,
        "id": "ceU9qGSIzUs7",
        "colab": {
          "base_uri": "https://localhost:8080/"
        },
        "outputId": "aed96881-7da9-482b-bdd1-f014b64b7cb0"
      },
      "execution_count": 19,
      "outputs": [
        {
          "output_type": "stream",
          "name": "stdout",
          "text": [
            "Drive already mounted at /content/gdrive; to attempt to forcibly remount, call drive.mount(\"/content/gdrive\", force_remount=True).\n"
          ]
        }
      ]
    },
    {
      "cell_type": "code",
      "source": [
        "# view dimensions of dataset\n",
        "\n",
        "df.shape"
      ],
      "metadata": {
        "execution": {
          "iopub.status.busy": "2023-10-11T18:28:43.734358Z",
          "iopub.execute_input": "2023-10-11T18:28:43.734941Z",
          "iopub.status.idle": "2023-10-11T18:28:43.741232Z",
          "shell.execute_reply.started": "2023-10-11T18:28:43.734912Z",
          "shell.execute_reply": "2023-10-11T18:28:43.740557Z"
        },
        "trusted": true,
        "id": "19J-_u85zUs8",
        "outputId": "80d41802-9b0e-4f54-c33a-6c0417eebb59",
        "colab": {
          "base_uri": "https://localhost:8080/"
        }
      },
      "execution_count": 20,
      "outputs": [
        {
          "output_type": "execute_result",
          "data": {
            "text/plain": [
              "(683, 11)"
            ]
          },
          "metadata": {},
          "execution_count": 20
        }
      ]
    },
    {
      "cell_type": "code",
      "source": [
        "df.head()"
      ],
      "metadata": {
        "execution": {
          "iopub.status.busy": "2023-10-11T18:28:43.743785Z",
          "iopub.execute_input": "2023-10-11T18:28:43.744652Z",
          "iopub.status.idle": "2023-10-11T18:28:43.770197Z",
          "shell.execute_reply.started": "2023-10-11T18:28:43.744625Z",
          "shell.execute_reply": "2023-10-11T18:28:43.769542Z"
        },
        "trusted": true,
        "id": "GCshLM7AzUs8",
        "outputId": "cb7011a7-4e3c-4586-ac3a-c78a5274500f",
        "colab": {
          "base_uri": "https://localhost:8080/",
          "height": 224
        }
      },
      "execution_count": 21,
      "outputs": [
        {
          "output_type": "execute_result",
          "data": {
            "text/plain": [
              "   Sample code number  Clump Thickness  Uniformity of Cell Size  \\\n",
              "0             1000025                5                        1   \n",
              "1             1002945                5                        4   \n",
              "2             1015425                3                        1   \n",
              "3             1016277                6                        8   \n",
              "4             1017023                4                        1   \n",
              "\n",
              "   Uniformity of Cell Shape  Marginal Adhesion  Single Epithelial Cell Size  \\\n",
              "0                         1                  1                            2   \n",
              "1                         4                  5                            7   \n",
              "2                         1                  1                            2   \n",
              "3                         8                  1                            3   \n",
              "4                         1                  3                            2   \n",
              "\n",
              "   Bare Nuclei  Bland Chromatin  Normal Nucleoli  Mitoses  Class  \n",
              "0            1                3                1        1      2  \n",
              "1           10                3                2        1      2  \n",
              "2            2                3                1        1      2  \n",
              "3            4                3                7        1      2  \n",
              "4            1                3                1        1      2  "
            ],
            "text/html": [
              "\n",
              "  <div id=\"df-8cee9345-6202-4ffd-a219-cb39531ecd4c\" class=\"colab-df-container\">\n",
              "    <div>\n",
              "<style scoped>\n",
              "    .dataframe tbody tr th:only-of-type {\n",
              "        vertical-align: middle;\n",
              "    }\n",
              "\n",
              "    .dataframe tbody tr th {\n",
              "        vertical-align: top;\n",
              "    }\n",
              "\n",
              "    .dataframe thead th {\n",
              "        text-align: right;\n",
              "    }\n",
              "</style>\n",
              "<table border=\"1\" class=\"dataframe\">\n",
              "  <thead>\n",
              "    <tr style=\"text-align: right;\">\n",
              "      <th></th>\n",
              "      <th>Sample code number</th>\n",
              "      <th>Clump Thickness</th>\n",
              "      <th>Uniformity of Cell Size</th>\n",
              "      <th>Uniformity of Cell Shape</th>\n",
              "      <th>Marginal Adhesion</th>\n",
              "      <th>Single Epithelial Cell Size</th>\n",
              "      <th>Bare Nuclei</th>\n",
              "      <th>Bland Chromatin</th>\n",
              "      <th>Normal Nucleoli</th>\n",
              "      <th>Mitoses</th>\n",
              "      <th>Class</th>\n",
              "    </tr>\n",
              "  </thead>\n",
              "  <tbody>\n",
              "    <tr>\n",
              "      <th>0</th>\n",
              "      <td>1000025</td>\n",
              "      <td>5</td>\n",
              "      <td>1</td>\n",
              "      <td>1</td>\n",
              "      <td>1</td>\n",
              "      <td>2</td>\n",
              "      <td>1</td>\n",
              "      <td>3</td>\n",
              "      <td>1</td>\n",
              "      <td>1</td>\n",
              "      <td>2</td>\n",
              "    </tr>\n",
              "    <tr>\n",
              "      <th>1</th>\n",
              "      <td>1002945</td>\n",
              "      <td>5</td>\n",
              "      <td>4</td>\n",
              "      <td>4</td>\n",
              "      <td>5</td>\n",
              "      <td>7</td>\n",
              "      <td>10</td>\n",
              "      <td>3</td>\n",
              "      <td>2</td>\n",
              "      <td>1</td>\n",
              "      <td>2</td>\n",
              "    </tr>\n",
              "    <tr>\n",
              "      <th>2</th>\n",
              "      <td>1015425</td>\n",
              "      <td>3</td>\n",
              "      <td>1</td>\n",
              "      <td>1</td>\n",
              "      <td>1</td>\n",
              "      <td>2</td>\n",
              "      <td>2</td>\n",
              "      <td>3</td>\n",
              "      <td>1</td>\n",
              "      <td>1</td>\n",
              "      <td>2</td>\n",
              "    </tr>\n",
              "    <tr>\n",
              "      <th>3</th>\n",
              "      <td>1016277</td>\n",
              "      <td>6</td>\n",
              "      <td>8</td>\n",
              "      <td>8</td>\n",
              "      <td>1</td>\n",
              "      <td>3</td>\n",
              "      <td>4</td>\n",
              "      <td>3</td>\n",
              "      <td>7</td>\n",
              "      <td>1</td>\n",
              "      <td>2</td>\n",
              "    </tr>\n",
              "    <tr>\n",
              "      <th>4</th>\n",
              "      <td>1017023</td>\n",
              "      <td>4</td>\n",
              "      <td>1</td>\n",
              "      <td>1</td>\n",
              "      <td>3</td>\n",
              "      <td>2</td>\n",
              "      <td>1</td>\n",
              "      <td>3</td>\n",
              "      <td>1</td>\n",
              "      <td>1</td>\n",
              "      <td>2</td>\n",
              "    </tr>\n",
              "  </tbody>\n",
              "</table>\n",
              "</div>\n",
              "    <div class=\"colab-df-buttons\">\n",
              "\n",
              "  <div class=\"colab-df-container\">\n",
              "    <button class=\"colab-df-convert\" onclick=\"convertToInteractive('df-8cee9345-6202-4ffd-a219-cb39531ecd4c')\"\n",
              "            title=\"Convert this dataframe to an interactive table.\"\n",
              "            style=\"display:none;\">\n",
              "\n",
              "  <svg xmlns=\"http://www.w3.org/2000/svg\" height=\"24px\" viewBox=\"0 -960 960 960\">\n",
              "    <path d=\"M120-120v-720h720v720H120Zm60-500h600v-160H180v160Zm220 220h160v-160H400v160Zm0 220h160v-160H400v160ZM180-400h160v-160H180v160Zm440 0h160v-160H620v160ZM180-180h160v-160H180v160Zm440 0h160v-160H620v160Z\"/>\n",
              "  </svg>\n",
              "    </button>\n",
              "\n",
              "  <style>\n",
              "    .colab-df-container {\n",
              "      display:flex;\n",
              "      gap: 12px;\n",
              "    }\n",
              "\n",
              "    .colab-df-convert {\n",
              "      background-color: #E8F0FE;\n",
              "      border: none;\n",
              "      border-radius: 50%;\n",
              "      cursor: pointer;\n",
              "      display: none;\n",
              "      fill: #1967D2;\n",
              "      height: 32px;\n",
              "      padding: 0 0 0 0;\n",
              "      width: 32px;\n",
              "    }\n",
              "\n",
              "    .colab-df-convert:hover {\n",
              "      background-color: #E2EBFA;\n",
              "      box-shadow: 0px 1px 2px rgba(60, 64, 67, 0.3), 0px 1px 3px 1px rgba(60, 64, 67, 0.15);\n",
              "      fill: #174EA6;\n",
              "    }\n",
              "\n",
              "    .colab-df-buttons div {\n",
              "      margin-bottom: 4px;\n",
              "    }\n",
              "\n",
              "    [theme=dark] .colab-df-convert {\n",
              "      background-color: #3B4455;\n",
              "      fill: #D2E3FC;\n",
              "    }\n",
              "\n",
              "    [theme=dark] .colab-df-convert:hover {\n",
              "      background-color: #434B5C;\n",
              "      box-shadow: 0px 1px 3px 1px rgba(0, 0, 0, 0.15);\n",
              "      filter: drop-shadow(0px 1px 2px rgba(0, 0, 0, 0.3));\n",
              "      fill: #FFFFFF;\n",
              "    }\n",
              "  </style>\n",
              "\n",
              "    <script>\n",
              "      const buttonEl =\n",
              "        document.querySelector('#df-8cee9345-6202-4ffd-a219-cb39531ecd4c button.colab-df-convert');\n",
              "      buttonEl.style.display =\n",
              "        google.colab.kernel.accessAllowed ? 'block' : 'none';\n",
              "\n",
              "      async function convertToInteractive(key) {\n",
              "        const element = document.querySelector('#df-8cee9345-6202-4ffd-a219-cb39531ecd4c');\n",
              "        const dataTable =\n",
              "          await google.colab.kernel.invokeFunction('convertToInteractive',\n",
              "                                                    [key], {});\n",
              "        if (!dataTable) return;\n",
              "\n",
              "        const docLinkHtml = 'Like what you see? Visit the ' +\n",
              "          '<a target=\"_blank\" href=https://colab.research.google.com/notebooks/data_table.ipynb>data table notebook</a>'\n",
              "          + ' to learn more about interactive tables.';\n",
              "        element.innerHTML = '';\n",
              "        dataTable['output_type'] = 'display_data';\n",
              "        await google.colab.output.renderOutput(dataTable, element);\n",
              "        const docLink = document.createElement('div');\n",
              "        docLink.innerHTML = docLinkHtml;\n",
              "        element.appendChild(docLink);\n",
              "      }\n",
              "    </script>\n",
              "  </div>\n",
              "\n",
              "\n",
              "<div id=\"df-fd3a4f71-1ad9-4f74-89a5-79368c3eee38\">\n",
              "  <button class=\"colab-df-quickchart\" onclick=\"quickchart('df-fd3a4f71-1ad9-4f74-89a5-79368c3eee38')\"\n",
              "            title=\"Suggest charts.\"\n",
              "            style=\"display:none;\">\n",
              "\n",
              "<svg xmlns=\"http://www.w3.org/2000/svg\" height=\"24px\"viewBox=\"0 0 24 24\"\n",
              "     width=\"24px\">\n",
              "    <g>\n",
              "        <path d=\"M19 3H5c-1.1 0-2 .9-2 2v14c0 1.1.9 2 2 2h14c1.1 0 2-.9 2-2V5c0-1.1-.9-2-2-2zM9 17H7v-7h2v7zm4 0h-2V7h2v10zm4 0h-2v-4h2v4z\"/>\n",
              "    </g>\n",
              "</svg>\n",
              "  </button>\n",
              "\n",
              "<style>\n",
              "  .colab-df-quickchart {\n",
              "      --bg-color: #E8F0FE;\n",
              "      --fill-color: #1967D2;\n",
              "      --hover-bg-color: #E2EBFA;\n",
              "      --hover-fill-color: #174EA6;\n",
              "      --disabled-fill-color: #AAA;\n",
              "      --disabled-bg-color: #DDD;\n",
              "  }\n",
              "\n",
              "  [theme=dark] .colab-df-quickchart {\n",
              "      --bg-color: #3B4455;\n",
              "      --fill-color: #D2E3FC;\n",
              "      --hover-bg-color: #434B5C;\n",
              "      --hover-fill-color: #FFFFFF;\n",
              "      --disabled-bg-color: #3B4455;\n",
              "      --disabled-fill-color: #666;\n",
              "  }\n",
              "\n",
              "  .colab-df-quickchart {\n",
              "    background-color: var(--bg-color);\n",
              "    border: none;\n",
              "    border-radius: 50%;\n",
              "    cursor: pointer;\n",
              "    display: none;\n",
              "    fill: var(--fill-color);\n",
              "    height: 32px;\n",
              "    padding: 0;\n",
              "    width: 32px;\n",
              "  }\n",
              "\n",
              "  .colab-df-quickchart:hover {\n",
              "    background-color: var(--hover-bg-color);\n",
              "    box-shadow: 0 1px 2px rgba(60, 64, 67, 0.3), 0 1px 3px 1px rgba(60, 64, 67, 0.15);\n",
              "    fill: var(--button-hover-fill-color);\n",
              "  }\n",
              "\n",
              "  .colab-df-quickchart-complete:disabled,\n",
              "  .colab-df-quickchart-complete:disabled:hover {\n",
              "    background-color: var(--disabled-bg-color);\n",
              "    fill: var(--disabled-fill-color);\n",
              "    box-shadow: none;\n",
              "  }\n",
              "\n",
              "  .colab-df-spinner {\n",
              "    border: 2px solid var(--fill-color);\n",
              "    border-color: transparent;\n",
              "    border-bottom-color: var(--fill-color);\n",
              "    animation:\n",
              "      spin 1s steps(1) infinite;\n",
              "  }\n",
              "\n",
              "  @keyframes spin {\n",
              "    0% {\n",
              "      border-color: transparent;\n",
              "      border-bottom-color: var(--fill-color);\n",
              "      border-left-color: var(--fill-color);\n",
              "    }\n",
              "    20% {\n",
              "      border-color: transparent;\n",
              "      border-left-color: var(--fill-color);\n",
              "      border-top-color: var(--fill-color);\n",
              "    }\n",
              "    30% {\n",
              "      border-color: transparent;\n",
              "      border-left-color: var(--fill-color);\n",
              "      border-top-color: var(--fill-color);\n",
              "      border-right-color: var(--fill-color);\n",
              "    }\n",
              "    40% {\n",
              "      border-color: transparent;\n",
              "      border-right-color: var(--fill-color);\n",
              "      border-top-color: var(--fill-color);\n",
              "    }\n",
              "    60% {\n",
              "      border-color: transparent;\n",
              "      border-right-color: var(--fill-color);\n",
              "    }\n",
              "    80% {\n",
              "      border-color: transparent;\n",
              "      border-right-color: var(--fill-color);\n",
              "      border-bottom-color: var(--fill-color);\n",
              "    }\n",
              "    90% {\n",
              "      border-color: transparent;\n",
              "      border-bottom-color: var(--fill-color);\n",
              "    }\n",
              "  }\n",
              "</style>\n",
              "\n",
              "  <script>\n",
              "    async function quickchart(key) {\n",
              "      const quickchartButtonEl =\n",
              "        document.querySelector('#' + key + ' button');\n",
              "      quickchartButtonEl.disabled = true;  // To prevent multiple clicks.\n",
              "      quickchartButtonEl.classList.add('colab-df-spinner');\n",
              "      try {\n",
              "        const charts = await google.colab.kernel.invokeFunction(\n",
              "            'suggestCharts', [key], {});\n",
              "      } catch (error) {\n",
              "        console.error('Error during call to suggestCharts:', error);\n",
              "      }\n",
              "      quickchartButtonEl.classList.remove('colab-df-spinner');\n",
              "      quickchartButtonEl.classList.add('colab-df-quickchart-complete');\n",
              "    }\n",
              "    (() => {\n",
              "      let quickchartButtonEl =\n",
              "        document.querySelector('#df-fd3a4f71-1ad9-4f74-89a5-79368c3eee38 button');\n",
              "      quickchartButtonEl.style.display =\n",
              "        google.colab.kernel.accessAllowed ? 'block' : 'none';\n",
              "    })();\n",
              "  </script>\n",
              "</div>\n",
              "    </div>\n",
              "  </div>\n"
            ]
          },
          "metadata": {},
          "execution_count": 21
        }
      ]
    },
    {
      "cell_type": "code",
      "source": [
        "col_names = ['Id', 'Clump_thickness', 'Uniformity_Cell_Size', 'Uniformity_Cell_Shape', 'Marginal_Adhesion',\n",
        "             'Single_Epithelial_Cell_Size', 'Bare_Nuclei', 'Bland_Chromatin', 'Normal_Nucleoli', 'Mitoses', 'Class']\n",
        "\n",
        "df.columns = col_names\n",
        "\n",
        "df.columns"
      ],
      "metadata": {
        "execution": {
          "iopub.status.busy": "2023-10-11T18:28:43.771275Z",
          "iopub.execute_input": "2023-10-11T18:28:43.771607Z",
          "iopub.status.idle": "2023-10-11T18:28:43.778570Z",
          "shell.execute_reply.started": "2023-10-11T18:28:43.771580Z",
          "shell.execute_reply": "2023-10-11T18:28:43.777547Z"
        },
        "trusted": true,
        "id": "SZltHo4pzUs8",
        "outputId": "84d6c53e-1c6a-41f3-e7e3-08c00a9ab981",
        "colab": {
          "base_uri": "https://localhost:8080/"
        }
      },
      "execution_count": 22,
      "outputs": [
        {
          "output_type": "execute_result",
          "data": {
            "text/plain": [
              "Index(['Id', 'Clump_thickness', 'Uniformity_Cell_Size',\n",
              "       'Uniformity_Cell_Shape', 'Marginal_Adhesion',\n",
              "       'Single_Epithelial_Cell_Size', 'Bare_Nuclei', 'Bland_Chromatin',\n",
              "       'Normal_Nucleoli', 'Mitoses', 'Class'],\n",
              "      dtype='object')"
            ]
          },
          "metadata": {},
          "execution_count": 22
        }
      ]
    },
    {
      "cell_type": "code",
      "source": [
        "# let's agian preview the dataset\n",
        "\n",
        "df.head()"
      ],
      "metadata": {
        "execution": {
          "iopub.status.busy": "2023-10-11T18:28:43.779853Z",
          "iopub.execute_input": "2023-10-11T18:28:43.780224Z",
          "iopub.status.idle": "2023-10-11T18:28:43.800362Z",
          "shell.execute_reply.started": "2023-10-11T18:28:43.780186Z",
          "shell.execute_reply": "2023-10-11T18:28:43.799657Z"
        },
        "trusted": true,
        "id": "OFQ12ZlyzUs8",
        "outputId": "6f110998-79d6-42e4-c494-3319ffacbee0",
        "colab": {
          "base_uri": "https://localhost:8080/",
          "height": 226
        }
      },
      "execution_count": 23,
      "outputs": [
        {
          "output_type": "execute_result",
          "data": {
            "text/plain": [
              "        Id  Clump_thickness  Uniformity_Cell_Size  Uniformity_Cell_Shape  \\\n",
              "0  1000025                5                     1                      1   \n",
              "1  1002945                5                     4                      4   \n",
              "2  1015425                3                     1                      1   \n",
              "3  1016277                6                     8                      8   \n",
              "4  1017023                4                     1                      1   \n",
              "\n",
              "   Marginal_Adhesion  Single_Epithelial_Cell_Size  Bare_Nuclei  \\\n",
              "0                  1                            2            1   \n",
              "1                  5                            7           10   \n",
              "2                  1                            2            2   \n",
              "3                  1                            3            4   \n",
              "4                  3                            2            1   \n",
              "\n",
              "   Bland_Chromatin  Normal_Nucleoli  Mitoses  Class  \n",
              "0                3                1        1      2  \n",
              "1                3                2        1      2  \n",
              "2                3                1        1      2  \n",
              "3                3                7        1      2  \n",
              "4                3                1        1      2  "
            ],
            "text/html": [
              "\n",
              "  <div id=\"df-f782d3fc-1982-4e95-8e81-c497fa221ccf\" class=\"colab-df-container\">\n",
              "    <div>\n",
              "<style scoped>\n",
              "    .dataframe tbody tr th:only-of-type {\n",
              "        vertical-align: middle;\n",
              "    }\n",
              "\n",
              "    .dataframe tbody tr th {\n",
              "        vertical-align: top;\n",
              "    }\n",
              "\n",
              "    .dataframe thead th {\n",
              "        text-align: right;\n",
              "    }\n",
              "</style>\n",
              "<table border=\"1\" class=\"dataframe\">\n",
              "  <thead>\n",
              "    <tr style=\"text-align: right;\">\n",
              "      <th></th>\n",
              "      <th>Id</th>\n",
              "      <th>Clump_thickness</th>\n",
              "      <th>Uniformity_Cell_Size</th>\n",
              "      <th>Uniformity_Cell_Shape</th>\n",
              "      <th>Marginal_Adhesion</th>\n",
              "      <th>Single_Epithelial_Cell_Size</th>\n",
              "      <th>Bare_Nuclei</th>\n",
              "      <th>Bland_Chromatin</th>\n",
              "      <th>Normal_Nucleoli</th>\n",
              "      <th>Mitoses</th>\n",
              "      <th>Class</th>\n",
              "    </tr>\n",
              "  </thead>\n",
              "  <tbody>\n",
              "    <tr>\n",
              "      <th>0</th>\n",
              "      <td>1000025</td>\n",
              "      <td>5</td>\n",
              "      <td>1</td>\n",
              "      <td>1</td>\n",
              "      <td>1</td>\n",
              "      <td>2</td>\n",
              "      <td>1</td>\n",
              "      <td>3</td>\n",
              "      <td>1</td>\n",
              "      <td>1</td>\n",
              "      <td>2</td>\n",
              "    </tr>\n",
              "    <tr>\n",
              "      <th>1</th>\n",
              "      <td>1002945</td>\n",
              "      <td>5</td>\n",
              "      <td>4</td>\n",
              "      <td>4</td>\n",
              "      <td>5</td>\n",
              "      <td>7</td>\n",
              "      <td>10</td>\n",
              "      <td>3</td>\n",
              "      <td>2</td>\n",
              "      <td>1</td>\n",
              "      <td>2</td>\n",
              "    </tr>\n",
              "    <tr>\n",
              "      <th>2</th>\n",
              "      <td>1015425</td>\n",
              "      <td>3</td>\n",
              "      <td>1</td>\n",
              "      <td>1</td>\n",
              "      <td>1</td>\n",
              "      <td>2</td>\n",
              "      <td>2</td>\n",
              "      <td>3</td>\n",
              "      <td>1</td>\n",
              "      <td>1</td>\n",
              "      <td>2</td>\n",
              "    </tr>\n",
              "    <tr>\n",
              "      <th>3</th>\n",
              "      <td>1016277</td>\n",
              "      <td>6</td>\n",
              "      <td>8</td>\n",
              "      <td>8</td>\n",
              "      <td>1</td>\n",
              "      <td>3</td>\n",
              "      <td>4</td>\n",
              "      <td>3</td>\n",
              "      <td>7</td>\n",
              "      <td>1</td>\n",
              "      <td>2</td>\n",
              "    </tr>\n",
              "    <tr>\n",
              "      <th>4</th>\n",
              "      <td>1017023</td>\n",
              "      <td>4</td>\n",
              "      <td>1</td>\n",
              "      <td>1</td>\n",
              "      <td>3</td>\n",
              "      <td>2</td>\n",
              "      <td>1</td>\n",
              "      <td>3</td>\n",
              "      <td>1</td>\n",
              "      <td>1</td>\n",
              "      <td>2</td>\n",
              "    </tr>\n",
              "  </tbody>\n",
              "</table>\n",
              "</div>\n",
              "    <div class=\"colab-df-buttons\">\n",
              "\n",
              "  <div class=\"colab-df-container\">\n",
              "    <button class=\"colab-df-convert\" onclick=\"convertToInteractive('df-f782d3fc-1982-4e95-8e81-c497fa221ccf')\"\n",
              "            title=\"Convert this dataframe to an interactive table.\"\n",
              "            style=\"display:none;\">\n",
              "\n",
              "  <svg xmlns=\"http://www.w3.org/2000/svg\" height=\"24px\" viewBox=\"0 -960 960 960\">\n",
              "    <path d=\"M120-120v-720h720v720H120Zm60-500h600v-160H180v160Zm220 220h160v-160H400v160Zm0 220h160v-160H400v160ZM180-400h160v-160H180v160Zm440 0h160v-160H620v160ZM180-180h160v-160H180v160Zm440 0h160v-160H620v160Z\"/>\n",
              "  </svg>\n",
              "    </button>\n",
              "\n",
              "  <style>\n",
              "    .colab-df-container {\n",
              "      display:flex;\n",
              "      gap: 12px;\n",
              "    }\n",
              "\n",
              "    .colab-df-convert {\n",
              "      background-color: #E8F0FE;\n",
              "      border: none;\n",
              "      border-radius: 50%;\n",
              "      cursor: pointer;\n",
              "      display: none;\n",
              "      fill: #1967D2;\n",
              "      height: 32px;\n",
              "      padding: 0 0 0 0;\n",
              "      width: 32px;\n",
              "    }\n",
              "\n",
              "    .colab-df-convert:hover {\n",
              "      background-color: #E2EBFA;\n",
              "      box-shadow: 0px 1px 2px rgba(60, 64, 67, 0.3), 0px 1px 3px 1px rgba(60, 64, 67, 0.15);\n",
              "      fill: #174EA6;\n",
              "    }\n",
              "\n",
              "    .colab-df-buttons div {\n",
              "      margin-bottom: 4px;\n",
              "    }\n",
              "\n",
              "    [theme=dark] .colab-df-convert {\n",
              "      background-color: #3B4455;\n",
              "      fill: #D2E3FC;\n",
              "    }\n",
              "\n",
              "    [theme=dark] .colab-df-convert:hover {\n",
              "      background-color: #434B5C;\n",
              "      box-shadow: 0px 1px 3px 1px rgba(0, 0, 0, 0.15);\n",
              "      filter: drop-shadow(0px 1px 2px rgba(0, 0, 0, 0.3));\n",
              "      fill: #FFFFFF;\n",
              "    }\n",
              "  </style>\n",
              "\n",
              "    <script>\n",
              "      const buttonEl =\n",
              "        document.querySelector('#df-f782d3fc-1982-4e95-8e81-c497fa221ccf button.colab-df-convert');\n",
              "      buttonEl.style.display =\n",
              "        google.colab.kernel.accessAllowed ? 'block' : 'none';\n",
              "\n",
              "      async function convertToInteractive(key) {\n",
              "        const element = document.querySelector('#df-f782d3fc-1982-4e95-8e81-c497fa221ccf');\n",
              "        const dataTable =\n",
              "          await google.colab.kernel.invokeFunction('convertToInteractive',\n",
              "                                                    [key], {});\n",
              "        if (!dataTable) return;\n",
              "\n",
              "        const docLinkHtml = 'Like what you see? Visit the ' +\n",
              "          '<a target=\"_blank\" href=https://colab.research.google.com/notebooks/data_table.ipynb>data table notebook</a>'\n",
              "          + ' to learn more about interactive tables.';\n",
              "        element.innerHTML = '';\n",
              "        dataTable['output_type'] = 'display_data';\n",
              "        await google.colab.output.renderOutput(dataTable, element);\n",
              "        const docLink = document.createElement('div');\n",
              "        docLink.innerHTML = docLinkHtml;\n",
              "        element.appendChild(docLink);\n",
              "      }\n",
              "    </script>\n",
              "  </div>\n",
              "\n",
              "\n",
              "<div id=\"df-20fe7beb-e9e1-4249-905c-e1a3c2e9db27\">\n",
              "  <button class=\"colab-df-quickchart\" onclick=\"quickchart('df-20fe7beb-e9e1-4249-905c-e1a3c2e9db27')\"\n",
              "            title=\"Suggest charts.\"\n",
              "            style=\"display:none;\">\n",
              "\n",
              "<svg xmlns=\"http://www.w3.org/2000/svg\" height=\"24px\"viewBox=\"0 0 24 24\"\n",
              "     width=\"24px\">\n",
              "    <g>\n",
              "        <path d=\"M19 3H5c-1.1 0-2 .9-2 2v14c0 1.1.9 2 2 2h14c1.1 0 2-.9 2-2V5c0-1.1-.9-2-2-2zM9 17H7v-7h2v7zm4 0h-2V7h2v10zm4 0h-2v-4h2v4z\"/>\n",
              "    </g>\n",
              "</svg>\n",
              "  </button>\n",
              "\n",
              "<style>\n",
              "  .colab-df-quickchart {\n",
              "      --bg-color: #E8F0FE;\n",
              "      --fill-color: #1967D2;\n",
              "      --hover-bg-color: #E2EBFA;\n",
              "      --hover-fill-color: #174EA6;\n",
              "      --disabled-fill-color: #AAA;\n",
              "      --disabled-bg-color: #DDD;\n",
              "  }\n",
              "\n",
              "  [theme=dark] .colab-df-quickchart {\n",
              "      --bg-color: #3B4455;\n",
              "      --fill-color: #D2E3FC;\n",
              "      --hover-bg-color: #434B5C;\n",
              "      --hover-fill-color: #FFFFFF;\n",
              "      --disabled-bg-color: #3B4455;\n",
              "      --disabled-fill-color: #666;\n",
              "  }\n",
              "\n",
              "  .colab-df-quickchart {\n",
              "    background-color: var(--bg-color);\n",
              "    border: none;\n",
              "    border-radius: 50%;\n",
              "    cursor: pointer;\n",
              "    display: none;\n",
              "    fill: var(--fill-color);\n",
              "    height: 32px;\n",
              "    padding: 0;\n",
              "    width: 32px;\n",
              "  }\n",
              "\n",
              "  .colab-df-quickchart:hover {\n",
              "    background-color: var(--hover-bg-color);\n",
              "    box-shadow: 0 1px 2px rgba(60, 64, 67, 0.3), 0 1px 3px 1px rgba(60, 64, 67, 0.15);\n",
              "    fill: var(--button-hover-fill-color);\n",
              "  }\n",
              "\n",
              "  .colab-df-quickchart-complete:disabled,\n",
              "  .colab-df-quickchart-complete:disabled:hover {\n",
              "    background-color: var(--disabled-bg-color);\n",
              "    fill: var(--disabled-fill-color);\n",
              "    box-shadow: none;\n",
              "  }\n",
              "\n",
              "  .colab-df-spinner {\n",
              "    border: 2px solid var(--fill-color);\n",
              "    border-color: transparent;\n",
              "    border-bottom-color: var(--fill-color);\n",
              "    animation:\n",
              "      spin 1s steps(1) infinite;\n",
              "  }\n",
              "\n",
              "  @keyframes spin {\n",
              "    0% {\n",
              "      border-color: transparent;\n",
              "      border-bottom-color: var(--fill-color);\n",
              "      border-left-color: var(--fill-color);\n",
              "    }\n",
              "    20% {\n",
              "      border-color: transparent;\n",
              "      border-left-color: var(--fill-color);\n",
              "      border-top-color: var(--fill-color);\n",
              "    }\n",
              "    30% {\n",
              "      border-color: transparent;\n",
              "      border-left-color: var(--fill-color);\n",
              "      border-top-color: var(--fill-color);\n",
              "      border-right-color: var(--fill-color);\n",
              "    }\n",
              "    40% {\n",
              "      border-color: transparent;\n",
              "      border-right-color: var(--fill-color);\n",
              "      border-top-color: var(--fill-color);\n",
              "    }\n",
              "    60% {\n",
              "      border-color: transparent;\n",
              "      border-right-color: var(--fill-color);\n",
              "    }\n",
              "    80% {\n",
              "      border-color: transparent;\n",
              "      border-right-color: var(--fill-color);\n",
              "      border-bottom-color: var(--fill-color);\n",
              "    }\n",
              "    90% {\n",
              "      border-color: transparent;\n",
              "      border-bottom-color: var(--fill-color);\n",
              "    }\n",
              "  }\n",
              "</style>\n",
              "\n",
              "  <script>\n",
              "    async function quickchart(key) {\n",
              "      const quickchartButtonEl =\n",
              "        document.querySelector('#' + key + ' button');\n",
              "      quickchartButtonEl.disabled = true;  // To prevent multiple clicks.\n",
              "      quickchartButtonEl.classList.add('colab-df-spinner');\n",
              "      try {\n",
              "        const charts = await google.colab.kernel.invokeFunction(\n",
              "            'suggestCharts', [key], {});\n",
              "      } catch (error) {\n",
              "        console.error('Error during call to suggestCharts:', error);\n",
              "      }\n",
              "      quickchartButtonEl.classList.remove('colab-df-spinner');\n",
              "      quickchartButtonEl.classList.add('colab-df-quickchart-complete');\n",
              "    }\n",
              "    (() => {\n",
              "      let quickchartButtonEl =\n",
              "        document.querySelector('#df-20fe7beb-e9e1-4249-905c-e1a3c2e9db27 button');\n",
              "      quickchartButtonEl.style.display =\n",
              "        google.colab.kernel.accessAllowed ? 'block' : 'none';\n",
              "    })();\n",
              "  </script>\n",
              "</div>\n",
              "    </div>\n",
              "  </div>\n"
            ]
          },
          "metadata": {},
          "execution_count": 23
        }
      ]
    },
    {
      "cell_type": "code",
      "source": [
        "# drop Id column from dataset\n",
        "\n",
        "df.drop('Id', axis=1, inplace=True)"
      ],
      "metadata": {
        "execution": {
          "iopub.status.busy": "2023-10-11T18:28:43.801626Z",
          "iopub.execute_input": "2023-10-11T18:28:43.802150Z",
          "iopub.status.idle": "2023-10-11T18:28:43.814898Z",
          "shell.execute_reply.started": "2023-10-11T18:28:43.802124Z",
          "shell.execute_reply": "2023-10-11T18:28:43.813945Z"
        },
        "trusted": true,
        "id": "hAZ1zLJyzUs8"
      },
      "execution_count": 24,
      "outputs": []
    },
    {
      "cell_type": "code",
      "source": [
        "# view summary of dataset\n",
        "\n",
        "df.info()"
      ],
      "metadata": {
        "execution": {
          "iopub.status.busy": "2023-10-11T18:28:43.816370Z",
          "iopub.execute_input": "2023-10-11T18:28:43.817266Z",
          "iopub.status.idle": "2023-10-11T18:28:43.840875Z",
          "shell.execute_reply.started": "2023-10-11T18:28:43.817230Z",
          "shell.execute_reply": "2023-10-11T18:28:43.840158Z"
        },
        "trusted": true,
        "id": "EGYVuBOfzUs9",
        "outputId": "7b0441a1-50b0-4020-a986-ac6f48a37361",
        "colab": {
          "base_uri": "https://localhost:8080/"
        }
      },
      "execution_count": 25,
      "outputs": [
        {
          "output_type": "stream",
          "name": "stdout",
          "text": [
            "<class 'pandas.core.frame.DataFrame'>\n",
            "RangeIndex: 683 entries, 0 to 682\n",
            "Data columns (total 10 columns):\n",
            " #   Column                       Non-Null Count  Dtype\n",
            "---  ------                       --------------  -----\n",
            " 0   Clump_thickness              683 non-null    int64\n",
            " 1   Uniformity_Cell_Size         683 non-null    int64\n",
            " 2   Uniformity_Cell_Shape        683 non-null    int64\n",
            " 3   Marginal_Adhesion            683 non-null    int64\n",
            " 4   Single_Epithelial_Cell_Size  683 non-null    int64\n",
            " 5   Bare_Nuclei                  683 non-null    int64\n",
            " 6   Bland_Chromatin              683 non-null    int64\n",
            " 7   Normal_Nucleoli              683 non-null    int64\n",
            " 8   Mitoses                      683 non-null    int64\n",
            " 9   Class                        683 non-null    int64\n",
            "dtypes: int64(10)\n",
            "memory usage: 53.5 KB\n"
          ]
        }
      ]
    },
    {
      "cell_type": "code",
      "source": [
        "for var in df.columns:\n",
        "\n",
        "    print(df[var].value_counts())"
      ],
      "metadata": {
        "execution": {
          "iopub.status.busy": "2023-10-11T18:28:43.841976Z",
          "iopub.execute_input": "2023-10-11T18:28:43.842252Z",
          "iopub.status.idle": "2023-10-11T18:28:43.856251Z",
          "shell.execute_reply.started": "2023-10-11T18:28:43.842228Z",
          "shell.execute_reply": "2023-10-11T18:28:43.855438Z"
        },
        "trusted": true,
        "id": "gUk7mRrxzUs9",
        "outputId": "247c43bf-368e-4dfc-e3a4-11d6a57efa8d",
        "colab": {
          "base_uri": "https://localhost:8080/"
        }
      },
      "execution_count": 26,
      "outputs": [
        {
          "output_type": "stream",
          "name": "stdout",
          "text": [
            "1     139\n",
            "5     128\n",
            "3     104\n",
            "4      79\n",
            "10     69\n",
            "2      50\n",
            "8      44\n",
            "6      33\n",
            "7      23\n",
            "9      14\n",
            "Name: Clump_thickness, dtype: int64\n",
            "1     373\n",
            "10     67\n",
            "3      52\n",
            "2      45\n",
            "4      38\n",
            "5      30\n",
            "8      28\n",
            "6      25\n",
            "7      19\n",
            "9       6\n",
            "Name: Uniformity_Cell_Size, dtype: int64\n",
            "1     346\n",
            "10     58\n",
            "2      58\n",
            "3      53\n",
            "4      43\n",
            "5      32\n",
            "7      30\n",
            "6      29\n",
            "8      27\n",
            "9       7\n",
            "Name: Uniformity_Cell_Shape, dtype: int64\n",
            "1     393\n",
            "3      58\n",
            "2      58\n",
            "10     55\n",
            "4      33\n",
            "8      25\n",
            "5      23\n",
            "6      21\n",
            "7      13\n",
            "9       4\n",
            "Name: Marginal_Adhesion, dtype: int64\n",
            "2     376\n",
            "3      71\n",
            "4      48\n",
            "1      44\n",
            "6      40\n",
            "5      39\n",
            "10     31\n",
            "8      21\n",
            "7      11\n",
            "9       2\n",
            "Name: Single_Epithelial_Cell_Size, dtype: int64\n",
            "1     402\n",
            "10    132\n",
            "2      30\n",
            "5      30\n",
            "3      28\n",
            "8      21\n",
            "4      19\n",
            "9       9\n",
            "7       8\n",
            "6       4\n",
            "Name: Bare_Nuclei, dtype: int64\n",
            "3     161\n",
            "2     160\n",
            "1     150\n",
            "7      71\n",
            "4      39\n",
            "5      34\n",
            "8      28\n",
            "10     20\n",
            "9      11\n",
            "6       9\n",
            "Name: Bland_Chromatin, dtype: int64\n",
            "1     432\n",
            "10     60\n",
            "3      42\n",
            "2      36\n",
            "8      23\n",
            "6      22\n",
            "5      19\n",
            "4      18\n",
            "7      16\n",
            "9      15\n",
            "Name: Normal_Nucleoli, dtype: int64\n",
            "1     563\n",
            "2      35\n",
            "3      33\n",
            "10     14\n",
            "4      12\n",
            "7       9\n",
            "8       8\n",
            "5       6\n",
            "6       3\n",
            "Name: Mitoses, dtype: int64\n",
            "2    444\n",
            "4    239\n",
            "Name: Class, dtype: int64\n"
          ]
        }
      ]
    },
    {
      "cell_type": "code",
      "source": [
        "df['Bare_Nuclei'] = pd.to_numeric(df['Bare_Nuclei'], errors='coerce')"
      ],
      "metadata": {
        "execution": {
          "iopub.status.busy": "2023-10-11T18:28:43.857629Z",
          "iopub.execute_input": "2023-10-11T18:28:43.858047Z",
          "iopub.status.idle": "2023-10-11T18:28:43.865764Z",
          "shell.execute_reply.started": "2023-10-11T18:28:43.858010Z",
          "shell.execute_reply": "2023-10-11T18:28:43.864778Z"
        },
        "trusted": true,
        "id": "F3LuAIOpzUs9"
      },
      "execution_count": 27,
      "outputs": []
    },
    {
      "cell_type": "code",
      "source": [
        "df.dtypes"
      ],
      "metadata": {
        "execution": {
          "iopub.status.busy": "2023-10-11T18:28:43.867641Z",
          "iopub.execute_input": "2023-10-11T18:28:43.868335Z",
          "iopub.status.idle": "2023-10-11T18:28:43.878490Z",
          "shell.execute_reply.started": "2023-10-11T18:28:43.868290Z",
          "shell.execute_reply": "2023-10-11T18:28:43.877719Z"
        },
        "trusted": true,
        "id": "G_GCVWO1zUs9",
        "outputId": "acab1105-a5f5-434f-c7e4-b6bc9b5bf688",
        "colab": {
          "base_uri": "https://localhost:8080/"
        }
      },
      "execution_count": 28,
      "outputs": [
        {
          "output_type": "execute_result",
          "data": {
            "text/plain": [
              "Clump_thickness                int64\n",
              "Uniformity_Cell_Size           int64\n",
              "Uniformity_Cell_Shape          int64\n",
              "Marginal_Adhesion              int64\n",
              "Single_Epithelial_Cell_Size    int64\n",
              "Bare_Nuclei                    int64\n",
              "Bland_Chromatin                int64\n",
              "Normal_Nucleoli                int64\n",
              "Mitoses                        int64\n",
              "Class                          int64\n",
              "dtype: object"
            ]
          },
          "metadata": {},
          "execution_count": 28
        }
      ]
    },
    {
      "cell_type": "code",
      "source": [
        "# check missing values in variables\n",
        "\n",
        "df.isnull().sum()"
      ],
      "metadata": {
        "execution": {
          "iopub.status.busy": "2023-10-11T18:28:43.880306Z",
          "iopub.execute_input": "2023-10-11T18:28:43.881000Z",
          "iopub.status.idle": "2023-10-11T18:28:43.894033Z",
          "shell.execute_reply.started": "2023-10-11T18:28:43.880964Z",
          "shell.execute_reply": "2023-10-11T18:28:43.892274Z"
        },
        "trusted": true,
        "id": "ia1AG5VCzUs9",
        "outputId": "9e590a8c-d411-44ca-f2d7-68f6277e0cd7",
        "colab": {
          "base_uri": "https://localhost:8080/"
        }
      },
      "execution_count": 29,
      "outputs": [
        {
          "output_type": "execute_result",
          "data": {
            "text/plain": [
              "Clump_thickness                0\n",
              "Uniformity_Cell_Size           0\n",
              "Uniformity_Cell_Shape          0\n",
              "Marginal_Adhesion              0\n",
              "Single_Epithelial_Cell_Size    0\n",
              "Bare_Nuclei                    0\n",
              "Bland_Chromatin                0\n",
              "Normal_Nucleoli                0\n",
              "Mitoses                        0\n",
              "Class                          0\n",
              "dtype: int64"
            ]
          },
          "metadata": {},
          "execution_count": 29
        }
      ]
    },
    {
      "cell_type": "code",
      "source": [
        "# check frequency distribution of `Bare_Nuclei` column\n",
        "\n",
        "df['Bare_Nuclei'].value_counts()"
      ],
      "metadata": {
        "execution": {
          "iopub.status.busy": "2023-10-11T18:28:43.902583Z",
          "iopub.execute_input": "2023-10-11T18:28:43.903183Z",
          "iopub.status.idle": "2023-10-11T18:28:43.912097Z",
          "shell.execute_reply.started": "2023-10-11T18:28:43.903143Z",
          "shell.execute_reply": "2023-10-11T18:28:43.911006Z"
        },
        "trusted": true,
        "id": "lbj5zRaEzUs9",
        "outputId": "474eb351-88c8-43e3-855f-76c85e9c08d1",
        "colab": {
          "base_uri": "https://localhost:8080/"
        }
      },
      "execution_count": 30,
      "outputs": [
        {
          "output_type": "execute_result",
          "data": {
            "text/plain": [
              "1     402\n",
              "10    132\n",
              "2      30\n",
              "5      30\n",
              "3      28\n",
              "8      21\n",
              "4      19\n",
              "9       9\n",
              "7       8\n",
              "6       4\n",
              "Name: Bare_Nuclei, dtype: int64"
            ]
          },
          "metadata": {},
          "execution_count": 30
        }
      ]
    },
    {
      "cell_type": "code",
      "source": [
        "# check unique values in `Bare_Nuclei` column\n",
        "\n",
        "df['Bare_Nuclei'].unique()"
      ],
      "metadata": {
        "execution": {
          "iopub.status.busy": "2023-10-11T18:28:43.913897Z",
          "iopub.execute_input": "2023-10-11T18:28:43.915233Z",
          "iopub.status.idle": "2023-10-11T18:28:43.926887Z",
          "shell.execute_reply.started": "2023-10-11T18:28:43.915195Z",
          "shell.execute_reply": "2023-10-11T18:28:43.925759Z"
        },
        "trusted": true,
        "id": "tBdHvPywzUs-",
        "outputId": "5caa9381-57de-4f2b-caec-99709077f306",
        "colab": {
          "base_uri": "https://localhost:8080/"
        }
      },
      "execution_count": 31,
      "outputs": [
        {
          "output_type": "execute_result",
          "data": {
            "text/plain": [
              "array([ 1, 10,  2,  4,  3,  9,  7,  5,  8,  6])"
            ]
          },
          "metadata": {},
          "execution_count": 31
        }
      ]
    },
    {
      "cell_type": "code",
      "source": [
        "# check for nan values in `Bare_Nuclei` column\n",
        "\n",
        "df['Bare_Nuclei'].isna().sum()"
      ],
      "metadata": {
        "execution": {
          "iopub.status.busy": "2023-10-11T18:28:43.928629Z",
          "iopub.execute_input": "2023-10-11T18:28:43.929378Z",
          "iopub.status.idle": "2023-10-11T18:28:43.942624Z",
          "shell.execute_reply.started": "2023-10-11T18:28:43.929338Z",
          "shell.execute_reply": "2023-10-11T18:28:43.941234Z"
        },
        "trusted": true,
        "id": "R8K6bCW3zUs-",
        "outputId": "e05d928d-189b-444e-ee95-651ab84fa6c1",
        "colab": {
          "base_uri": "https://localhost:8080/"
        }
      },
      "execution_count": 32,
      "outputs": [
        {
          "output_type": "execute_result",
          "data": {
            "text/plain": [
              "0"
            ]
          },
          "metadata": {},
          "execution_count": 32
        }
      ]
    },
    {
      "cell_type": "code",
      "source": [
        "# view frequency distribution of values in `Class` variable\n",
        "\n",
        "df['Class'].value_counts()"
      ],
      "metadata": {
        "execution": {
          "iopub.status.busy": "2023-10-11T18:28:43.945287Z",
          "iopub.execute_input": "2023-10-11T18:28:43.946209Z",
          "iopub.status.idle": "2023-10-11T18:28:43.956811Z",
          "shell.execute_reply.started": "2023-10-11T18:28:43.946173Z",
          "shell.execute_reply": "2023-10-11T18:28:43.955601Z"
        },
        "trusted": true,
        "id": "dT91eUNwzUs-",
        "outputId": "192201f8-4df7-40da-c212-7cf7df31a41c",
        "colab": {
          "base_uri": "https://localhost:8080/"
        }
      },
      "execution_count": 33,
      "outputs": [
        {
          "output_type": "execute_result",
          "data": {
            "text/plain": [
              "2    444\n",
              "4    239\n",
              "Name: Class, dtype: int64"
            ]
          },
          "metadata": {},
          "execution_count": 33
        }
      ]
    },
    {
      "cell_type": "code",
      "source": [
        "# view percentage of frequency distribution of values in `Class` variable\n",
        "\n",
        "df['Class'].value_counts()/np.float(len(df))"
      ],
      "metadata": {
        "execution": {
          "iopub.status.busy": "2023-10-11T18:28:43.958215Z",
          "iopub.execute_input": "2023-10-11T18:28:43.959117Z",
          "iopub.status.idle": "2023-10-11T18:28:43.971163Z",
          "shell.execute_reply.started": "2023-10-11T18:28:43.959080Z",
          "shell.execute_reply": "2023-10-11T18:28:43.970044Z"
        },
        "trusted": true,
        "id": "fa3FTLYSzUs-",
        "outputId": "19f60586-1c19-4c8d-dd44-ba8debdba76b",
        "colab": {
          "base_uri": "https://localhost:8080/"
        }
      },
      "execution_count": 34,
      "outputs": [
        {
          "output_type": "execute_result",
          "data": {
            "text/plain": [
              "2    0.650073\n",
              "4    0.349927\n",
              "Name: Class, dtype: float64"
            ]
          },
          "metadata": {},
          "execution_count": 34
        }
      ]
    },
    {
      "cell_type": "code",
      "source": [
        "# view summary statistics in numerical variables\n",
        "\n",
        "print(round(df.describe(),2))"
      ],
      "metadata": {
        "execution": {
          "iopub.status.busy": "2023-10-11T18:28:43.972823Z",
          "iopub.execute_input": "2023-10-11T18:28:43.973657Z",
          "iopub.status.idle": "2023-10-11T18:28:44.019611Z",
          "shell.execute_reply.started": "2023-10-11T18:28:43.973619Z",
          "shell.execute_reply": "2023-10-11T18:28:44.018584Z"
        },
        "trusted": true,
        "id": "Vmzal7SmzUs-",
        "outputId": "f0a26cd2-c14b-4f87-d531-3ec97d27a34a",
        "colab": {
          "base_uri": "https://localhost:8080/"
        }
      },
      "execution_count": 35,
      "outputs": [
        {
          "output_type": "stream",
          "name": "stdout",
          "text": [
            "       Clump_thickness  Uniformity_Cell_Size  Uniformity_Cell_Shape  \\\n",
            "count           683.00                683.00                 683.00   \n",
            "mean              4.44                  3.15                   3.22   \n",
            "std               2.82                  3.07                   2.99   \n",
            "min               1.00                  1.00                   1.00   \n",
            "25%               2.00                  1.00                   1.00   \n",
            "50%               4.00                  1.00                   1.00   \n",
            "75%               6.00                  5.00                   5.00   \n",
            "max              10.00                 10.00                  10.00   \n",
            "\n",
            "       Marginal_Adhesion  Single_Epithelial_Cell_Size  Bare_Nuclei  \\\n",
            "count             683.00                       683.00       683.00   \n",
            "mean                2.83                         3.23         3.54   \n",
            "std                 2.86                         2.22         3.64   \n",
            "min                 1.00                         1.00         1.00   \n",
            "25%                 1.00                         2.00         1.00   \n",
            "50%                 1.00                         2.00         1.00   \n",
            "75%                 4.00                         4.00         6.00   \n",
            "max                10.00                        10.00        10.00   \n",
            "\n",
            "       Bland_Chromatin  Normal_Nucleoli  Mitoses   Class  \n",
            "count           683.00           683.00   683.00  683.00  \n",
            "mean              3.45             2.87     1.60    2.70  \n",
            "std               2.45             3.05     1.73    0.95  \n",
            "min               1.00             1.00     1.00    2.00  \n",
            "25%               2.00             1.00     1.00    2.00  \n",
            "50%               3.00             1.00     1.00    2.00  \n",
            "75%               5.00             4.00     1.00    4.00  \n",
            "max              10.00            10.00    10.00    4.00  \n"
          ]
        }
      ]
    },
    {
      "cell_type": "code",
      "source": [
        "# plot histograms of the variables\n",
        "\n",
        "\n",
        "plt.rcParams['figure.figsize']=(30,25)\n",
        "\n",
        "df.plot(kind='hist', bins=10, subplots=True, layout=(5,2), sharex=False, sharey=False)\n",
        "\n",
        "plt.show()"
      ],
      "metadata": {
        "execution": {
          "iopub.status.busy": "2023-10-11T18:28:44.021029Z",
          "iopub.execute_input": "2023-10-11T18:28:44.021403Z",
          "iopub.status.idle": "2023-10-11T18:28:46.220990Z",
          "shell.execute_reply.started": "2023-10-11T18:28:44.021368Z",
          "shell.execute_reply": "2023-10-11T18:28:46.219971Z"
        },
        "trusted": true,
        "id": "i_RaZsO3zUs-",
        "outputId": "82258ebc-b896-4f89-a830-6bb9b457529f",
        "colab": {
          "base_uri": "https://localhost:8080/",
          "height": 1000
        }
      },
      "execution_count": 36,
      "outputs": [
        {
          "output_type": "display_data",
          "data": {
            "text/plain": [
              "<Figure size 3000x2500 with 10 Axes>"
            ],
            "image/png": "[encoded data removed]"
          },
          "metadata": {}
        }
      ]
    },
    {
      "cell_type": "code",
      "source": [
        "correlation = df.corr()"
      ],
      "metadata": {
        "execution": {
          "iopub.status.busy": "2023-10-11T18:28:46.221919Z",
          "iopub.execute_input": "2023-10-11T18:28:46.222193Z",
          "iopub.status.idle": "2023-10-11T18:28:46.229492Z",
          "shell.execute_reply.started": "2023-10-11T18:28:46.222171Z",
          "shell.execute_reply": "2023-10-11T18:28:46.228139Z"
        },
        "trusted": true,
        "id": "Gj7MnanGzUs-"
      },
      "execution_count": 37,
      "outputs": []
    },
    {
      "cell_type": "code",
      "source": [
        "correlation['Class'].sort_values(ascending=False)"
      ],
      "metadata": {
        "execution": {
          "iopub.status.busy": "2023-10-11T18:28:46.231391Z",
          "iopub.execute_input": "2023-10-11T18:28:46.231916Z",
          "iopub.status.idle": "2023-10-11T18:28:46.249200Z",
          "shell.execute_reply.started": "2023-10-11T18:28:46.231877Z",
          "shell.execute_reply": "2023-10-11T18:28:46.247910Z"
        },
        "trusted": true,
        "id": "H8-5cCoMzUs-",
        "outputId": "909cd238-e355-4b8e-ea10-bf4f36b0195d",
        "colab": {
          "base_uri": "https://localhost:8080/"
        }
      },
      "execution_count": 38,
      "outputs": [
        {
          "output_type": "execute_result",
          "data": {
            "text/plain": [
              "Class                          1.000000\n",
              "Bare_Nuclei                    0.822696\n",
              "Uniformity_Cell_Shape          0.821891\n",
              "Uniformity_Cell_Size           0.820801\n",
              "Bland_Chromatin                0.758228\n",
              "Normal_Nucleoli                0.718677\n",
              "Clump_thickness                0.714790\n",
              "Marginal_Adhesion              0.706294\n",
              "Single_Epithelial_Cell_Size    0.690958\n",
              "Mitoses                        0.423448\n",
              "Name: Class, dtype: float64"
            ]
          },
          "metadata": {},
          "execution_count": 38
        }
      ]
    },
    {
      "cell_type": "code",
      "source": [
        "plt.figure(figsize=(10,8))\n",
        "plt.title('Correlation of Attributes with Class variable')\n",
        "a = sns.heatmap(correlation, square=True, annot=True, fmt='.2f', linecolor='white')\n",
        "a.set_xticklabels(a.get_xticklabels(), rotation=90)\n",
        "a.set_yticklabels(a.get_yticklabels(), rotation=30)\n",
        "plt.show()"
      ],
      "metadata": {
        "execution": {
          "iopub.status.busy": "2023-10-11T18:28:46.251669Z",
          "iopub.execute_input": "2023-10-11T18:28:46.252073Z",
          "iopub.status.idle": "2023-10-11T18:28:46.944241Z",
          "shell.execute_reply.started": "2023-10-11T18:28:46.252035Z",
          "shell.execute_reply": "2023-10-11T18:28:46.943241Z"
        },
        "trusted": true,
        "id": "1rP0A0mizUs_",
        "outputId": "746d338a-5fbf-4811-e9f5-29fcc7579d30",
        "colab": {
          "base_uri": "https://localhost:8080/",
          "height": 867
        }
      },
      "execution_count": 39,
      "outputs": [
        {
          "output_type": "display_data",
          "data": {
            "text/plain": [
              "<Figure size 1000x800 with 2 Axes>"
            ],
            "image/png": "[encoded data removed]"
          },
          "metadata": {}
        }
      ]
    },
    {
      "cell_type": "code",
      "source": [
        "X = df.drop(['Class'], axis=1)\n",
        "\n",
        "y = df['Class']"
      ],
      "metadata": {
        "execution": {
          "iopub.status.busy": "2023-10-11T18:28:46.945733Z",
          "iopub.execute_input": "2023-10-11T18:28:46.946299Z",
          "iopub.status.idle": "2023-10-11T18:28:46.952581Z",
          "shell.execute_reply.started": "2023-10-11T18:28:46.946265Z",
          "shell.execute_reply": "2023-10-11T18:28:46.951550Z"
        },
        "trusted": true,
        "id": "hYmlzd6VzUs_"
      },
      "execution_count": 40,
      "outputs": []
    },
    {
      "cell_type": "code",
      "source": [
        "# split X and y into training and testing sets\n",
        "\n",
        "from sklearn.model_selection import train_test_split\n",
        "\n",
        "X_train, X_test, y_train, y_test = train_test_split(X, y, test_size = 0.2, random_state = 0)"
      ],
      "metadata": {
        "execution": {
          "iopub.status.busy": "2023-10-11T18:28:46.954112Z",
          "iopub.execute_input": "2023-10-11T18:28:46.954726Z",
          "iopub.status.idle": "2023-10-11T18:28:47.263204Z",
          "shell.execute_reply.started": "2023-10-11T18:28:46.954689Z",
          "shell.execute_reply": "2023-10-11T18:28:47.262464Z"
        },
        "trusted": true,
        "id": "dqR8n9dUzUs_"
      },
      "execution_count": 41,
      "outputs": []
    },
    {
      "cell_type": "code",
      "source": [
        "# check the shape of X_train and X_test\n",
        "\n",
        "X_train.shape, X_test.shape\n"
      ],
      "metadata": {
        "execution": {
          "iopub.status.busy": "2023-10-11T18:28:47.264797Z",
          "iopub.execute_input": "2023-10-11T18:28:47.265545Z",
          "iopub.status.idle": "2023-10-11T18:28:47.273161Z",
          "shell.execute_reply.started": "2023-10-11T18:28:47.265487Z",
          "shell.execute_reply": "2023-10-11T18:28:47.272286Z"
        },
        "trusted": true,
        "id": "sU1Uab3wzUs_",
        "outputId": "62afc926-66c5-4448-b3ee-e672b858ae0f",
        "colab": {
          "base_uri": "https://localhost:8080/"
        }
      },
      "execution_count": 42,
      "outputs": [
        {
          "output_type": "execute_result",
          "data": {
            "text/plain": [
              "((546, 9), (137, 9))"
            ]
          },
          "metadata": {},
          "execution_count": 42
        }
      ]
    },
    {
      "cell_type": "code",
      "source": [
        "# check data types in X_train\n",
        "\n",
        "X_train.dtypes"
      ],
      "metadata": {
        "execution": {
          "iopub.status.busy": "2023-10-11T18:28:47.274431Z",
          "iopub.execute_input": "2023-10-11T18:28:47.274843Z",
          "iopub.status.idle": "2023-10-11T18:28:47.286090Z",
          "shell.execute_reply.started": "2023-10-11T18:28:47.274820Z",
          "shell.execute_reply": "2023-10-11T18:28:47.285153Z"
        },
        "trusted": true,
        "id": "cd1wj5nqzUs_",
        "outputId": "96ad4f04-fea6-4b8e-9c25-8e7aed7f9b24",
        "colab": {
          "base_uri": "https://localhost:8080/"
        }
      },
      "execution_count": 43,
      "outputs": [
        {
          "output_type": "execute_result",
          "data": {
            "text/plain": [
              "Clump_thickness                int64\n",
              "Uniformity_Cell_Size           int64\n",
              "Uniformity_Cell_Shape          int64\n",
              "Marginal_Adhesion              int64\n",
              "Single_Epithelial_Cell_Size    int64\n",
              "Bare_Nuclei                    int64\n",
              "Bland_Chromatin                int64\n",
              "Normal_Nucleoli                int64\n",
              "Mitoses                        int64\n",
              "dtype: object"
            ]
          },
          "metadata": {},
          "execution_count": 43
        }
      ]
    },
    {
      "cell_type": "code",
      "source": [
        "# check missing values in numerical variables in X_train\n",
        "\n",
        "X_train.isnull().sum()"
      ],
      "metadata": {
        "execution": {
          "iopub.status.busy": "2023-10-11T18:28:47.287437Z",
          "iopub.execute_input": "2023-10-11T18:28:47.288184Z",
          "iopub.status.idle": "2023-10-11T18:28:47.301515Z",
          "shell.execute_reply.started": "2023-10-11T18:28:47.288147Z",
          "shell.execute_reply": "2023-10-11T18:28:47.300362Z"
        },
        "trusted": true,
        "id": "4BMzmgrczUs_",
        "outputId": "ad603911-b2c9-453a-a1fa-79bcf7df4d27",
        "colab": {
          "base_uri": "https://localhost:8080/"
        }
      },
      "execution_count": 44,
      "outputs": [
        {
          "output_type": "execute_result",
          "data": {
            "text/plain": [
              "Clump_thickness                0\n",
              "Uniformity_Cell_Size           0\n",
              "Uniformity_Cell_Shape          0\n",
              "Marginal_Adhesion              0\n",
              "Single_Epithelial_Cell_Size    0\n",
              "Bare_Nuclei                    0\n",
              "Bland_Chromatin                0\n",
              "Normal_Nucleoli                0\n",
              "Mitoses                        0\n",
              "dtype: int64"
            ]
          },
          "metadata": {},
          "execution_count": 44
        }
      ]
    },
    {
      "cell_type": "code",
      "source": [
        "# check missing values in numerical variables in X_test\n",
        "\n",
        "X_test.isnull().sum()"
      ],
      "metadata": {
        "execution": {
          "iopub.status.busy": "2023-10-11T18:28:47.302830Z",
          "iopub.execute_input": "2023-10-11T18:28:47.304024Z",
          "iopub.status.idle": "2023-10-11T18:28:47.315788Z",
          "shell.execute_reply.started": "2023-10-11T18:28:47.303985Z",
          "shell.execute_reply": "2023-10-11T18:28:47.314531Z"
        },
        "trusted": true,
        "id": "mtuFRCxpzUs_",
        "outputId": "cac92499-4b60-4a82-b279-ad8c64a02613",
        "colab": {
          "base_uri": "https://localhost:8080/"
        }
      },
      "execution_count": 45,
      "outputs": [
        {
          "output_type": "execute_result",
          "data": {
            "text/plain": [
              "Clump_thickness                0\n",
              "Uniformity_Cell_Size           0\n",
              "Uniformity_Cell_Shape          0\n",
              "Marginal_Adhesion              0\n",
              "Single_Epithelial_Cell_Size    0\n",
              "Bare_Nuclei                    0\n",
              "Bland_Chromatin                0\n",
              "Normal_Nucleoli                0\n",
              "Mitoses                        0\n",
              "dtype: int64"
            ]
          },
          "metadata": {},
          "execution_count": 45
        }
      ]
    },
    {
      "cell_type": "code",
      "source": [
        "# print percentage of missing values in the numerical variables in training set\n",
        "\n",
        "for col in X_train.columns:\n",
        "    if X_train[col].isnull().mean()>0:\n",
        "        print(col, round(X_train[col].isnull().mean(),4))"
      ],
      "metadata": {
        "execution": {
          "iopub.status.busy": "2023-10-11T18:28:47.317108Z",
          "iopub.execute_input": "2023-10-11T18:28:47.317532Z",
          "iopub.status.idle": "2023-10-11T18:28:47.330339Z",
          "shell.execute_reply.started": "2023-10-11T18:28:47.317473Z",
          "shell.execute_reply": "2023-10-11T18:28:47.329064Z"
        },
        "trusted": true,
        "id": "qzbdFxKHzUs_"
      },
      "execution_count": 46,
      "outputs": []
    },
    {
      "cell_type": "code",
      "source": [
        "# impute missing values in X_train and X_test with respective column median in X_train\n",
        "\n",
        "for df1 in [X_train, X_test]:\n",
        "    for col in X_train.columns:\n",
        "        col_median=X_train[col].median()\n",
        "        df1[col].fillna(col_median, inplace=True)"
      ],
      "metadata": {
        "execution": {
          "iopub.status.busy": "2023-10-11T18:28:47.332449Z",
          "iopub.execute_input": "2023-10-11T18:28:47.333124Z",
          "iopub.status.idle": "2023-10-11T18:28:47.346906Z",
          "shell.execute_reply.started": "2023-10-11T18:28:47.333088Z",
          "shell.execute_reply": "2023-10-11T18:28:47.345772Z"
        },
        "trusted": true,
        "id": "SUYIs-2dzUs_"
      },
      "execution_count": 47,
      "outputs": []
    },
    {
      "cell_type": "code",
      "source": [
        "# check again missing values in numerical variables in X_train\n",
        "\n",
        "X_train.isnull().sum()"
      ],
      "metadata": {
        "execution": {
          "iopub.status.busy": "2023-10-11T18:28:47.348413Z",
          "iopub.execute_input": "2023-10-11T18:28:47.348840Z",
          "iopub.status.idle": "2023-10-11T18:28:47.358065Z",
          "shell.execute_reply.started": "2023-10-11T18:28:47.348799Z",
          "shell.execute_reply": "2023-10-11T18:28:47.356599Z"
        },
        "trusted": true,
        "id": "acX1-BIyzUs_",
        "outputId": "74f0fe99-cc31-4be7-ec47-27c91b67b9c8",
        "colab": {
          "base_uri": "https://localhost:8080/"
        }
      },
      "execution_count": 48,
      "outputs": [
        {
          "output_type": "execute_result",
          "data": {
            "text/plain": [
              "Clump_thickness                0\n",
              "Uniformity_Cell_Size           0\n",
              "Uniformity_Cell_Shape          0\n",
              "Marginal_Adhesion              0\n",
              "Single_Epithelial_Cell_Size    0\n",
              "Bare_Nuclei                    0\n",
              "Bland_Chromatin                0\n",
              "Normal_Nucleoli                0\n",
              "Mitoses                        0\n",
              "dtype: int64"
            ]
          },
          "metadata": {},
          "execution_count": 48
        }
      ]
    },
    {
      "cell_type": "code",
      "source": [
        "# check missing values in numerical variables in X_test\n",
        "\n",
        "X_test.isnull().sum()"
      ],
      "metadata": {
        "execution": {
          "iopub.status.busy": "2023-10-11T18:28:47.359563Z",
          "iopub.execute_input": "2023-10-11T18:28:47.360641Z",
          "iopub.status.idle": "2023-10-11T18:28:47.369329Z",
          "shell.execute_reply.started": "2023-10-11T18:28:47.360604Z",
          "shell.execute_reply": "2023-10-11T18:28:47.368007Z"
        },
        "trusted": true,
        "id": "oZdneYXhzUs_",
        "outputId": "25682d86-75c9-43dc-c09c-82e9062dccf4",
        "colab": {
          "base_uri": "https://localhost:8080/"
        }
      },
      "execution_count": 49,
      "outputs": [
        {
          "output_type": "execute_result",
          "data": {
            "text/plain": [
              "Clump_thickness                0\n",
              "Uniformity_Cell_Size           0\n",
              "Uniformity_Cell_Shape          0\n",
              "Marginal_Adhesion              0\n",
              "Single_Epithelial_Cell_Size    0\n",
              "Bare_Nuclei                    0\n",
              "Bland_Chromatin                0\n",
              "Normal_Nucleoli                0\n",
              "Mitoses                        0\n",
              "dtype: int64"
            ]
          },
          "metadata": {},
          "execution_count": 49
        }
      ]
    },
    {
      "cell_type": "code",
      "source": [
        "X_train.head()"
      ],
      "metadata": {
        "execution": {
          "iopub.status.busy": "2023-10-11T18:28:47.370907Z",
          "iopub.execute_input": "2023-10-11T18:28:47.372115Z",
          "iopub.status.idle": "2023-10-11T18:28:47.389980Z",
          "shell.execute_reply.started": "2023-10-11T18:28:47.372075Z",
          "shell.execute_reply": "2023-10-11T18:28:47.388651Z"
        },
        "trusted": true,
        "id": "sP3nCTMUzUs_",
        "outputId": "9b7cb4fb-6a10-4ee4-e23d-5d824e7fedc9",
        "colab": {
          "base_uri": "https://localhost:8080/",
          "height": 206
        }
      },
      "execution_count": 50,
      "outputs": [
        {
          "output_type": "execute_result",
          "data": {
            "text/plain": [
              "     Clump_thickness  Uniformity_Cell_Size  Uniformity_Cell_Shape  \\\n",
              "312               10                     1                      1   \n",
              "202                1                     1                      1   \n",
              "263                5                     1                      1   \n",
              "395                3                     1                      2   \n",
              "101                8                     2                      3   \n",
              "\n",
              "     Marginal_Adhesion  Single_Epithelial_Cell_Size  Bare_Nuclei  \\\n",
              "312                  1                            2           10   \n",
              "202                  1                            1            1   \n",
              "263                  1                            2            1   \n",
              "395                  1                            2            1   \n",
              "101                  1                            6            3   \n",
              "\n",
              "     Bland_Chromatin  Normal_Nucleoli  Mitoses  \n",
              "312                5                4        1  \n",
              "202                3                1        1  \n",
              "263                3                1        1  \n",
              "395                2                1        1  \n",
              "101                7                1        1  "
            ],
            "text/html": [
              "\n",
              "  <div id=\"df-278f72d4-fcea-4ff3-8181-e2dd43e0c950\" class=\"colab-df-container\">\n",
              "    <div>\n",
              "<style scoped>\n",
              "    .dataframe tbody tr th:only-of-type {\n",
              "        vertical-align: middle;\n",
              "    }\n",
              "\n",
              "    .dataframe tbody tr th {\n",
              "        vertical-align: top;\n",
              "    }\n",
              "\n",
              "    .dataframe thead th {\n",
              "        text-align: right;\n",
              "    }\n",
              "</style>\n",
              "<table border=\"1\" class=\"dataframe\">\n",
              "  <thead>\n",
              "    <tr style=\"text-align: right;\">\n",
              "      <th></th>\n",
              "      <th>Clump_thickness</th>\n",
              "      <th>Uniformity_Cell_Size</th>\n",
              "      <th>Uniformity_Cell_Shape</th>\n",
              "      <th>Marginal_Adhesion</th>\n",
              "      <th>Single_Epithelial_Cell_Size</th>\n",
              "      <th>Bare_Nuclei</th>\n",
              "      <th>Bland_Chromatin</th>\n",
              "      <th>Normal_Nucleoli</th>\n",
              "      <th>Mitoses</th>\n",
              "    </tr>\n",
              "  </thead>\n",
              "  <tbody>\n",
              "    <tr>\n",
              "      <th>312</th>\n",
              "      <td>10</td>\n",
              "      <td>1</td>\n",
              "      <td>1</td>\n",
              "      <td>1</td>\n",
              "      <td>2</td>\n",
              "      <td>10</td>\n",
              "      <td>5</td>\n",
              "      <td>4</td>\n",
              "      <td>1</td>\n",
              "    </tr>\n",
              "    <tr>\n",
              "      <th>202</th>\n",
              "      <td>1</td>\n",
              "      <td>1</td>\n",
              "      <td>1</td>\n",
              "      <td>1</td>\n",
              "      <td>1</td>\n",
              "      <td>1</td>\n",
              "      <td>3</td>\n",
              "      <td>1</td>\n",
              "      <td>1</td>\n",
              "    </tr>\n",
              "    <tr>\n",
              "      <th>263</th>\n",
              "      <td>5</td>\n",
              "      <td>1</td>\n",
              "      <td>1</td>\n",
              "      <td>1</td>\n",
              "      <td>2</td>\n",
              "      <td>1</td>\n",
              "      <td>3</td>\n",
              "      <td>1</td>\n",
              "      <td>1</td>\n",
              "    </tr>\n",
              "    <tr>\n",
              "      <th>395</th>\n",
              "      <td>3</td>\n",
              "      <td>1</td>\n",
              "      <td>2</td>\n",
              "      <td>1</td>\n",
              "      <td>2</td>\n",
              "      <td>1</td>\n",
              "      <td>2</td>\n",
              "      <td>1</td>\n",
              "      <td>1</td>\n",
              "    </tr>\n",
              "    <tr>\n",
              "      <th>101</th>\n",
              "      <td>8</td>\n",
              "      <td>2</td>\n",
              "      <td>3</td>\n",
              "      <td>1</td>\n",
              "      <td>6</td>\n",
              "      <td>3</td>\n",
              "      <td>7</td>\n",
              "      <td>1</td>\n",
              "      <td>1</td>\n",
              "    </tr>\n",
              "  </tbody>\n",
              "</table>\n",
              "</div>\n",
              "    <div class=\"colab-df-buttons\">\n",
              "\n",
              "  <div class=\"colab-df-container\">\n",
              "    <button class=\"colab-df-convert\" onclick=\"convertToInteractive('df-278f72d4-fcea-4ff3-8181-e2dd43e0c950')\"\n",
              "            title=\"Convert this dataframe to an interactive table.\"\n",
              "            style=\"display:none;\">\n",
              "\n",
              "  <svg xmlns=\"http://www.w3.org/2000/svg\" height=\"24px\" viewBox=\"0 -960 960 960\">\n",
              "    <path d=\"M120-120v-720h720v720H120Zm60-500h600v-160H180v160Zm220 220h160v-160H400v160Zm0 220h160v-160H400v160ZM180-400h160v-160H180v160Zm440 0h160v-160H620v160ZM180-180h160v-160H180v160Zm440 0h160v-160H620v160Z\"/>\n",
              "  </svg>\n",
              "    </button>\n",
              "\n",
              "  <style>\n",
              "    .colab-df-container {\n",
              "      display:flex;\n",
              "      gap: 12px;\n",
              "    }\n",
              "\n",
              "    .colab-df-convert {\n",
              "      background-color: #E8F0FE;\n",
              "      border: none;\n",
              "      border-radius: 50%;\n",
              "      cursor: pointer;\n",
              "      display: none;\n",
              "      fill: #1967D2;\n",
              "      height: 32px;\n",
              "      padding: 0 0 0 0;\n",
              "      width: 32px;\n",
              "    }\n",
              "\n",
              "    .colab-df-convert:hover {\n",
              "      background-color: #E2EBFA;\n",
              "      box-shadow: 0px 1px 2px rgba(60, 64, 67, 0.3), 0px 1px 3px 1px rgba(60, 64, 67, 0.15);\n",
              "      fill: #174EA6;\n",
              "    }\n",
              "\n",
              "    .colab-df-buttons div {\n",
              "      margin-bottom: 4px;\n",
              "    }\n",
              "\n",
              "    [theme=dark] .colab-df-convert {\n",
              "      background-color: #3B4455;\n",
              "      fill: #D2E3FC;\n",
              "    }\n",
              "\n",
              "    [theme=dark] .colab-df-convert:hover {\n",
              "      background-color: #434B5C;\n",
              "      box-shadow: 0px 1px 3px 1px rgba(0, 0, 0, 0.15);\n",
              "      filter: drop-shadow(0px 1px 2px rgba(0, 0, 0, 0.3));\n",
              "      fill: #FFFFFF;\n",
              "    }\n",
              "  </style>\n",
              "\n",
              "    <script>\n",
              "      const buttonEl =\n",
              "        document.querySelector('#df-278f72d4-fcea-4ff3-8181-e2dd43e0c950 button.colab-df-convert');\n",
              "      buttonEl.style.display =\n",
              "        google.colab.kernel.accessAllowed ? 'block' : 'none';\n",
              "\n",
              "      async function convertToInteractive(key) {\n",
              "        const element = document.querySelector('#df-278f72d4-fcea-4ff3-8181-e2dd43e0c950');\n",
              "        const dataTable =\n",
              "          await google.colab.kernel.invokeFunction('convertToInteractive',\n",
              "                                                    [key], {});\n",
              "        if (!dataTable) return;\n",
              "\n",
              "        const docLinkHtml = 'Like what you see? Visit the ' +\n",
              "          '<a target=\"_blank\" href=https://colab.research.google.com/notebooks/data_table.ipynb>data table notebook</a>'\n",
              "          + ' to learn more about interactive tables.';\n",
              "        element.innerHTML = '';\n",
              "        dataTable['output_type'] = 'display_data';\n",
              "        await google.colab.output.renderOutput(dataTable, element);\n",
              "        const docLink = document.createElement('div');\n",
              "        docLink.innerHTML = docLinkHtml;\n",
              "        element.appendChild(docLink);\n",
              "      }\n",
              "    </script>\n",
              "  </div>\n",
              "\n",
              "\n",
              "<div id=\"df-52d2c12f-ce1f-4b7b-9764-d5c830d722b9\">\n",
              "  <button class=\"colab-df-quickchart\" onclick=\"quickchart('df-52d2c12f-ce1f-4b7b-9764-d5c830d722b9')\"\n",
              "            title=\"Suggest charts.\"\n",
              "            style=\"display:none;\">\n",
              "\n",
              "<svg xmlns=\"http://www.w3.org/2000/svg\" height=\"24px\"viewBox=\"0 0 24 24\"\n",
              "     width=\"24px\">\n",
              "    <g>\n",
              "        <path d=\"M19 3H5c-1.1 0-2 .9-2 2v14c0 1.1.9 2 2 2h14c1.1 0 2-.9 2-2V5c0-1.1-.9-2-2-2zM9 17H7v-7h2v7zm4 0h-2V7h2v10zm4 0h-2v-4h2v4z\"/>\n",
              "    </g>\n",
              "</svg>\n",
              "  </button>\n",
              "\n",
              "<style>\n",
              "  .colab-df-quickchart {\n",
              "      --bg-color: #E8F0FE;\n",
              "      --fill-color: #1967D2;\n",
              "      --hover-bg-color: #E2EBFA;\n",
              "      --hover-fill-color: #174EA6;\n",
              "      --disabled-fill-color: #AAA;\n",
              "      --disabled-bg-color: #DDD;\n",
              "  }\n",
              "\n",
              "  [theme=dark] .colab-df-quickchart {\n",
              "      --bg-color: #3B4455;\n",
              "      --fill-color: #D2E3FC;\n",
              "      --hover-bg-color: #434B5C;\n",
              "      --hover-fill-color: #FFFFFF;\n",
              "      --disabled-bg-color: #3B4455;\n",
              "      --disabled-fill-color: #666;\n",
              "  }\n",
              "\n",
              "  .colab-df-quickchart {\n",
              "    background-color: var(--bg-color);\n",
              "    border: none;\n",
              "    border-radius: 50%;\n",
              "    cursor: pointer;\n",
              "    display: none;\n",
              "    fill: var(--fill-color);\n",
              "    height: 32px;\n",
              "    padding: 0;\n",
              "    width: 32px;\n",
              "  }\n",
              "\n",
              "  .colab-df-quickchart:hover {\n",
              "    background-color: var(--hover-bg-color);\n",
              "    box-shadow: 0 1px 2px rgba(60, 64, 67, 0.3), 0 1px 3px 1px rgba(60, 64, 67, 0.15);\n",
              "    fill: var(--button-hover-fill-color);\n",
              "  }\n",
              "\n",
              "  .colab-df-quickchart-complete:disabled,\n",
              "  .colab-df-quickchart-complete:disabled:hover {\n",
              "    background-color: var(--disabled-bg-color);\n",
              "    fill: var(--disabled-fill-color);\n",
              "    box-shadow: none;\n",
              "  }\n",
              "\n",
              "  .colab-df-spinner {\n",
              "    border: 2px solid var(--fill-color);\n",
              "    border-color: transparent;\n",
              "    border-bottom-color: var(--fill-color);\n",
              "    animation:\n",
              "      spin 1s steps(1) infinite;\n",
              "  }\n",
              "\n",
              "  @keyframes spin {\n",
              "    0% {\n",
              "      border-color: transparent;\n",
              "      border-bottom-color: var(--fill-color);\n",
              "      border-left-color: var(--fill-color);\n",
              "    }\n",
              "    20% {\n",
              "      border-color: transparent;\n",
              "      border-left-color: var(--fill-color);\n",
              "      border-top-color: var(--fill-color);\n",
              "    }\n",
              "    30% {\n",
              "      border-color: transparent;\n",
              "      border-left-color: var(--fill-color);\n",
              "      border-top-color: var(--fill-color);\n",
              "      border-right-color: var(--fill-color);\n",
              "    }\n",
              "    40% {\n",
              "      border-color: transparent;\n",
              "      border-right-color: var(--fill-color);\n",
              "      border-top-color: var(--fill-color);\n",
              "    }\n",
              "    60% {\n",
              "      border-color: transparent;\n",
              "      border-right-color: var(--fill-color);\n",
              "    }\n",
              "    80% {\n",
              "      border-color: transparent;\n",
              "      border-right-color: var(--fill-color);\n",
              "      border-bottom-color: var(--fill-color);\n",
              "    }\n",
              "    90% {\n",
              "      border-color: transparent;\n",
              "      border-bottom-color: var(--fill-color);\n",
              "    }\n",
              "  }\n",
              "</style>\n",
              "\n",
              "  <script>\n",
              "    async function quickchart(key) {\n",
              "      const quickchartButtonEl =\n",
              "        document.querySelector('#' + key + ' button');\n",
              "      quickchartButtonEl.disabled = true;  // To prevent multiple clicks.\n",
              "      quickchartButtonEl.classList.add('colab-df-spinner');\n",
              "      try {\n",
              "        const charts = await google.colab.kernel.invokeFunction(\n",
              "            'suggestCharts', [key], {});\n",
              "      } catch (error) {\n",
              "        console.error('Error during call to suggestCharts:', error);\n",
              "      }\n",
              "      quickchartButtonEl.classList.remove('colab-df-spinner');\n",
              "      quickchartButtonEl.classList.add('colab-df-quickchart-complete');\n",
              "    }\n",
              "    (() => {\n",
              "      let quickchartButtonEl =\n",
              "        document.querySelector('#df-52d2c12f-ce1f-4b7b-9764-d5c830d722b9 button');\n",
              "      quickchartButtonEl.style.display =\n",
              "        google.colab.kernel.accessAllowed ? 'block' : 'none';\n",
              "    })();\n",
              "  </script>\n",
              "</div>\n",
              "    </div>\n",
              "  </div>\n"
            ]
          },
          "metadata": {},
          "execution_count": 50
        }
      ]
    },
    {
      "cell_type": "code",
      "source": [
        "X_test.head()"
      ],
      "metadata": {
        "execution": {
          "iopub.status.busy": "2023-10-11T18:28:47.391158Z",
          "iopub.execute_input": "2023-10-11T18:28:47.391882Z",
          "iopub.status.idle": "2023-10-11T18:28:47.407084Z",
          "shell.execute_reply.started": "2023-10-11T18:28:47.391857Z",
          "shell.execute_reply": "2023-10-11T18:28:47.405959Z"
        },
        "trusted": true,
        "id": "-3NfJ-S6zUs_",
        "outputId": "361db480-dd8d-45c4-9c36-07ba0524e7c4",
        "colab": {
          "base_uri": "https://localhost:8080/",
          "height": 206
        }
      },
      "execution_count": 51,
      "outputs": [
        {
          "output_type": "execute_result",
          "data": {
            "text/plain": [
              "     Clump_thickness  Uniformity_Cell_Size  Uniformity_Cell_Shape  \\\n",
              "113                1                     1                      1   \n",
              "378                3                     1                      1   \n",
              "303                5                     5                      5   \n",
              "504                4                     7                      8   \n",
              "301                1                     1                      1   \n",
              "\n",
              "     Marginal_Adhesion  Single_Epithelial_Cell_Size  Bare_Nuclei  \\\n",
              "113                  1                            2            5   \n",
              "378                  1                            2            1   \n",
              "303                  2                            5           10   \n",
              "504                  3                            4           10   \n",
              "301                  1                            2            1   \n",
              "\n",
              "     Bland_Chromatin  Normal_Nucleoli  Mitoses  \n",
              "113                1                1        1  \n",
              "378                2                1        1  \n",
              "303                4                3        1  \n",
              "504                9                1        1  \n",
              "301                1                1        1  "
            ],
            "text/html": [
              "\n",
              "  <div id=\"df-ecf6b20a-541f-485d-bac6-23a21d108b18\" class=\"colab-df-container\">\n",
              "    <div>\n",
              "<style scoped>\n",
              "    .dataframe tbody tr th:only-of-type {\n",
              "        vertical-align: middle;\n",
              "    }\n",
              "\n",
              "    .dataframe tbody tr th {\n",
              "        vertical-align: top;\n",
              "    }\n",
              "\n",
              "    .dataframe thead th {\n",
              "        text-align: right;\n",
              "    }\n",
              "</style>\n",
              "<table border=\"1\" class=\"dataframe\">\n",
              "  <thead>\n",
              "    <tr style=\"text-align: right;\">\n",
              "      <th></th>\n",
              "      <th>Clump_thickness</th>\n",
              "      <th>Uniformity_Cell_Size</th>\n",
              "      <th>Uniformity_Cell_Shape</th>\n",
              "      <th>Marginal_Adhesion</th>\n",
              "      <th>Single_Epithelial_Cell_Size</th>\n",
              "      <th>Bare_Nuclei</th>\n",
              "      <th>Bland_Chromatin</th>\n",
              "      <th>Normal_Nucleoli</th>\n",
              "      <th>Mitoses</th>\n",
              "    </tr>\n",
              "  </thead>\n",
              "  <tbody>\n",
              "    <tr>\n",
              "      <th>113</th>\n",
              "      <td>1</td>\n",
              "      <td>1</td>\n",
              "      <td>1</td>\n",
              "      <td>1</td>\n",
              "      <td>2</td>\n",
              "      <td>5</td>\n",
              "      <td>1</td>\n",
              "      <td>1</td>\n",
              "      <td>1</td>\n",
              "    </tr>\n",
              "    <tr>\n",
              "      <th>378</th>\n",
              "      <td>3</td>\n",
              "      <td>1</td>\n",
              "      <td>1</td>\n",
              "      <td>1</td>\n",
              "      <td>2</td>\n",
              "      <td>1</td>\n",
              "      <td>2</td>\n",
              "      <td>1</td>\n",
              "      <td>1</td>\n",
              "    </tr>\n",
              "    <tr>\n",
              "      <th>303</th>\n",
              "      <td>5</td>\n",
              "      <td>5</td>\n",
              "      <td>5</td>\n",
              "      <td>2</td>\n",
              "      <td>5</td>\n",
              "      <td>10</td>\n",
              "      <td>4</td>\n",
              "      <td>3</td>\n",
              "      <td>1</td>\n",
              "    </tr>\n",
              "    <tr>\n",
              "      <th>504</th>\n",
              "      <td>4</td>\n",
              "      <td>7</td>\n",
              "      <td>8</td>\n",
              "      <td>3</td>\n",
              "      <td>4</td>\n",
              "      <td>10</td>\n",
              "      <td>9</td>\n",
              "      <td>1</td>\n",
              "      <td>1</td>\n",
              "    </tr>\n",
              "    <tr>\n",
              "      <th>301</th>\n",
              "      <td>1</td>\n",
              "      <td>1</td>\n",
              "      <td>1</td>\n",
              "      <td>1</td>\n",
              "      <td>2</td>\n",
              "      <td>1</td>\n",
              "      <td>1</td>\n",
              "      <td>1</td>\n",
              "      <td>1</td>\n",
              "    </tr>\n",
              "  </tbody>\n",
              "</table>\n",
              "</div>\n",
              "    <div class=\"colab-df-buttons\">\n",
              "\n",
              "  <div class=\"colab-df-container\">\n",
              "    <button class=\"colab-df-convert\" onclick=\"convertToInteractive('df-ecf6b20a-541f-485d-bac6-23a21d108b18')\"\n",
              "            title=\"Convert this dataframe to an interactive table.\"\n",
              "            style=\"display:none;\">\n",
              "\n",
              "  <svg xmlns=\"http://www.w3.org/2000/svg\" height=\"24px\" viewBox=\"0 -960 960 960\">\n",
              "    <path d=\"M120-120v-720h720v720H120Zm60-500h600v-160H180v160Zm220 220h160v-160H400v160Zm0 220h160v-160H400v160ZM180-400h160v-160H180v160Zm440 0h160v-160H620v160ZM180-180h160v-160H180v160Zm440 0h160v-160H620v160Z\"/>\n",
              "  </svg>\n",
              "    </button>\n",
              "\n",
              "  <style>\n",
              "    .colab-df-container {\n",
              "      display:flex;\n",
              "      gap: 12px;\n",
              "    }\n",
              "\n",
              "    .colab-df-convert {\n",
              "      background-color: #E8F0FE;\n",
              "      border: none;\n",
              "      border-radius: 50%;\n",
              "      cursor: pointer;\n",
              "      display: none;\n",
              "      fill: #1967D2;\n",
              "      height: 32px;\n",
              "      padding: 0 0 0 0;\n",
              "      width: 32px;\n",
              "    }\n",
              "\n",
              "    .colab-df-convert:hover {\n",
              "      background-color: #E2EBFA;\n",
              "      box-shadow: 0px 1px 2px rgba(60, 64, 67, 0.3), 0px 1px 3px 1px rgba(60, 64, 67, 0.15);\n",
              "      fill: #174EA6;\n",
              "    }\n",
              "\n",
              "    .colab-df-buttons div {\n",
              "      margin-bottom: 4px;\n",
              "    }\n",
              "\n",
              "    [theme=dark] .colab-df-convert {\n",
              "      background-color: #3B4455;\n",
              "      fill: #D2E3FC;\n",
              "    }\n",
              "\n",
              "    [theme=dark] .colab-df-convert:hover {\n",
              "      background-color: #434B5C;\n",
              "      box-shadow: 0px 1px 3px 1px rgba(0, 0, 0, 0.15);\n",
              "      filter: drop-shadow(0px 1px 2px rgba(0, 0, 0, 0.3));\n",
              "      fill: #FFFFFF;\n",
              "    }\n",
              "  </style>\n",
              "\n",
              "    <script>\n",
              "      const buttonEl =\n",
              "        document.querySelector('#df-ecf6b20a-541f-485d-bac6-23a21d108b18 button.colab-df-convert');\n",
              "      buttonEl.style.display =\n",
              "        google.colab.kernel.accessAllowed ? 'block' : 'none';\n",
              "\n",
              "      async function convertToInteractive(key) {\n",
              "        const element = document.querySelector('#df-ecf6b20a-541f-485d-bac6-23a21d108b18');\n",
              "        const dataTable =\n",
              "          await google.colab.kernel.invokeFunction('convertToInteractive',\n",
              "                                                    [key], {});\n",
              "        if (!dataTable) return;\n",
              "\n",
              "        const docLinkHtml = 'Like what you see? Visit the ' +\n",
              "          '<a target=\"_blank\" href=https://colab.research.google.com/notebooks/data_table.ipynb>data table notebook</a>'\n",
              "          + ' to learn more about interactive tables.';\n",
              "        element.innerHTML = '';\n",
              "        dataTable['output_type'] = 'display_data';\n",
              "        await google.colab.output.renderOutput(dataTable, element);\n",
              "        const docLink = document.createElement('div');\n",
              "        docLink.innerHTML = docLinkHtml;\n",
              "        element.appendChild(docLink);\n",
              "      }\n",
              "    </script>\n",
              "  </div>\n",
              "\n",
              "\n",
              "<div id=\"df-07026817-9e3a-46e7-aa8b-26d4d368fb35\">\n",
              "  <button class=\"colab-df-quickchart\" onclick=\"quickchart('df-07026817-9e3a-46e7-aa8b-26d4d368fb35')\"\n",
              "            title=\"Suggest charts.\"\n",
              "            style=\"display:none;\">\n",
              "\n",
              "<svg xmlns=\"http://www.w3.org/2000/svg\" height=\"24px\"viewBox=\"0 0 24 24\"\n",
              "     width=\"24px\">\n",
              "    <g>\n",
              "        <path d=\"M19 3H5c-1.1 0-2 .9-2 2v14c0 1.1.9 2 2 2h14c1.1 0 2-.9 2-2V5c0-1.1-.9-2-2-2zM9 17H7v-7h2v7zm4 0h-2V7h2v10zm4 0h-2v-4h2v4z\"/>\n",
              "    </g>\n",
              "</svg>\n",
              "  </button>\n",
              "\n",
              "<style>\n",
              "  .colab-df-quickchart {\n",
              "      --bg-color: #E8F0FE;\n",
              "      --fill-color: #1967D2;\n",
              "      --hover-bg-color: #E2EBFA;\n",
              "      --hover-fill-color: #174EA6;\n",
              "      --disabled-fill-color: #AAA;\n",
              "      --disabled-bg-color: #DDD;\n",
              "  }\n",
              "\n",
              "  [theme=dark] .colab-df-quickchart {\n",
              "      --bg-color: #3B4455;\n",
              "      --fill-color: #D2E3FC;\n",
              "      --hover-bg-color: #434B5C;\n",
              "      --hover-fill-color: #FFFFFF;\n",
              "      --disabled-bg-color: #3B4455;\n",
              "      --disabled-fill-color: #666;\n",
              "  }\n",
              "\n",
              "  .colab-df-quickchart {\n",
              "    background-color: var(--bg-color);\n",
              "    border: none;\n",
              "    border-radius: 50%;\n",
              "    cursor: pointer;\n",
              "    display: none;\n",
              "    fill: var(--fill-color);\n",
              "    height: 32px;\n",
              "    padding: 0;\n",
              "    width: 32px;\n",
              "  }\n",
              "\n",
              "  .colab-df-quickchart:hover {\n",
              "    background-color: var(--hover-bg-color);\n",
              "    box-shadow: 0 1px 2px rgba(60, 64, 67, 0.3), 0 1px 3px 1px rgba(60, 64, 67, 0.15);\n",
              "    fill: var(--button-hover-fill-color);\n",
              "  }\n",
              "\n",
              "  .colab-df-quickchart-complete:disabled,\n",
              "  .colab-df-quickchart-complete:disabled:hover {\n",
              "    background-color: var(--disabled-bg-color);\n",
              "    fill: var(--disabled-fill-color);\n",
              "    box-shadow: none;\n",
              "  }\n",
              "\n",
              "  .colab-df-spinner {\n",
              "    border: 2px solid var(--fill-color);\n",
              "    border-color: transparent;\n",
              "    border-bottom-color: var(--fill-color);\n",
              "    animation:\n",
              "      spin 1s steps(1) infinite;\n",
              "  }\n",
              "\n",
              "  @keyframes spin {\n",
              "    0% {\n",
              "      border-color: transparent;\n",
              "      border-bottom-color: var(--fill-color);\n",
              "      border-left-color: var(--fill-color);\n",
              "    }\n",
              "    20% {\n",
              "      border-color: transparent;\n",
              "      border-left-color: var(--fill-color);\n",
              "      border-top-color: var(--fill-color);\n",
              "    }\n",
              "    30% {\n",
              "      border-color: transparent;\n",
              "      border-left-color: var(--fill-color);\n",
              "      border-top-color: var(--fill-color);\n",
              "      border-right-color: var(--fill-color);\n",
              "    }\n",
              "    40% {\n",
              "      border-color: transparent;\n",
              "      border-right-color: var(--fill-color);\n",
              "      border-top-color: var(--fill-color);\n",
              "    }\n",
              "    60% {\n",
              "      border-color: transparent;\n",
              "      border-right-color: var(--fill-color);\n",
              "    }\n",
              "    80% {\n",
              "      border-color: transparent;\n",
              "      border-right-color: var(--fill-color);\n",
              "      border-bottom-color: var(--fill-color);\n",
              "    }\n",
              "    90% {\n",
              "      border-color: transparent;\n",
              "      border-bottom-color: var(--fill-color);\n",
              "    }\n",
              "  }\n",
              "</style>\n",
              "\n",
              "  <script>\n",
              "    async function quickchart(key) {\n",
              "      const quickchartButtonEl =\n",
              "        document.querySelector('#' + key + ' button');\n",
              "      quickchartButtonEl.disabled = true;  // To prevent multiple clicks.\n",
              "      quickchartButtonEl.classList.add('colab-df-spinner');\n",
              "      try {\n",
              "        const charts = await google.colab.kernel.invokeFunction(\n",
              "            'suggestCharts', [key], {});\n",
              "      } catch (error) {\n",
              "        console.error('Error during call to suggestCharts:', error);\n",
              "      }\n",
              "      quickchartButtonEl.classList.remove('colab-df-spinner');\n",
              "      quickchartButtonEl.classList.add('colab-df-quickchart-complete');\n",
              "    }\n",
              "    (() => {\n",
              "      let quickchartButtonEl =\n",
              "        document.querySelector('#df-07026817-9e3a-46e7-aa8b-26d4d368fb35 button');\n",
              "      quickchartButtonEl.style.display =\n",
              "        google.colab.kernel.accessAllowed ? 'block' : 'none';\n",
              "    })();\n",
              "  </script>\n",
              "</div>\n",
              "    </div>\n",
              "  </div>\n"
            ]
          },
          "metadata": {},
          "execution_count": 51
        }
      ]
    },
    {
      "cell_type": "code",
      "source": [
        "cols = X_train.columns"
      ],
      "metadata": {
        "execution": {
          "iopub.status.busy": "2023-10-11T18:28:47.408597Z",
          "iopub.execute_input": "2023-10-11T18:28:47.408947Z",
          "iopub.status.idle": "2023-10-11T18:28:47.414556Z",
          "shell.execute_reply.started": "2023-10-11T18:28:47.408910Z",
          "shell.execute_reply": "2023-10-11T18:28:47.413525Z"
        },
        "trusted": true,
        "id": "tKs1pBAGzUtA"
      },
      "execution_count": 52,
      "outputs": []
    },
    {
      "cell_type": "code",
      "source": [
        "from sklearn.preprocessing import StandardScaler\n",
        "\n",
        "scaler = StandardScaler()\n",
        "\n",
        "X_train = scaler.fit_transform(X_train)\n",
        "\n",
        "X_test = scaler.transform(X_test)"
      ],
      "metadata": {
        "execution": {
          "iopub.status.busy": "2023-10-11T18:28:47.416235Z",
          "iopub.execute_input": "2023-10-11T18:28:47.417214Z",
          "iopub.status.idle": "2023-10-11T18:28:47.432089Z",
          "shell.execute_reply.started": "2023-10-11T18:28:47.417176Z",
          "shell.execute_reply": "2023-10-11T18:28:47.430964Z"
        },
        "trusted": true,
        "id": "qi92Ov_fzUtA"
      },
      "execution_count": 53,
      "outputs": []
    },
    {
      "cell_type": "code",
      "source": [
        "X_train = pd.DataFrame(X_train, columns=[cols])"
      ],
      "metadata": {
        "execution": {
          "iopub.status.busy": "2023-10-11T18:28:47.433050Z",
          "iopub.execute_input": "2023-10-11T18:28:47.433671Z",
          "iopub.status.idle": "2023-10-11T18:28:47.444720Z",
          "shell.execute_reply.started": "2023-10-11T18:28:47.433643Z",
          "shell.execute_reply": "2023-10-11T18:28:47.443562Z"
        },
        "trusted": true,
        "id": "olByiRJvzUtA"
      },
      "execution_count": 54,
      "outputs": []
    },
    {
      "cell_type": "code",
      "source": [
        "X_test = pd.DataFrame(X_test, columns=[cols])"
      ],
      "metadata": {
        "execution": {
          "iopub.status.busy": "2023-10-11T18:28:47.446207Z",
          "iopub.execute_input": "2023-10-11T18:28:47.447084Z",
          "iopub.status.idle": "2023-10-11T18:28:47.455204Z",
          "shell.execute_reply.started": "2023-10-11T18:28:47.447047Z",
          "shell.execute_reply": "2023-10-11T18:28:47.454432Z"
        },
        "trusted": true,
        "id": "rfjKpq8uzUtA"
      },
      "execution_count": 55,
      "outputs": []
    },
    {
      "cell_type": "code",
      "source": [
        "X_train.head()"
      ],
      "metadata": {
        "execution": {
          "iopub.status.busy": "2023-10-11T18:28:47.456747Z",
          "iopub.execute_input": "2023-10-11T18:28:47.457767Z",
          "iopub.status.idle": "2023-10-11T18:28:47.479389Z",
          "shell.execute_reply.started": "2023-10-11T18:28:47.457725Z",
          "shell.execute_reply": "2023-10-11T18:28:47.478708Z"
        },
        "trusted": true,
        "id": "IlI3zhWzzUtD",
        "outputId": "36ef8082-8c1c-4104-bc64-414096b54fc1",
        "colab": {
          "base_uri": "https://localhost:8080/",
          "height": 206
        }
      },
      "execution_count": 56,
      "outputs": [
        {
          "output_type": "execute_result",
          "data": {
            "text/plain": [
              "  Clump_thickness Uniformity_Cell_Size Uniformity_Cell_Shape  \\\n",
              "0        1.988395            -0.697811             -0.741526   \n",
              "1       -1.224684            -0.697811             -0.741526   \n",
              "2        0.203351            -0.697811             -0.741526   \n",
              "3       -0.510666            -0.697811             -0.404973   \n",
              "4        1.274378            -0.372444             -0.068420   \n",
              "\n",
              "  Marginal_Adhesion Single_Epithelial_Cell_Size Bare_Nuclei Bland_Chromatin  \\\n",
              "0         -0.633637                   -0.548720    1.815536        0.619074   \n",
              "1         -0.633637                   -0.997897   -0.682796       -0.188607   \n",
              "2         -0.633637                   -0.548720   -0.682796       -0.188607   \n",
              "3         -0.633637                   -0.548720   -0.682796       -0.592447   \n",
              "4         -0.633637                    1.247988   -0.127611        1.426754   \n",
              "\n",
              "  Normal_Nucleoli   Mitoses  \n",
              "0        0.345321 -0.338637  \n",
              "1       -0.621578 -0.338637  \n",
              "2       -0.621578 -0.338637  \n",
              "3       -0.621578 -0.338637  \n",
              "4       -0.621578 -0.338637  "
            ],
            "text/html": [
              "\n",
              "  <div id=\"df-ca6a9aa9-0892-420a-bb80-33053cbdfe96\" class=\"colab-df-container\">\n",
              "    <div>\n",
              "<style scoped>\n",
              "    .dataframe tbody tr th:only-of-type {\n",
              "        vertical-align: middle;\n",
              "    }\n",
              "\n",
              "    .dataframe tbody tr th {\n",
              "        vertical-align: top;\n",
              "    }\n",
              "\n",
              "    .dataframe thead tr th {\n",
              "        text-align: left;\n",
              "    }\n",
              "</style>\n",
              "<table border=\"1\" class=\"dataframe\">\n",
              "  <thead>\n",
              "    <tr>\n",
              "      <th></th>\n",
              "      <th>Clump_thickness</th>\n",
              "      <th>Uniformity_Cell_Size</th>\n",
              "      <th>Uniformity_Cell_Shape</th>\n",
              "      <th>Marginal_Adhesion</th>\n",
              "      <th>Single_Epithelial_Cell_Size</th>\n",
              "      <th>Bare_Nuclei</th>\n",
              "      <th>Bland_Chromatin</th>\n",
              "      <th>Normal_Nucleoli</th>\n",
              "      <th>Mitoses</th>\n",
              "    </tr>\n",
              "  </thead>\n",
              "  <tbody>\n",
              "    <tr>\n",
              "      <th>0</th>\n",
              "      <td>1.988395</td>\n",
              "      <td>-0.697811</td>\n",
              "      <td>-0.741526</td>\n",
              "      <td>-0.633637</td>\n",
              "      <td>-0.548720</td>\n",
              "      <td>1.815536</td>\n",
              "      <td>0.619074</td>\n",
              "      <td>0.345321</td>\n",
              "      <td>-0.338637</td>\n",
              "    </tr>\n",
              "    <tr>\n",
              "      <th>1</th>\n",
              "      <td>-1.224684</td>\n",
              "      <td>-0.697811</td>\n",
              "      <td>-0.741526</td>\n",
              "      <td>-0.633637</td>\n",
              "      <td>-0.997897</td>\n",
              "      <td>-0.682796</td>\n",
              "      <td>-0.188607</td>\n",
              "      <td>-0.621578</td>\n",
              "      <td>-0.338637</td>\n",
              "    </tr>\n",
              "    <tr>\n",
              "      <th>2</th>\n",
              "      <td>0.203351</td>\n",
              "      <td>-0.697811</td>\n",
              "      <td>-0.741526</td>\n",
              "      <td>-0.633637</td>\n",
              "      <td>-0.548720</td>\n",
              "      <td>-0.682796</td>\n",
              "      <td>-0.188607</td>\n",
              "      <td>-0.621578</td>\n",
              "      <td>-0.338637</td>\n",
              "    </tr>\n",
              "    <tr>\n",
              "      <th>3</th>\n",
              "      <td>-0.510666</td>\n",
              "      <td>-0.697811</td>\n",
              "      <td>-0.404973</td>\n",
              "      <td>-0.633637</td>\n",
              "      <td>-0.548720</td>\n",
              "      <td>-0.682796</td>\n",
              "      <td>-0.592447</td>\n",
              "      <td>-0.621578</td>\n",
              "      <td>-0.338637</td>\n",
              "    </tr>\n",
              "    <tr>\n",
              "      <th>4</th>\n",
              "      <td>1.274378</td>\n",
              "      <td>-0.372444</td>\n",
              "      <td>-0.068420</td>\n",
              "      <td>-0.633637</td>\n",
              "      <td>1.247988</td>\n",
              "      <td>-0.127611</td>\n",
              "      <td>1.426754</td>\n",
              "      <td>-0.621578</td>\n",
              "      <td>-0.338637</td>\n",
              "    </tr>\n",
              "  </tbody>\n",
              "</table>\n",
              "</div>\n",
              "    <div class=\"colab-df-buttons\">\n",
              "\n",
              "  <div class=\"colab-df-container\">\n",
              "    <button class=\"colab-df-convert\" onclick=\"convertToInteractive('df-ca6a9aa9-0892-420a-bb80-33053cbdfe96')\"\n",
              "            title=\"Convert this dataframe to an interactive table.\"\n",
              "            style=\"display:none;\">\n",
              "\n",
              "  <svg xmlns=\"http://www.w3.org/2000/svg\" height=\"24px\" viewBox=\"0 -960 960 960\">\n",
              "    <path d=\"M120-120v-720h720v720H120Zm60-500h600v-160H180v160Zm220 220h160v-160H400v160Zm0 220h160v-160H400v160ZM180-400h160v-160H180v160Zm440 0h160v-160H620v160ZM180-180h160v-160H180v160Zm440 0h160v-160H620v160Z\"/>\n",
              "  </svg>\n",
              "    </button>\n",
              "\n",
              "  <style>\n",
              "    .colab-df-container {\n",
              "      display:flex;\n",
              "      gap: 12px;\n",
              "    }\n",
              "\n",
              "    .colab-df-convert {\n",
              "      background-color: #E8F0FE;\n",
              "      border: none;\n",
              "      border-radius: 50%;\n",
              "      cursor: pointer;\n",
              "      display: none;\n",
              "      fill: #1967D2;\n",
              "      height: 32px;\n",
              "      padding: 0 0 0 0;\n",
              "      width: 32px;\n",
              "    }\n",
              "\n",
              "    .colab-df-convert:hover {\n",
              "      background-color: #E2EBFA;\n",
              "      box-shadow: 0px 1px 2px rgba(60, 64, 67, 0.3), 0px 1px 3px 1px rgba(60, 64, 67, 0.15);\n",
              "      fill: #174EA6;\n",
              "    }\n",
              "\n",
              "    .colab-df-buttons div {\n",
              "      margin-bottom: 4px;\n",
              "    }\n",
              "\n",
              "    [theme=dark] .colab-df-convert {\n",
              "      background-color: #3B4455;\n",
              "      fill: #D2E3FC;\n",
              "    }\n",
              "\n",
              "    [theme=dark] .colab-df-convert:hover {\n",
              "      background-color: #434B5C;\n",
              "      box-shadow: 0px 1px 3px 1px rgba(0, 0, 0, 0.15);\n",
              "      filter: drop-shadow(0px 1px 2px rgba(0, 0, 0, 0.3));\n",
              "      fill: #FFFFFF;\n",
              "    }\n",
              "  </style>\n",
              "\n",
              "    <script>\n",
              "      const buttonEl =\n",
              "        document.querySelector('#df-ca6a9aa9-0892-420a-bb80-33053cbdfe96 button.colab-df-convert');\n",
              "      buttonEl.style.display =\n",
              "        google.colab.kernel.accessAllowed ? 'block' : 'none';\n",
              "\n",
              "      async function convertToInteractive(key) {\n",
              "        const element = document.querySelector('#df-ca6a9aa9-0892-420a-bb80-33053cbdfe96');\n",
              "        const dataTable =\n",
              "          await google.colab.kernel.invokeFunction('convertToInteractive',\n",
              "                                                    [key], {});\n",
              "        if (!dataTable) return;\n",
              "\n",
              "        const docLinkHtml = 'Like what you see? Visit the ' +\n",
              "          '<a target=\"_blank\" href=https://colab.research.google.com/notebooks/data_table.ipynb>data table notebook</a>'\n",
              "          + ' to learn more about interactive tables.';\n",
              "        element.innerHTML = '';\n",
              "        dataTable['output_type'] = 'display_data';\n",
              "        await google.colab.output.renderOutput(dataTable, element);\n",
              "        const docLink = document.createElement('div');\n",
              "        docLink.innerHTML = docLinkHtml;\n",
              "        element.appendChild(docLink);\n",
              "      }\n",
              "    </script>\n",
              "  </div>\n",
              "\n",
              "\n",
              "<div id=\"df-036772bc-3a9e-45bd-bbc3-5090cf212966\">\n",
              "  <button class=\"colab-df-quickchart\" onclick=\"quickchart('df-036772bc-3a9e-45bd-bbc3-5090cf212966')\"\n",
              "            title=\"Suggest charts.\"\n",
              "            style=\"display:none;\">\n",
              "\n",
              "<svg xmlns=\"http://www.w3.org/2000/svg\" height=\"24px\"viewBox=\"0 0 24 24\"\n",
              "     width=\"24px\">\n",
              "    <g>\n",
              "        <path d=\"M19 3H5c-1.1 0-2 .9-2 2v14c0 1.1.9 2 2 2h14c1.1 0 2-.9 2-2V5c0-1.1-.9-2-2-2zM9 17H7v-7h2v7zm4 0h-2V7h2v10zm4 0h-2v-4h2v4z\"/>\n",
              "    </g>\n",
              "</svg>\n",
              "  </button>\n",
              "\n",
              "<style>\n",
              "  .colab-df-quickchart {\n",
              "      --bg-color: #E8F0FE;\n",
              "      --fill-color: #1967D2;\n",
              "      --hover-bg-color: #E2EBFA;\n",
              "      --hover-fill-color: #174EA6;\n",
              "      --disabled-fill-color: #AAA;\n",
              "      --disabled-bg-color: #DDD;\n",
              "  }\n",
              "\n",
              "  [theme=dark] .colab-df-quickchart {\n",
              "      --bg-color: #3B4455;\n",
              "      --fill-color: #D2E3FC;\n",
              "      --hover-bg-color: #434B5C;\n",
              "      --hover-fill-color: #FFFFFF;\n",
              "      --disabled-bg-color: #3B4455;\n",
              "      --disabled-fill-color: #666;\n",
              "  }\n",
              "\n",
              "  .colab-df-quickchart {\n",
              "    background-color: var(--bg-color);\n",
              "    border: none;\n",
              "    border-radius: 50%;\n",
              "    cursor: pointer;\n",
              "    display: none;\n",
              "    fill: var(--fill-color);\n",
              "    height: 32px;\n",
              "    padding: 0;\n",
              "    width: 32px;\n",
              "  }\n",
              "\n",
              "  .colab-df-quickchart:hover {\n",
              "    background-color: var(--hover-bg-color);\n",
              "    box-shadow: 0 1px 2px rgba(60, 64, 67, 0.3), 0 1px 3px 1px rgba(60, 64, 67, 0.15);\n",
              "    fill: var(--button-hover-fill-color);\n",
              "  }\n",
              "\n",
              "  .colab-df-quickchart-complete:disabled,\n",
              "  .colab-df-quickchart-complete:disabled:hover {\n",
              "    background-color: var(--disabled-bg-color);\n",
              "    fill: var(--disabled-fill-color);\n",
              "    box-shadow: none;\n",
              "  }\n",
              "\n",
              "  .colab-df-spinner {\n",
              "    border: 2px solid var(--fill-color);\n",
              "    border-color: transparent;\n",
              "    border-bottom-color: var(--fill-color);\n",
              "    animation:\n",
              "      spin 1s steps(1) infinite;\n",
              "  }\n",
              "\n",
              "  @keyframes spin {\n",
              "    0% {\n",
              "      border-color: transparent;\n",
              "      border-bottom-color: var(--fill-color);\n",
              "      border-left-color: var(--fill-color);\n",
              "    }\n",
              "    20% {\n",
              "      border-color: transparent;\n",
              "      border-left-color: var(--fill-color);\n",
              "      border-top-color: var(--fill-color);\n",
              "    }\n",
              "    30% {\n",
              "      border-color: transparent;\n",
              "      border-left-color: var(--fill-color);\n",
              "      border-top-color: var(--fill-color);\n",
              "      border-right-color: var(--fill-color);\n",
              "    }\n",
              "    40% {\n",
              "      border-color: transparent;\n",
              "      border-right-color: var(--fill-color);\n",
              "      border-top-color: var(--fill-color);\n",
              "    }\n",
              "    60% {\n",
              "      border-color: transparent;\n",
              "      border-right-color: var(--fill-color);\n",
              "    }\n",
              "    80% {\n",
              "      border-color: transparent;\n",
              "      border-right-color: var(--fill-color);\n",
              "      border-bottom-color: var(--fill-color);\n",
              "    }\n",
              "    90% {\n",
              "      border-color: transparent;\n",
              "      border-bottom-color: var(--fill-color);\n",
              "    }\n",
              "  }\n",
              "</style>\n",
              "\n",
              "  <script>\n",
              "    async function quickchart(key) {\n",
              "      const quickchartButtonEl =\n",
              "        document.querySelector('#' + key + ' button');\n",
              "      quickchartButtonEl.disabled = true;  // To prevent multiple clicks.\n",
              "      quickchartButtonEl.classList.add('colab-df-spinner');\n",
              "      try {\n",
              "        const charts = await google.colab.kernel.invokeFunction(\n",
              "            'suggestCharts', [key], {});\n",
              "      } catch (error) {\n",
              "        console.error('Error during call to suggestCharts:', error);\n",
              "      }\n",
              "      quickchartButtonEl.classList.remove('colab-df-spinner');\n",
              "      quickchartButtonEl.classList.add('colab-df-quickchart-complete');\n",
              "    }\n",
              "    (() => {\n",
              "      let quickchartButtonEl =\n",
              "        document.querySelector('#df-036772bc-3a9e-45bd-bbc3-5090cf212966 button');\n",
              "      quickchartButtonEl.style.display =\n",
              "        google.colab.kernel.accessAllowed ? 'block' : 'none';\n",
              "    })();\n",
              "  </script>\n",
              "</div>\n",
              "    </div>\n",
              "  </div>\n"
            ]
          },
          "metadata": {},
          "execution_count": 56
        }
      ]
    },
    {
      "cell_type": "code",
      "source": [
        "# import KNeighbors ClaSSifier from sklearn\n",
        "from sklearn.neighbors import KNeighborsClassifier\n",
        "\n",
        "\n",
        "# instantiate the model\n",
        "knn = KNeighborsClassifier(n_neighbors=3)\n",
        "\n",
        "\n",
        "# fit the model to the training set\n",
        "knn.fit(X_train, y_train)"
      ],
      "metadata": {
        "execution": {
          "iopub.status.busy": "2023-10-11T18:28:47.486257Z",
          "iopub.execute_input": "2023-10-11T18:28:47.486816Z",
          "iopub.status.idle": "2023-10-11T18:28:47.731271Z",
          "shell.execute_reply.started": "2023-10-11T18:28:47.486776Z",
          "shell.execute_reply": "2023-10-11T18:28:47.730164Z"
        },
        "trusted": true,
        "id": "vfyp6soRzUtD",
        "outputId": "b1bccffe-d365-4825-9a79-e2a02bdb4d27",
        "colab": {
          "base_uri": "https://localhost:8080/",
          "height": 75
        }
      },
      "execution_count": 57,
      "outputs": [
        {
          "output_type": "execute_result",
          "data": {
            "text/plain": [
              "KNeighborsClassifier(n_neighbors=3)"
            ],
            "text/html": [
              "<style>#sk-container-id-1 {color: black;background-color: white;}#sk-container-id-1 pre{padding: 0;}#sk-container-id-1 div.sk-toggleable {background-color: white;}#sk-container-id-1 label.sk-toggleable__label {cursor: pointer;display: block;width: 100%;margin-bottom: 0;padding: 0.3em;box-sizing: border-box;text-align: center;}#sk-container-id-1 label.sk-toggleable__label-arrow:before {content: \"▸\";float: left;margin-right: 0.25em;color: #696969;}#sk-container-id-1 label.sk-toggleable__label-arrow:hover:before {color: black;}#sk-container-id-1 div.sk-estimator:hover label.sk-toggleable__label-arrow:before {color: black;}#sk-container-id-1 div.sk-toggleable__content {max-height: 0;max-width: 0;overflow: hidden;text-align: left;background-color: #f0f8ff;}#sk-container-id-1 div.sk-toggleable__content pre {margin: 0.2em;color: black;border-radius: 0.25em;background-color: #f0f8ff;}#sk-container-id-1 input.sk-toggleable__control:checked~div.sk-toggleable__content {max-height: 200px;max-width: 100%;overflow: auto;}#sk-container-id-1 input.sk-toggleable__control:checked~label.sk-toggleable__label-arrow:before {content: \"▾\";}#sk-container-id-1 div.sk-estimator input.sk-toggleable__control:checked~label.sk-toggleable__label {background-color: #d4ebff;}#sk-container-id-1 div.sk-label input.sk-toggleable__control:checked~label.sk-toggleable__label {background-color: #d4ebff;}#sk-container-id-1 input.sk-hidden--visually {border: 0;clip: rect(1px 1px 1px 1px);clip: rect(1px, 1px, 1px, 1px);height: 1px;margin: -1px;overflow: hidden;padding: 0;position: absolute;width: 1px;}#sk-container-id-1 div.sk-estimator {font-family: monospace;background-color: #f0f8ff;border: 1px dotted black;border-radius: 0.25em;box-sizing: border-box;margin-bottom: 0.5em;}#sk-container-id-1 div.sk-estimator:hover {background-color: #d4ebff;}#sk-container-id-1 div.sk-parallel-item::after {content: \"\";width: 100%;border-bottom: 1px solid gray;flex-grow: 1;}#sk-container-id-1 div.sk-label:hover label.sk-toggleable__label {background-color: #d4ebff;}#sk-container-id-1 div.sk-serial::before {content: \"\";position: absolute;border-left: 1px solid gray;box-sizing: border-box;top: 0;bottom: 0;left: 50%;z-index: 0;}#sk-container-id-1 div.sk-serial {display: flex;flex-direction: column;align-items: center;background-color: white;padding-right: 0.2em;padding-left: 0.2em;position: relative;}#sk-container-id-1 div.sk-item {position: relative;z-index: 1;}#sk-container-id-1 div.sk-parallel {display: flex;align-items: stretch;justify-content: center;background-color: white;position: relative;}#sk-container-id-1 div.sk-item::before, #sk-container-id-1 div.sk-parallel-item::before {content: \"\";position: absolute;border-left: 1px solid gray;box-sizing: border-box;top: 0;bottom: 0;left: 50%;z-index: -1;}#sk-container-id-1 div.sk-parallel-item {display: flex;flex-direction: column;z-index: 1;position: relative;background-color: white;}#sk-container-id-1 div.sk-parallel-item:first-child::after {align-self: flex-end;width: 50%;}#sk-container-id-1 div.sk-parallel-item:last-child::after {align-self: flex-start;width: 50%;}#sk-container-id-1 div.sk-parallel-item:only-child::after {width: 0;}#sk-container-id-1 div.sk-dashed-wrapped {border: 1px dashed gray;margin: 0 0.4em 0.5em 0.4em;box-sizing: border-box;padding-bottom: 0.4em;background-color: white;}#sk-container-id-1 div.sk-label label {font-family: monospace;font-weight: bold;display: inline-block;line-height: 1.2em;}#sk-container-id-1 div.sk-label-container {text-align: center;}#sk-container-id-1 div.sk-container {/* jupyter's `normalize.less` sets `[hidden] { display: none; }` but bootstrap.min.css set `[hidden] { display: none !important; }` so we also need the `!important` here to be able to override the default hidden behavior on the sphinx rendered scikit-learn.org. See: https://github.com/scikit-learn/scikit-learn/issues/21755 */display: inline-block !important;position: relative;}#sk-container-id-1 div.sk-text-repr-fallback {display: none;}</style><div id=\"sk-container-id-1\" class=\"sk-top-container\"><div class=\"sk-text-repr-fallback\"><pre>KNeighborsClassifier(n_neighbors=3)</pre><b>In a Jupyter environment, please rerun this cell to show the HTML representation or trust the notebook. <br />On GitHub, the HTML representation is unable to render, please try loading this page with nbviewer.org.</b></div><div class=\"sk-container\" hidden><div class=\"sk-item\"><div class=\"sk-estimator sk-toggleable\"><input class=\"sk-toggleable__control sk-hidden--visually\" id=\"sk-estimator-id-1\" type=\"checkbox\" checked><label for=\"sk-estimator-id-1\" class=\"sk-toggleable__label sk-toggleable__label-arrow\">KNeighborsClassifier</label><div class=\"sk-toggleable__content\"><pre>KNeighborsClassifier(n_neighbors=3)</pre></div></div></div></div></div>"
            ]
          },
          "metadata": {},
          "execution_count": 57
        }
      ]
    },
    {
      "cell_type": "code",
      "source": [
        "y_pred = knn.predict(X_test)\n",
        "\n",
        "y_pred"
      ],
      "metadata": {
        "execution": {
          "iopub.status.busy": "2023-10-11T18:28:47.732582Z",
          "iopub.execute_input": "2023-10-11T18:28:47.732987Z",
          "iopub.status.idle": "2023-10-11T18:28:47.755474Z",
          "shell.execute_reply.started": "2023-10-11T18:28:47.732952Z",
          "shell.execute_reply": "2023-10-11T18:28:47.754289Z"
        },
        "trusted": true,
        "id": "sm393pQszUtD",
        "outputId": "c9c819bc-964d-43bb-cfeb-a092a5ecccfd",
        "colab": {
          "base_uri": "https://localhost:8080/"
        }
      },
      "execution_count": 58,
      "outputs": [
        {
          "output_type": "execute_result",
          "data": {
            "text/plain": [
              "array([2, 2, 4, 4, 2, 2, 2, 4, 2, 2, 4, 2, 4, 2, 2, 4, 4, 4, 4, 2, 2, 2,\n",
              "       4, 2, 4, 4, 2, 2, 2, 4, 2, 4, 4, 2, 2, 2, 4, 4, 2, 4, 2, 2, 2, 2,\n",
              "       2, 2, 2, 4, 2, 2, 4, 2, 4, 2, 2, 2, 4, 4, 2, 4, 2, 2, 2, 2, 2, 2,\n",
              "       2, 2, 4, 4, 2, 2, 2, 2, 2, 2, 4, 2, 2, 2, 4, 2, 4, 2, 2, 4, 2, 4,\n",
              "       4, 2, 4, 2, 4, 4, 4, 2, 4, 4, 4, 2, 2, 2, 4, 4, 2, 2, 4, 4, 2, 2,\n",
              "       4, 2, 2, 4, 2, 2, 2, 2, 2, 2, 2, 4, 2, 2, 4, 4, 2, 4, 2, 4, 2, 2,\n",
              "       4, 2, 2, 4, 2])"
            ]
          },
          "metadata": {},
          "execution_count": 58
        }
      ]
    },
    {
      "cell_type": "code",
      "source": [
        "# probability of getting output as 2 - benign cancer\n",
        "\n",
        "knn.predict_proba(X_test)[:,0]"
      ],
      "metadata": {
        "execution": {
          "iopub.status.busy": "2023-10-11T18:28:47.756949Z",
          "iopub.execute_input": "2023-10-11T18:28:47.758086Z",
          "iopub.status.idle": "2023-10-11T18:28:47.769839Z",
          "shell.execute_reply.started": "2023-10-11T18:28:47.758046Z",
          "shell.execute_reply": "2023-10-11T18:28:47.768399Z"
        },
        "trusted": true,
        "id": "LgVDkRnDzUtD",
        "outputId": "549b365c-e942-4ff8-ed63-efba0391b52a",
        "colab": {
          "base_uri": "https://localhost:8080/"
        }
      },
      "execution_count": 59,
      "outputs": [
        {
          "output_type": "execute_result",
          "data": {
            "text/plain": [
              "array([1.        , 1.        , 0.33333333, 0.        , 1.        ,\n",
              "       1.        , 1.        , 0.        , 1.        , 1.        ,\n",
              "       0.        , 1.        , 0.        , 1.        , 1.        ,\n",
              "       0.33333333, 0.        , 0.        , 0.        , 1.        ,\n",
              "       1.        , 1.        , 0.        , 1.        , 0.        ,\n",
              "       0.        , 1.        , 1.        , 1.        , 0.        ,\n",
              "       1.        , 0.        , 0.        , 1.        , 1.        ,\n",
              "       1.        , 0.        , 0.        , 1.        , 0.        ,\n",
              "       1.        , 1.        , 1.        , 1.        , 1.        ,\n",
              "       1.        , 1.        , 0.        , 1.        , 1.        ,\n",
              "       0.        , 1.        , 0.        , 1.        , 1.        ,\n",
              "       1.        , 0.        , 0.        , 1.        , 0.        ,\n",
              "       1.        , 1.        , 1.        , 1.        , 1.        ,\n",
              "       1.        , 1.        , 1.        , 0.        , 0.        ,\n",
              "       1.        , 1.        , 1.        , 1.        , 1.        ,\n",
              "       1.        , 0.        , 1.        , 1.        , 1.        ,\n",
              "       0.        , 1.        , 0.        , 1.        , 1.        ,\n",
              "       0.        , 1.        , 0.        , 0.        , 1.        ,\n",
              "       0.        , 1.        , 0.        , 0.        , 0.33333333,\n",
              "       0.66666667, 0.        , 0.        , 0.        , 1.        ,\n",
              "       1.        , 1.        , 0.        , 0.        , 1.        ,\n",
              "       1.        , 0.        , 0.33333333, 1.        , 1.        ,\n",
              "       0.33333333, 1.        , 1.        , 0.        , 1.        ,\n",
              "       0.66666667, 1.        , 0.66666667, 1.        , 1.        ,\n",
              "       1.        , 0.        , 1.        , 1.        , 0.        ,\n",
              "       0.        , 1.        , 0.        , 1.        , 0.        ,\n",
              "       1.        , 1.        , 0.33333333, 1.        , 1.        ,\n",
              "       0.        , 1.        ])"
            ]
          },
          "metadata": {},
          "execution_count": 59
        }
      ]
    },
    {
      "cell_type": "code",
      "source": [
        "# probability of getting output as 4 - malignant cancer\n",
        "\n",
        "knn.predict_proba(X_test)[:,1]"
      ],
      "metadata": {
        "execution": {
          "iopub.status.busy": "2023-10-11T18:28:47.771197Z",
          "iopub.execute_input": "2023-10-11T18:28:47.772425Z",
          "iopub.status.idle": "2023-10-11T18:28:47.787243Z",
          "shell.execute_reply.started": "2023-10-11T18:28:47.772349Z",
          "shell.execute_reply": "2023-10-11T18:28:47.785931Z"
        },
        "trusted": true,
        "id": "5pA_qOMNzUtD",
        "outputId": "4c5b9d7b-915a-439c-9664-5d8c7b2058b6",
        "colab": {
          "base_uri": "https://localhost:8080/"
        }
      },
      "execution_count": 60,
      "outputs": [
        {
          "output_type": "execute_result",
          "data": {
            "text/plain": [
              "array([0.        , 0.        , 0.66666667, 1.        , 0.        ,\n",
              "       0.        , 0.        , 1.        , 0.        , 0.        ,\n",
              "       1.        , 0.        , 1.        , 0.        , 0.        ,\n",
              "       0.66666667, 1.        , 1.        , 1.        , 0.        ,\n",
              "       0.        , 0.        , 1.        , 0.        , 1.        ,\n",
              "       1.        , 0.        , 0.        , 0.        , 1.        ,\n",
              "       0.        , 1.        , 1.        , 0.        , 0.        ,\n",
              "       0.        , 1.        , 1.        , 0.        , 1.        ,\n",
              "       0.        , 0.        , 0.        , 0.        , 0.        ,\n",
              "       0.        , 0.        , 1.        , 0.        , 0.        ,\n",
              "       1.        , 0.        , 1.        , 0.        , 0.        ,\n",
              "       0.        , 1.        , 1.        , 0.        , 1.        ,\n",
              "       0.        , 0.        , 0.        , 0.        , 0.        ,\n",
              "       0.        , 0.        , 0.        , 1.        , 1.        ,\n",
              "       0.        , 0.        , 0.        , 0.        , 0.        ,\n",
              "       0.        , 1.        , 0.        , 0.        , 0.        ,\n",
              "       1.        , 0.        , 1.        , 0.        , 0.        ,\n",
              "       1.        , 0.        , 1.        , 1.        , 0.        ,\n",
              "       1.        , 0.        , 1.        , 1.        , 0.66666667,\n",
              "       0.33333333, 1.        , 1.        , 1.        , 0.        ,\n",
              "       0.        , 0.        , 1.        , 1.        , 0.        ,\n",
              "       0.        , 1.        , 0.66666667, 0.        , 0.        ,\n",
              "       0.66666667, 0.        , 0.        , 1.        , 0.        ,\n",
              "       0.33333333, 0.        , 0.33333333, 0.        , 0.        ,\n",
              "       0.        , 1.        , 0.        , 0.        , 1.        ,\n",
              "       1.        , 0.        , 1.        , 0.        , 1.        ,\n",
              "       0.        , 0.        , 0.66666667, 0.        , 0.        ,\n",
              "       1.        , 0.        ])"
            ]
          },
          "metadata": {},
          "execution_count": 60
        }
      ]
    },
    {
      "cell_type": "code",
      "source": [
        "from sklearn.metrics import accuracy_score\n",
        "\n",
        "print('Model accuracy score: {0:0.4f}'. format(accuracy_score(y_test, y_pred)))"
      ],
      "metadata": {
        "execution": {
          "iopub.status.busy": "2023-10-11T18:28:47.788636Z",
          "iopub.execute_input": "2023-10-11T18:28:47.789361Z",
          "iopub.status.idle": "2023-10-11T18:28:47.797540Z",
          "shell.execute_reply.started": "2023-10-11T18:28:47.789324Z",
          "shell.execute_reply": "2023-10-11T18:28:47.796459Z"
        },
        "trusted": true,
        "id": "sP9A8l-ZzUtD",
        "outputId": "d60fb27d-8fee-4f71-91a2-ee0dabb537e5",
        "colab": {
          "base_uri": "https://localhost:8080/"
        }
      },
      "execution_count": 61,
      "outputs": [
        {
          "output_type": "stream",
          "name": "stdout",
          "text": [
            "Model accuracy score: 0.9708\n"
          ]
        }
      ]
    },
    {
      "cell_type": "code",
      "source": [
        "y_pred_train = knn.predict(X_train)\n",
        "print('Training-set accuracy score: {0:0.4f}'. format(accuracy_score(y_train, y_pred_train)))"
      ],
      "metadata": {
        "execution": {
          "iopub.status.busy": "2023-10-11T18:28:47.798720Z",
          "iopub.execute_input": "2023-10-11T18:28:47.799744Z",
          "iopub.status.idle": "2023-10-11T18:28:47.862689Z",
          "shell.execute_reply.started": "2023-10-11T18:28:47.799705Z",
          "shell.execute_reply": "2023-10-11T18:28:47.861598Z"
        },
        "trusted": true,
        "id": "l3Rbj-nRzUtD",
        "outputId": "18977aed-2b8b-4c4d-cc90-99252820ca67",
        "colab": {
          "base_uri": "https://localhost:8080/"
        }
      },
      "execution_count": 62,
      "outputs": [
        {
          "output_type": "stream",
          "name": "stdout",
          "text": [
            "Training-set accuracy score: 0.9725\n"
          ]
        }
      ]
    },
    {
      "cell_type": "code",
      "source": [
        "# print the scores on training and test set\n",
        "\n",
        "print('Training set score: {:.4f}'.format(knn.score(X_train, y_train)))\n",
        "\n",
        "print('Test set score: {:.4f}'.format(knn.score(X_test, y_test)))"
      ],
      "metadata": {
        "execution": {
          "iopub.status.busy": "2023-10-11T18:28:47.863919Z",
          "iopub.execute_input": "2023-10-11T18:28:47.865100Z",
          "iopub.status.idle": "2023-10-11T18:28:47.918978Z",
          "shell.execute_reply.started": "2023-10-11T18:28:47.865061Z",
          "shell.execute_reply": "2023-10-11T18:28:47.917949Z"
        },
        "trusted": true,
        "id": "UbM4sMfRzUtE",
        "outputId": "a2f8df34-d95b-499e-98aa-90c4e8022690",
        "colab": {
          "base_uri": "https://localhost:8080/"
        }
      },
      "execution_count": 63,
      "outputs": [
        {
          "output_type": "stream",
          "name": "stdout",
          "text": [
            "Training set score: 0.9725\n",
            "Test set score: 0.9708\n"
          ]
        }
      ]
    },
    {
      "cell_type": "code",
      "source": [
        "# check class distribution in test set\n",
        "\n",
        "y_test.value_counts()"
      ],
      "metadata": {
        "execution": {
          "iopub.status.busy": "2023-10-11T18:28:47.919977Z",
          "iopub.execute_input": "2023-10-11T18:28:47.920234Z",
          "iopub.status.idle": "2023-10-11T18:28:47.927681Z",
          "shell.execute_reply.started": "2023-10-11T18:28:47.920212Z",
          "shell.execute_reply": "2023-10-11T18:28:47.926563Z"
        },
        "trusted": true,
        "id": "4tWQs8zTzUtE",
        "outputId": "3ab199a5-4f28-476c-8c3c-8a82f0b22ce6",
        "colab": {
          "base_uri": "https://localhost:8080/"
        }
      },
      "execution_count": 64,
      "outputs": [
        {
          "output_type": "execute_result",
          "data": {
            "text/plain": [
              "2    87\n",
              "4    50\n",
              "Name: Class, dtype: int64"
            ]
          },
          "metadata": {},
          "execution_count": 64
        }
      ]
    },
    {
      "cell_type": "code",
      "source": [
        "# check null accuracy score\n",
        "\n",
        "null_accuracy = (85/(85+55))\n",
        "\n",
        "print('Null accuracy score: {0:0.4f}'. format(null_accuracy))"
      ],
      "metadata": {
        "execution": {
          "iopub.status.busy": "2023-10-11T18:28:47.928902Z",
          "iopub.execute_input": "2023-10-11T18:28:47.929159Z",
          "iopub.status.idle": "2023-10-11T18:28:47.941221Z",
          "shell.execute_reply.started": "2023-10-11T18:28:47.929139Z",
          "shell.execute_reply": "2023-10-11T18:28:47.940108Z"
        },
        "trusted": true,
        "id": "ovUlmLiRzUtE",
        "outputId": "9eeda618-7244-48a1-9d86-5dbd5e788d0d",
        "colab": {
          "base_uri": "https://localhost:8080/"
        }
      },
      "execution_count": 65,
      "outputs": [
        {
          "output_type": "stream",
          "name": "stdout",
          "text": [
            "Null accuracy score: 0.6071\n"
          ]
        }
      ]
    },
    {
      "cell_type": "code",
      "source": [
        "# instantiate the model with k=5\n",
        "knn_5 = KNeighborsClassifier(n_neighbors=5)\n",
        "\n",
        "\n",
        "# fit the model to the training set\n",
        "knn_5.fit(X_train, y_train)\n",
        "\n",
        "\n",
        "# predict on the test-set\n",
        "y_pred_5 = knn_5.predict(X_test)\n",
        "\n",
        "\n",
        "print('Model accuracy score with k=5 : {0:0.4f}'. format(accuracy_score(y_test, y_pred_5)))"
      ],
      "metadata": {
        "execution": {
          "iopub.status.busy": "2023-10-11T18:28:47.942742Z",
          "iopub.execute_input": "2023-10-11T18:28:47.943423Z",
          "iopub.status.idle": "2023-10-11T18:28:47.969372Z",
          "shell.execute_reply.started": "2023-10-11T18:28:47.943382Z",
          "shell.execute_reply": "2023-10-11T18:28:47.968414Z"
        },
        "trusted": true,
        "id": "xdM7XURYzUtE",
        "outputId": "1ff16f36-d232-4fb4-e9a8-95a720e97b66",
        "colab": {
          "base_uri": "https://localhost:8080/"
        }
      },
      "execution_count": 66,
      "outputs": [
        {
          "output_type": "stream",
          "name": "stdout",
          "text": [
            "Model accuracy score with k=5 : 0.9562\n"
          ]
        }
      ]
    },
    {
      "cell_type": "code",
      "source": [
        "# instantiate the model with k=6\n",
        "knn_6 = KNeighborsClassifier(n_neighbors=6)\n",
        "\n",
        "\n",
        "# fit the model to the training set\n",
        "knn_6.fit(X_train, y_train)\n",
        "\n",
        "\n",
        "# predict on the test-set\n",
        "y_pred_6 = knn_6.predict(X_test)\n",
        "\n",
        "\n",
        "print('Model accuracy score with k=6 : {0:0.4f}'. format(accuracy_score(y_test, y_pred_6)))"
      ],
      "metadata": {
        "execution": {
          "iopub.status.busy": "2023-10-11T18:28:47.970847Z",
          "iopub.execute_input": "2023-10-11T18:28:47.971468Z",
          "iopub.status.idle": "2023-10-11T18:28:47.991881Z",
          "shell.execute_reply.started": "2023-10-11T18:28:47.971441Z",
          "shell.execute_reply": "2023-10-11T18:28:47.990576Z"
        },
        "trusted": true,
        "id": "PTbUt50HzUtE",
        "outputId": "68970c67-3338-4ae8-e3f5-247ce0d15c06",
        "colab": {
          "base_uri": "https://localhost:8080/"
        }
      },
      "execution_count": 67,
      "outputs": [
        {
          "output_type": "stream",
          "name": "stdout",
          "text": [
            "Model accuracy score with k=6 : 0.9562\n"
          ]
        }
      ]
    },
    {
      "cell_type": "code",
      "source": [
        "# instantiate the model with k=7\n",
        "knn_7 = KNeighborsClassifier(n_neighbors=7)\n",
        "\n",
        "\n",
        "# fit the model to the training set\n",
        "knn_7.fit(X_train, y_train)\n",
        "\n",
        "\n",
        "# predict on the test-set\n",
        "y_pred_7 = knn_7.predict(X_test)\n",
        "\n",
        "\n",
        "print('Model accuracy score with k=7 : {0:0.4f}'. format(accuracy_score(y_test, y_pred_7)))"
      ],
      "metadata": {
        "execution": {
          "iopub.status.busy": "2023-10-11T18:28:47.992968Z",
          "iopub.execute_input": "2023-10-11T18:28:47.993240Z",
          "iopub.status.idle": "2023-10-11T18:28:48.015201Z",
          "shell.execute_reply.started": "2023-10-11T18:28:47.993218Z",
          "shell.execute_reply": "2023-10-11T18:28:48.014275Z"
        },
        "trusted": true,
        "id": "bPraXZztzUtE",
        "outputId": "511a0be8-8ea8-487f-e2f6-a37d6dcd4782",
        "colab": {
          "base_uri": "https://localhost:8080/"
        }
      },
      "execution_count": 68,
      "outputs": [
        {
          "output_type": "stream",
          "name": "stdout",
          "text": [
            "Model accuracy score with k=7 : 0.9562\n"
          ]
        }
      ]
    },
    {
      "cell_type": "code",
      "source": [
        "# instantiate the model with k=8\n",
        "knn_8 = KNeighborsClassifier(n_neighbors=8)\n",
        "\n",
        "\n",
        "# fit the model to the training set\n",
        "knn_8.fit(X_train, y_train)\n",
        "\n",
        "\n",
        "# predict on the test-set\n",
        "y_pred_8 = knn_8.predict(X_test)\n",
        "\n",
        "\n",
        "print('Model accuracy score with k=8 : {0:0.4f}'. format(accuracy_score(y_test, y_pred_8)))"
      ],
      "metadata": {
        "execution": {
          "iopub.status.busy": "2023-10-11T18:28:48.016385Z",
          "iopub.execute_input": "2023-10-11T18:28:48.016703Z",
          "iopub.status.idle": "2023-10-11T18:28:48.037401Z",
          "shell.execute_reply.started": "2023-10-11T18:28:48.016677Z",
          "shell.execute_reply": "2023-10-11T18:28:48.036383Z"
        },
        "trusted": true,
        "id": "RfCdGq6ezUtE",
        "outputId": "f3742f12-711f-4329-a9ab-1cdfcfe64784",
        "colab": {
          "base_uri": "https://localhost:8080/"
        }
      },
      "execution_count": 69,
      "outputs": [
        {
          "output_type": "stream",
          "name": "stdout",
          "text": [
            "Model accuracy score with k=8 : 0.9562\n"
          ]
        }
      ]
    },
    {
      "cell_type": "code",
      "source": [
        "# instantiate the model with k=9\n",
        "knn_9 = KNeighborsClassifier(n_neighbors=9)\n",
        "\n",
        "\n",
        "# fit the model to the training set\n",
        "knn_9.fit(X_train, y_train)\n",
        "\n",
        "\n",
        "# predict on the test-set\n",
        "y_pred_9 = knn_9.predict(X_test)\n",
        "\n",
        "\n",
        "print('Model accuracy score with k=9 : {0:0.4f}'. format(accuracy_score(y_test, y_pred_9)))"
      ],
      "metadata": {
        "execution": {
          "iopub.status.busy": "2023-10-11T18:28:48.039201Z",
          "iopub.execute_input": "2023-10-11T18:28:48.039538Z",
          "iopub.status.idle": "2023-10-11T18:28:48.062250Z",
          "shell.execute_reply.started": "2023-10-11T18:28:48.039482Z",
          "shell.execute_reply": "2023-10-11T18:28:48.061127Z"
        },
        "trusted": true,
        "id": "m3Z5D8ugzUtE",
        "outputId": "108ee488-1a7b-49aa-b0f8-fa1a33e201a6",
        "colab": {
          "base_uri": "https://localhost:8080/"
        }
      },
      "execution_count": 70,
      "outputs": [
        {
          "output_type": "stream",
          "name": "stdout",
          "text": [
            "Model accuracy score with k=9 : 0.9562\n"
          ]
        }
      ]
    },
    {
      "cell_type": "code",
      "source": [
        "# plot ROC Curve\n",
        "\n",
        "from sklearn.metrics import roc_curve\n",
        "\n",
        "fpr, tpr, thresholds = roc_curve(y_test, y_pred_9, pos_label=4)\n",
        "\n",
        "plt.figure(figsize=(6,4))\n",
        "\n",
        "plt.plot(fpr, tpr, linewidth=2)\n",
        "\n",
        "plt.plot([0,1], [0,1], 'k--' )\n",
        "\n",
        "plt.rcParams['font.size'] = 12\n",
        "\n",
        "plt.title('ROC curve for Breast Cancer kNN classifier')\n",
        "\n",
        "plt.xlabel('False Positive Rate (1 - Specificity)')\n",
        "\n",
        "plt.ylabel('True Positive Rate (Sensitivity)')\n",
        "\n",
        "plt.show()"
      ],
      "metadata": {
        "execution": {
          "iopub.status.busy": "2023-10-11T18:28:48.771595Z",
          "iopub.execute_input": "2023-10-11T18:28:48.771857Z",
          "iopub.status.idle": "2023-10-11T18:28:48.949900Z",
          "shell.execute_reply.started": "2023-10-11T18:28:48.771834Z",
          "shell.execute_reply": "2023-10-11T18:28:48.948799Z"
        },
        "trusted": true,
        "id": "vniDK43kzUtG",
        "outputId": "90eae907-a904-4c64-ff31-4a4e3b385052",
        "colab": {
          "base_uri": "https://localhost:8080/",
          "height": 411
        }
      },
      "execution_count": 72,
      "outputs": [
        {
          "output_type": "display_data",
          "data": {
            "text/plain": [
              "<Figure size 600x400 with 1 Axes>"
            ],
            "image/png": "[encoded data removed]"
          },
          "metadata": {}
        }
      ]
    },
    {
      "cell_type": "code",
      "source": [
        "# compute ROC AUC\n",
        "\n",
        "from sklearn.metrics import roc_auc_score\n",
        "\n",
        "ROC_AUC = roc_auc_score(y_test, y_pred_9)\n",
        "\n",
        "print('ROC AUC : {:.4f}'.format(ROC_AUC))"
      ],
      "metadata": {
        "execution": {
          "iopub.status.busy": "2023-10-11T18:28:48.951236Z",
          "iopub.execute_input": "2023-10-11T18:28:48.951541Z",
          "iopub.status.idle": "2023-10-11T18:28:48.962184Z",
          "shell.execute_reply.started": "2023-10-11T18:28:48.951495Z",
          "shell.execute_reply": "2023-10-11T18:28:48.961323Z"
        },
        "trusted": true,
        "id": "-00n261kzUtG",
        "outputId": "8ccaceff-8847-4bbc-c536-13c842021ad0",
        "colab": {
          "base_uri": "https://localhost:8080/"
        }
      },
      "execution_count": 75,
      "outputs": [
        {
          "output_type": "stream",
          "name": "stdout",
          "text": [
            "ROC AUC : 0.9528\n"
          ]
        }
      ]
    },
    {
      "cell_type": "code",
      "source": [
        "# calculate cross-validated ROC AUC\n",
        "\n",
        "from sklearn.model_selection import cross_val_score\n",
        "\n",
        "Cross_validated_ROC_AUC = cross_val_score(knn_7, X_train, y_train, cv=5, scoring='roc_auc').mean()\n",
        "\n",
        "print('Cross validated ROC AUC : {:.4f}'.format(Cross_validated_ROC_AUC))"
      ],
      "metadata": {
        "execution": {
          "iopub.status.busy": "2023-10-11T18:28:48.963410Z",
          "iopub.execute_input": "2023-10-11T18:28:48.964397Z",
          "iopub.status.idle": "2023-10-11T18:28:49.010094Z",
          "shell.execute_reply.started": "2023-10-11T18:28:48.964370Z",
          "shell.execute_reply": "2023-10-11T18:28:49.008914Z"
        },
        "trusted": true,
        "id": "CAolqlUtzUtG",
        "outputId": "2926dbf5-32dc-402a-ff1d-c0c58dfb6155",
        "colab": {
          "base_uri": "https://localhost:8080/"
        }
      },
      "execution_count": 76,
      "outputs": [
        {
          "output_type": "stream",
          "name": "stdout",
          "text": [
            "Cross validated ROC AUC : 0.9910\n"
          ]
        }
      ]
    },
    {
      "cell_type": "code",
      "source": [
        "# Applying 10-Fold Cross Validation\n",
        "\n",
        "from sklearn.model_selection import cross_val_score\n",
        "\n",
        "scores = cross_val_score(knn_7, X_train, y_train, cv = 10, scoring='accuracy')\n",
        "\n",
        "print('Cross-validation scores:{}'.format(scores))"
      ],
      "metadata": {
        "execution": {
          "iopub.status.busy": "2023-10-11T18:28:49.011218Z",
          "iopub.execute_input": "2023-10-11T18:28:49.011541Z",
          "iopub.status.idle": "2023-10-11T18:28:49.112389Z",
          "shell.execute_reply.started": "2023-10-11T18:28:49.011484Z",
          "shell.execute_reply": "2023-10-11T18:28:49.111328Z"
        },
        "trusted": true,
        "id": "-PcJuXnCzUtG",
        "outputId": "91907d5b-f15a-4f2f-be7f-0d8e36440664",
        "colab": {
          "base_uri": "https://localhost:8080/"
        }
      },
      "execution_count": 77,
      "outputs": [
        {
          "output_type": "stream",
          "name": "stdout",
          "text": [
            "Cross-validation scores:[0.94545455 0.94545455 0.96363636 1.         0.96363636 1.\n",
            " 0.98148148 0.96296296 1.         0.94444444]\n"
          ]
        }
      ]
    },
    {
      "cell_type": "code",
      "source": [
        "# compute Average cross-validation score\n",
        "\n",
        "print('Average cross-validation score: {:.4f}'.format(scores.mean()))"
      ],
      "metadata": {
        "execution": {
          "iopub.status.busy": "2023-10-11T18:28:49.114020Z",
          "iopub.execute_input": "2023-10-11T18:28:49.115116Z",
          "iopub.status.idle": "2023-10-11T18:28:49.122454Z",
          "shell.execute_reply.started": "2023-10-11T18:28:49.115078Z",
          "shell.execute_reply": "2023-10-11T18:28:49.121110Z"
        },
        "trusted": true,
        "id": "vlQMA5TyzUtG",
        "outputId": "91c25ece-bf91-43af-be39-86af589799f6",
        "colab": {
          "base_uri": "https://localhost:8080/"
        }
      },
      "execution_count": 78,
      "outputs": [
        {
          "output_type": "stream",
          "name": "stdout",
          "text": [
            "Average cross-validation score: 0.9707\n"
          ]
        }
      ]
    }
  ]
}